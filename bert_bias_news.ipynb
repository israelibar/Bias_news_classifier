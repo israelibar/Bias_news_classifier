{
  "nbformat": 4,
  "nbformat_minor": 0,
  "metadata": {
    "colab": {
      "name": "bert_bias_news.ipynb",
      "provenance": [],
      "collapsed_sections": []
    },
    "kernelspec": {
      "name": "python3",
      "display_name": "Python 3"
    },
    "language_info": {
      "name": "python"
    },
    "accelerator": "GPU",
    "widgets": {
      "application/vnd.jupyter.widget-state+json": {
        "0abb0444cd5143ee85ac5d08a360a679": {
          "model_module": "@jupyter-widgets/controls",
          "model_name": "HBoxModel",
          "model_module_version": "1.5.0",
          "state": {
            "_view_name": "HBoxView",
            "_dom_classes": [],
            "_model_name": "HBoxModel",
            "_view_module": "@jupyter-widgets/controls",
            "_model_module_version": "1.5.0",
            "_view_count": null,
            "_view_module_version": "1.5.0",
            "box_style": "",
            "layout": "IPY_MODEL_52bab9fa29fa469c8335206dc539d2ef",
            "_model_module": "@jupyter-widgets/controls",
            "children": [
              "IPY_MODEL_ac58222cf023484c90466cc93f48cc71",
              "IPY_MODEL_c167aec4cd90452290522f15d963c817",
              "IPY_MODEL_8253c881c6dd4a858076bf38ff46bcbd"
            ]
          }
        },
        "52bab9fa29fa469c8335206dc539d2ef": {
          "model_module": "@jupyter-widgets/base",
          "model_name": "LayoutModel",
          "model_module_version": "1.2.0",
          "state": {
            "_view_name": "LayoutView",
            "grid_template_rows": null,
            "right": null,
            "justify_content": null,
            "_view_module": "@jupyter-widgets/base",
            "overflow": null,
            "_model_module_version": "1.2.0",
            "_view_count": null,
            "flex_flow": null,
            "width": null,
            "min_width": null,
            "border": null,
            "align_items": null,
            "bottom": null,
            "_model_module": "@jupyter-widgets/base",
            "top": null,
            "grid_column": null,
            "overflow_y": null,
            "overflow_x": null,
            "grid_auto_flow": null,
            "grid_area": null,
            "grid_template_columns": null,
            "flex": null,
            "_model_name": "LayoutModel",
            "justify_items": null,
            "grid_row": null,
            "max_height": null,
            "align_content": null,
            "visibility": null,
            "align_self": null,
            "height": null,
            "min_height": null,
            "padding": null,
            "grid_auto_rows": null,
            "grid_gap": null,
            "max_width": null,
            "order": null,
            "_view_module_version": "1.2.0",
            "grid_template_areas": null,
            "object_position": null,
            "object_fit": null,
            "grid_auto_columns": null,
            "margin": null,
            "display": null,
            "left": null
          }
        },
        "ac58222cf023484c90466cc93f48cc71": {
          "model_module": "@jupyter-widgets/controls",
          "model_name": "HTMLModel",
          "model_module_version": "1.5.0",
          "state": {
            "_view_name": "HTMLView",
            "style": "IPY_MODEL_4fe090b235de4adcb1e38918725eb05a",
            "_dom_classes": [],
            "description": "",
            "_model_name": "HTMLModel",
            "placeholder": "​",
            "_view_module": "@jupyter-widgets/controls",
            "_model_module_version": "1.5.0",
            "value": "Downloading: 100%",
            "_view_count": null,
            "_view_module_version": "1.5.0",
            "description_tooltip": null,
            "_model_module": "@jupyter-widgets/controls",
            "layout": "IPY_MODEL_5a8520821ddb49429af5214f645fe808"
          }
        },
        "c167aec4cd90452290522f15d963c817": {
          "model_module": "@jupyter-widgets/controls",
          "model_name": "FloatProgressModel",
          "model_module_version": "1.5.0",
          "state": {
            "_view_name": "ProgressView",
            "style": "IPY_MODEL_16e29495851d48f685d933c63bdb5903",
            "_dom_classes": [],
            "description": "",
            "_model_name": "FloatProgressModel",
            "bar_style": "success",
            "max": 28,
            "_view_module": "@jupyter-widgets/controls",
            "_model_module_version": "1.5.0",
            "value": 28,
            "_view_count": null,
            "_view_module_version": "1.5.0",
            "orientation": "horizontal",
            "min": 0,
            "description_tooltip": null,
            "_model_module": "@jupyter-widgets/controls",
            "layout": "IPY_MODEL_df47901bb327454dabf20fec7ddac3b7"
          }
        },
        "8253c881c6dd4a858076bf38ff46bcbd": {
          "model_module": "@jupyter-widgets/controls",
          "model_name": "HTMLModel",
          "model_module_version": "1.5.0",
          "state": {
            "_view_name": "HTMLView",
            "style": "IPY_MODEL_4e9777d1a31444ae849de14169e07c4d",
            "_dom_classes": [],
            "description": "",
            "_model_name": "HTMLModel",
            "placeholder": "​",
            "_view_module": "@jupyter-widgets/controls",
            "_model_module_version": "1.5.0",
            "value": " 28.0/28.0 [00:00&lt;00:00, 695B/s]",
            "_view_count": null,
            "_view_module_version": "1.5.0",
            "description_tooltip": null,
            "_model_module": "@jupyter-widgets/controls",
            "layout": "IPY_MODEL_1af52c225874474385e4a91a097771f7"
          }
        },
        "4fe090b235de4adcb1e38918725eb05a": {
          "model_module": "@jupyter-widgets/controls",
          "model_name": "DescriptionStyleModel",
          "model_module_version": "1.5.0",
          "state": {
            "_view_name": "StyleView",
            "_model_name": "DescriptionStyleModel",
            "description_width": "",
            "_view_module": "@jupyter-widgets/base",
            "_model_module_version": "1.5.0",
            "_view_count": null,
            "_view_module_version": "1.2.0",
            "_model_module": "@jupyter-widgets/controls"
          }
        },
        "5a8520821ddb49429af5214f645fe808": {
          "model_module": "@jupyter-widgets/base",
          "model_name": "LayoutModel",
          "model_module_version": "1.2.0",
          "state": {
            "_view_name": "LayoutView",
            "grid_template_rows": null,
            "right": null,
            "justify_content": null,
            "_view_module": "@jupyter-widgets/base",
            "overflow": null,
            "_model_module_version": "1.2.0",
            "_view_count": null,
            "flex_flow": null,
            "width": null,
            "min_width": null,
            "border": null,
            "align_items": null,
            "bottom": null,
            "_model_module": "@jupyter-widgets/base",
            "top": null,
            "grid_column": null,
            "overflow_y": null,
            "overflow_x": null,
            "grid_auto_flow": null,
            "grid_area": null,
            "grid_template_columns": null,
            "flex": null,
            "_model_name": "LayoutModel",
            "justify_items": null,
            "grid_row": null,
            "max_height": null,
            "align_content": null,
            "visibility": null,
            "align_self": null,
            "height": null,
            "min_height": null,
            "padding": null,
            "grid_auto_rows": null,
            "grid_gap": null,
            "max_width": null,
            "order": null,
            "_view_module_version": "1.2.0",
            "grid_template_areas": null,
            "object_position": null,
            "object_fit": null,
            "grid_auto_columns": null,
            "margin": null,
            "display": null,
            "left": null
          }
        },
        "16e29495851d48f685d933c63bdb5903": {
          "model_module": "@jupyter-widgets/controls",
          "model_name": "ProgressStyleModel",
          "model_module_version": "1.5.0",
          "state": {
            "_view_name": "StyleView",
            "_model_name": "ProgressStyleModel",
            "description_width": "",
            "_view_module": "@jupyter-widgets/base",
            "_model_module_version": "1.5.0",
            "_view_count": null,
            "_view_module_version": "1.2.0",
            "bar_color": null,
            "_model_module": "@jupyter-widgets/controls"
          }
        },
        "df47901bb327454dabf20fec7ddac3b7": {
          "model_module": "@jupyter-widgets/base",
          "model_name": "LayoutModel",
          "model_module_version": "1.2.0",
          "state": {
            "_view_name": "LayoutView",
            "grid_template_rows": null,
            "right": null,
            "justify_content": null,
            "_view_module": "@jupyter-widgets/base",
            "overflow": null,
            "_model_module_version": "1.2.0",
            "_view_count": null,
            "flex_flow": null,
            "width": null,
            "min_width": null,
            "border": null,
            "align_items": null,
            "bottom": null,
            "_model_module": "@jupyter-widgets/base",
            "top": null,
            "grid_column": null,
            "overflow_y": null,
            "overflow_x": null,
            "grid_auto_flow": null,
            "grid_area": null,
            "grid_template_columns": null,
            "flex": null,
            "_model_name": "LayoutModel",
            "justify_items": null,
            "grid_row": null,
            "max_height": null,
            "align_content": null,
            "visibility": null,
            "align_self": null,
            "height": null,
            "min_height": null,
            "padding": null,
            "grid_auto_rows": null,
            "grid_gap": null,
            "max_width": null,
            "order": null,
            "_view_module_version": "1.2.0",
            "grid_template_areas": null,
            "object_position": null,
            "object_fit": null,
            "grid_auto_columns": null,
            "margin": null,
            "display": null,
            "left": null
          }
        },
        "4e9777d1a31444ae849de14169e07c4d": {
          "model_module": "@jupyter-widgets/controls",
          "model_name": "DescriptionStyleModel",
          "model_module_version": "1.5.0",
          "state": {
            "_view_name": "StyleView",
            "_model_name": "DescriptionStyleModel",
            "description_width": "",
            "_view_module": "@jupyter-widgets/base",
            "_model_module_version": "1.5.0",
            "_view_count": null,
            "_view_module_version": "1.2.0",
            "_model_module": "@jupyter-widgets/controls"
          }
        },
        "1af52c225874474385e4a91a097771f7": {
          "model_module": "@jupyter-widgets/base",
          "model_name": "LayoutModel",
          "model_module_version": "1.2.0",
          "state": {
            "_view_name": "LayoutView",
            "grid_template_rows": null,
            "right": null,
            "justify_content": null,
            "_view_module": "@jupyter-widgets/base",
            "overflow": null,
            "_model_module_version": "1.2.0",
            "_view_count": null,
            "flex_flow": null,
            "width": null,
            "min_width": null,
            "border": null,
            "align_items": null,
            "bottom": null,
            "_model_module": "@jupyter-widgets/base",
            "top": null,
            "grid_column": null,
            "overflow_y": null,
            "overflow_x": null,
            "grid_auto_flow": null,
            "grid_area": null,
            "grid_template_columns": null,
            "flex": null,
            "_model_name": "LayoutModel",
            "justify_items": null,
            "grid_row": null,
            "max_height": null,
            "align_content": null,
            "visibility": null,
            "align_self": null,
            "height": null,
            "min_height": null,
            "padding": null,
            "grid_auto_rows": null,
            "grid_gap": null,
            "max_width": null,
            "order": null,
            "_view_module_version": "1.2.0",
            "grid_template_areas": null,
            "object_position": null,
            "object_fit": null,
            "grid_auto_columns": null,
            "margin": null,
            "display": null,
            "left": null
          }
        },
        "825f65de0d1e49f5b801fb0a1c2607c2": {
          "model_module": "@jupyter-widgets/controls",
          "model_name": "HBoxModel",
          "model_module_version": "1.5.0",
          "state": {
            "_view_name": "HBoxView",
            "_dom_classes": [],
            "_model_name": "HBoxModel",
            "_view_module": "@jupyter-widgets/controls",
            "_model_module_version": "1.5.0",
            "_view_count": null,
            "_view_module_version": "1.5.0",
            "box_style": "",
            "layout": "IPY_MODEL_c11056e3f5da423d823c96a13b43adc4",
            "_model_module": "@jupyter-widgets/controls",
            "children": [
              "IPY_MODEL_ab5a02cfe05345bf82aa1ab5f7be2ade",
              "IPY_MODEL_3b0e276cf5ef4e74a7a84cc190dd812d",
              "IPY_MODEL_43cf9b85bcdd44ccb4ebd8b7b9199171"
            ]
          }
        },
        "c11056e3f5da423d823c96a13b43adc4": {
          "model_module": "@jupyter-widgets/base",
          "model_name": "LayoutModel",
          "model_module_version": "1.2.0",
          "state": {
            "_view_name": "LayoutView",
            "grid_template_rows": null,
            "right": null,
            "justify_content": null,
            "_view_module": "@jupyter-widgets/base",
            "overflow": null,
            "_model_module_version": "1.2.0",
            "_view_count": null,
            "flex_flow": null,
            "width": null,
            "min_width": null,
            "border": null,
            "align_items": null,
            "bottom": null,
            "_model_module": "@jupyter-widgets/base",
            "top": null,
            "grid_column": null,
            "overflow_y": null,
            "overflow_x": null,
            "grid_auto_flow": null,
            "grid_area": null,
            "grid_template_columns": null,
            "flex": null,
            "_model_name": "LayoutModel",
            "justify_items": null,
            "grid_row": null,
            "max_height": null,
            "align_content": null,
            "visibility": null,
            "align_self": null,
            "height": null,
            "min_height": null,
            "padding": null,
            "grid_auto_rows": null,
            "grid_gap": null,
            "max_width": null,
            "order": null,
            "_view_module_version": "1.2.0",
            "grid_template_areas": null,
            "object_position": null,
            "object_fit": null,
            "grid_auto_columns": null,
            "margin": null,
            "display": null,
            "left": null
          }
        },
        "ab5a02cfe05345bf82aa1ab5f7be2ade": {
          "model_module": "@jupyter-widgets/controls",
          "model_name": "HTMLModel",
          "model_module_version": "1.5.0",
          "state": {
            "_view_name": "HTMLView",
            "style": "IPY_MODEL_43d716a21c724cb38ecfaafe48b2114a",
            "_dom_classes": [],
            "description": "",
            "_model_name": "HTMLModel",
            "placeholder": "​",
            "_view_module": "@jupyter-widgets/controls",
            "_model_module_version": "1.5.0",
            "value": "Downloading: 100%",
            "_view_count": null,
            "_view_module_version": "1.5.0",
            "description_tooltip": null,
            "_model_module": "@jupyter-widgets/controls",
            "layout": "IPY_MODEL_adcc00e10e924295943c918e99627b1d"
          }
        },
        "3b0e276cf5ef4e74a7a84cc190dd812d": {
          "model_module": "@jupyter-widgets/controls",
          "model_name": "FloatProgressModel",
          "model_module_version": "1.5.0",
          "state": {
            "_view_name": "ProgressView",
            "style": "IPY_MODEL_6e803f1d369c4396b8047312458e36da",
            "_dom_classes": [],
            "description": "",
            "_model_name": "FloatProgressModel",
            "bar_style": "success",
            "max": 231508,
            "_view_module": "@jupyter-widgets/controls",
            "_model_module_version": "1.5.0",
            "value": 231508,
            "_view_count": null,
            "_view_module_version": "1.5.0",
            "orientation": "horizontal",
            "min": 0,
            "description_tooltip": null,
            "_model_module": "@jupyter-widgets/controls",
            "layout": "IPY_MODEL_3611afe90c4641269cb61d1ec705e0f4"
          }
        },
        "43cf9b85bcdd44ccb4ebd8b7b9199171": {
          "model_module": "@jupyter-widgets/controls",
          "model_name": "HTMLModel",
          "model_module_version": "1.5.0",
          "state": {
            "_view_name": "HTMLView",
            "style": "IPY_MODEL_22e129dce0364cddb3e9c826f80b4c1f",
            "_dom_classes": [],
            "description": "",
            "_model_name": "HTMLModel",
            "placeholder": "​",
            "_view_module": "@jupyter-widgets/controls",
            "_model_module_version": "1.5.0",
            "value": " 226k/226k [00:00&lt;00:00, 278kB/s]",
            "_view_count": null,
            "_view_module_version": "1.5.0",
            "description_tooltip": null,
            "_model_module": "@jupyter-widgets/controls",
            "layout": "IPY_MODEL_e31b364194a44e129afa01a43c2f816a"
          }
        },
        "43d716a21c724cb38ecfaafe48b2114a": {
          "model_module": "@jupyter-widgets/controls",
          "model_name": "DescriptionStyleModel",
          "model_module_version": "1.5.0",
          "state": {
            "_view_name": "StyleView",
            "_model_name": "DescriptionStyleModel",
            "description_width": "",
            "_view_module": "@jupyter-widgets/base",
            "_model_module_version": "1.5.0",
            "_view_count": null,
            "_view_module_version": "1.2.0",
            "_model_module": "@jupyter-widgets/controls"
          }
        },
        "adcc00e10e924295943c918e99627b1d": {
          "model_module": "@jupyter-widgets/base",
          "model_name": "LayoutModel",
          "model_module_version": "1.2.0",
          "state": {
            "_view_name": "LayoutView",
            "grid_template_rows": null,
            "right": null,
            "justify_content": null,
            "_view_module": "@jupyter-widgets/base",
            "overflow": null,
            "_model_module_version": "1.2.0",
            "_view_count": null,
            "flex_flow": null,
            "width": null,
            "min_width": null,
            "border": null,
            "align_items": null,
            "bottom": null,
            "_model_module": "@jupyter-widgets/base",
            "top": null,
            "grid_column": null,
            "overflow_y": null,
            "overflow_x": null,
            "grid_auto_flow": null,
            "grid_area": null,
            "grid_template_columns": null,
            "flex": null,
            "_model_name": "LayoutModel",
            "justify_items": null,
            "grid_row": null,
            "max_height": null,
            "align_content": null,
            "visibility": null,
            "align_self": null,
            "height": null,
            "min_height": null,
            "padding": null,
            "grid_auto_rows": null,
            "grid_gap": null,
            "max_width": null,
            "order": null,
            "_view_module_version": "1.2.0",
            "grid_template_areas": null,
            "object_position": null,
            "object_fit": null,
            "grid_auto_columns": null,
            "margin": null,
            "display": null,
            "left": null
          }
        },
        "6e803f1d369c4396b8047312458e36da": {
          "model_module": "@jupyter-widgets/controls",
          "model_name": "ProgressStyleModel",
          "model_module_version": "1.5.0",
          "state": {
            "_view_name": "StyleView",
            "_model_name": "ProgressStyleModel",
            "description_width": "",
            "_view_module": "@jupyter-widgets/base",
            "_model_module_version": "1.5.0",
            "_view_count": null,
            "_view_module_version": "1.2.0",
            "bar_color": null,
            "_model_module": "@jupyter-widgets/controls"
          }
        },
        "3611afe90c4641269cb61d1ec705e0f4": {
          "model_module": "@jupyter-widgets/base",
          "model_name": "LayoutModel",
          "model_module_version": "1.2.0",
          "state": {
            "_view_name": "LayoutView",
            "grid_template_rows": null,
            "right": null,
            "justify_content": null,
            "_view_module": "@jupyter-widgets/base",
            "overflow": null,
            "_model_module_version": "1.2.0",
            "_view_count": null,
            "flex_flow": null,
            "width": null,
            "min_width": null,
            "border": null,
            "align_items": null,
            "bottom": null,
            "_model_module": "@jupyter-widgets/base",
            "top": null,
            "grid_column": null,
            "overflow_y": null,
            "overflow_x": null,
            "grid_auto_flow": null,
            "grid_area": null,
            "grid_template_columns": null,
            "flex": null,
            "_model_name": "LayoutModel",
            "justify_items": null,
            "grid_row": null,
            "max_height": null,
            "align_content": null,
            "visibility": null,
            "align_self": null,
            "height": null,
            "min_height": null,
            "padding": null,
            "grid_auto_rows": null,
            "grid_gap": null,
            "max_width": null,
            "order": null,
            "_view_module_version": "1.2.0",
            "grid_template_areas": null,
            "object_position": null,
            "object_fit": null,
            "grid_auto_columns": null,
            "margin": null,
            "display": null,
            "left": null
          }
        },
        "22e129dce0364cddb3e9c826f80b4c1f": {
          "model_module": "@jupyter-widgets/controls",
          "model_name": "DescriptionStyleModel",
          "model_module_version": "1.5.0",
          "state": {
            "_view_name": "StyleView",
            "_model_name": "DescriptionStyleModel",
            "description_width": "",
            "_view_module": "@jupyter-widgets/base",
            "_model_module_version": "1.5.0",
            "_view_count": null,
            "_view_module_version": "1.2.0",
            "_model_module": "@jupyter-widgets/controls"
          }
        },
        "e31b364194a44e129afa01a43c2f816a": {
          "model_module": "@jupyter-widgets/base",
          "model_name": "LayoutModel",
          "model_module_version": "1.2.0",
          "state": {
            "_view_name": "LayoutView",
            "grid_template_rows": null,
            "right": null,
            "justify_content": null,
            "_view_module": "@jupyter-widgets/base",
            "overflow": null,
            "_model_module_version": "1.2.0",
            "_view_count": null,
            "flex_flow": null,
            "width": null,
            "min_width": null,
            "border": null,
            "align_items": null,
            "bottom": null,
            "_model_module": "@jupyter-widgets/base",
            "top": null,
            "grid_column": null,
            "overflow_y": null,
            "overflow_x": null,
            "grid_auto_flow": null,
            "grid_area": null,
            "grid_template_columns": null,
            "flex": null,
            "_model_name": "LayoutModel",
            "justify_items": null,
            "grid_row": null,
            "max_height": null,
            "align_content": null,
            "visibility": null,
            "align_self": null,
            "height": null,
            "min_height": null,
            "padding": null,
            "grid_auto_rows": null,
            "grid_gap": null,
            "max_width": null,
            "order": null,
            "_view_module_version": "1.2.0",
            "grid_template_areas": null,
            "object_position": null,
            "object_fit": null,
            "grid_auto_columns": null,
            "margin": null,
            "display": null,
            "left": null
          }
        },
        "4d31f5ea8aeb48499c9a016cb3f72aa7": {
          "model_module": "@jupyter-widgets/controls",
          "model_name": "HBoxModel",
          "model_module_version": "1.5.0",
          "state": {
            "_view_name": "HBoxView",
            "_dom_classes": [],
            "_model_name": "HBoxModel",
            "_view_module": "@jupyter-widgets/controls",
            "_model_module_version": "1.5.0",
            "_view_count": null,
            "_view_module_version": "1.5.0",
            "box_style": "",
            "layout": "IPY_MODEL_a4303a02349f4da0a666fd952695d218",
            "_model_module": "@jupyter-widgets/controls",
            "children": [
              "IPY_MODEL_e0d95279737e4c90acba4ed1e85de04f",
              "IPY_MODEL_d85ab3cc262f4b11900e3469c1478143",
              "IPY_MODEL_1a94250f93c548eaa89b072faea40bc0"
            ]
          }
        },
        "a4303a02349f4da0a666fd952695d218": {
          "model_module": "@jupyter-widgets/base",
          "model_name": "LayoutModel",
          "model_module_version": "1.2.0",
          "state": {
            "_view_name": "LayoutView",
            "grid_template_rows": null,
            "right": null,
            "justify_content": null,
            "_view_module": "@jupyter-widgets/base",
            "overflow": null,
            "_model_module_version": "1.2.0",
            "_view_count": null,
            "flex_flow": null,
            "width": null,
            "min_width": null,
            "border": null,
            "align_items": null,
            "bottom": null,
            "_model_module": "@jupyter-widgets/base",
            "top": null,
            "grid_column": null,
            "overflow_y": null,
            "overflow_x": null,
            "grid_auto_flow": null,
            "grid_area": null,
            "grid_template_columns": null,
            "flex": null,
            "_model_name": "LayoutModel",
            "justify_items": null,
            "grid_row": null,
            "max_height": null,
            "align_content": null,
            "visibility": null,
            "align_self": null,
            "height": null,
            "min_height": null,
            "padding": null,
            "grid_auto_rows": null,
            "grid_gap": null,
            "max_width": null,
            "order": null,
            "_view_module_version": "1.2.0",
            "grid_template_areas": null,
            "object_position": null,
            "object_fit": null,
            "grid_auto_columns": null,
            "margin": null,
            "display": null,
            "left": null
          }
        },
        "e0d95279737e4c90acba4ed1e85de04f": {
          "model_module": "@jupyter-widgets/controls",
          "model_name": "HTMLModel",
          "model_module_version": "1.5.0",
          "state": {
            "_view_name": "HTMLView",
            "style": "IPY_MODEL_e0264368166c4bc0a2725c58c9f6d171",
            "_dom_classes": [],
            "description": "",
            "_model_name": "HTMLModel",
            "placeholder": "​",
            "_view_module": "@jupyter-widgets/controls",
            "_model_module_version": "1.5.0",
            "value": "Downloading: 100%",
            "_view_count": null,
            "_view_module_version": "1.5.0",
            "description_tooltip": null,
            "_model_module": "@jupyter-widgets/controls",
            "layout": "IPY_MODEL_4bafcbdc3aa744d7ae72845bfd393f83"
          }
        },
        "d85ab3cc262f4b11900e3469c1478143": {
          "model_module": "@jupyter-widgets/controls",
          "model_name": "FloatProgressModel",
          "model_module_version": "1.5.0",
          "state": {
            "_view_name": "ProgressView",
            "style": "IPY_MODEL_6fbf4fd87ed74f5e83b74ec13494180c",
            "_dom_classes": [],
            "description": "",
            "_model_name": "FloatProgressModel",
            "bar_style": "success",
            "max": 466062,
            "_view_module": "@jupyter-widgets/controls",
            "_model_module_version": "1.5.0",
            "value": 466062,
            "_view_count": null,
            "_view_module_version": "1.5.0",
            "orientation": "horizontal",
            "min": 0,
            "description_tooltip": null,
            "_model_module": "@jupyter-widgets/controls",
            "layout": "IPY_MODEL_c54bbf08a98b45e7a658ac292663dee9"
          }
        },
        "1a94250f93c548eaa89b072faea40bc0": {
          "model_module": "@jupyter-widgets/controls",
          "model_name": "HTMLModel",
          "model_module_version": "1.5.0",
          "state": {
            "_view_name": "HTMLView",
            "style": "IPY_MODEL_274176874acf4a15a2a7b89d1c4824ce",
            "_dom_classes": [],
            "description": "",
            "_model_name": "HTMLModel",
            "placeholder": "​",
            "_view_module": "@jupyter-widgets/controls",
            "_model_module_version": "1.5.0",
            "value": " 455k/455k [00:00&lt;00:00, 624kB/s]",
            "_view_count": null,
            "_view_module_version": "1.5.0",
            "description_tooltip": null,
            "_model_module": "@jupyter-widgets/controls",
            "layout": "IPY_MODEL_86e068d984624650acbde723bf86bfe8"
          }
        },
        "e0264368166c4bc0a2725c58c9f6d171": {
          "model_module": "@jupyter-widgets/controls",
          "model_name": "DescriptionStyleModel",
          "model_module_version": "1.5.0",
          "state": {
            "_view_name": "StyleView",
            "_model_name": "DescriptionStyleModel",
            "description_width": "",
            "_view_module": "@jupyter-widgets/base",
            "_model_module_version": "1.5.0",
            "_view_count": null,
            "_view_module_version": "1.2.0",
            "_model_module": "@jupyter-widgets/controls"
          }
        },
        "4bafcbdc3aa744d7ae72845bfd393f83": {
          "model_module": "@jupyter-widgets/base",
          "model_name": "LayoutModel",
          "model_module_version": "1.2.0",
          "state": {
            "_view_name": "LayoutView",
            "grid_template_rows": null,
            "right": null,
            "justify_content": null,
            "_view_module": "@jupyter-widgets/base",
            "overflow": null,
            "_model_module_version": "1.2.0",
            "_view_count": null,
            "flex_flow": null,
            "width": null,
            "min_width": null,
            "border": null,
            "align_items": null,
            "bottom": null,
            "_model_module": "@jupyter-widgets/base",
            "top": null,
            "grid_column": null,
            "overflow_y": null,
            "overflow_x": null,
            "grid_auto_flow": null,
            "grid_area": null,
            "grid_template_columns": null,
            "flex": null,
            "_model_name": "LayoutModel",
            "justify_items": null,
            "grid_row": null,
            "max_height": null,
            "align_content": null,
            "visibility": null,
            "align_self": null,
            "height": null,
            "min_height": null,
            "padding": null,
            "grid_auto_rows": null,
            "grid_gap": null,
            "max_width": null,
            "order": null,
            "_view_module_version": "1.2.0",
            "grid_template_areas": null,
            "object_position": null,
            "object_fit": null,
            "grid_auto_columns": null,
            "margin": null,
            "display": null,
            "left": null
          }
        },
        "6fbf4fd87ed74f5e83b74ec13494180c": {
          "model_module": "@jupyter-widgets/controls",
          "model_name": "ProgressStyleModel",
          "model_module_version": "1.5.0",
          "state": {
            "_view_name": "StyleView",
            "_model_name": "ProgressStyleModel",
            "description_width": "",
            "_view_module": "@jupyter-widgets/base",
            "_model_module_version": "1.5.0",
            "_view_count": null,
            "_view_module_version": "1.2.0",
            "bar_color": null,
            "_model_module": "@jupyter-widgets/controls"
          }
        },
        "c54bbf08a98b45e7a658ac292663dee9": {
          "model_module": "@jupyter-widgets/base",
          "model_name": "LayoutModel",
          "model_module_version": "1.2.0",
          "state": {
            "_view_name": "LayoutView",
            "grid_template_rows": null,
            "right": null,
            "justify_content": null,
            "_view_module": "@jupyter-widgets/base",
            "overflow": null,
            "_model_module_version": "1.2.0",
            "_view_count": null,
            "flex_flow": null,
            "width": null,
            "min_width": null,
            "border": null,
            "align_items": null,
            "bottom": null,
            "_model_module": "@jupyter-widgets/base",
            "top": null,
            "grid_column": null,
            "overflow_y": null,
            "overflow_x": null,
            "grid_auto_flow": null,
            "grid_area": null,
            "grid_template_columns": null,
            "flex": null,
            "_model_name": "LayoutModel",
            "justify_items": null,
            "grid_row": null,
            "max_height": null,
            "align_content": null,
            "visibility": null,
            "align_self": null,
            "height": null,
            "min_height": null,
            "padding": null,
            "grid_auto_rows": null,
            "grid_gap": null,
            "max_width": null,
            "order": null,
            "_view_module_version": "1.2.0",
            "grid_template_areas": null,
            "object_position": null,
            "object_fit": null,
            "grid_auto_columns": null,
            "margin": null,
            "display": null,
            "left": null
          }
        },
        "274176874acf4a15a2a7b89d1c4824ce": {
          "model_module": "@jupyter-widgets/controls",
          "model_name": "DescriptionStyleModel",
          "model_module_version": "1.5.0",
          "state": {
            "_view_name": "StyleView",
            "_model_name": "DescriptionStyleModel",
            "description_width": "",
            "_view_module": "@jupyter-widgets/base",
            "_model_module_version": "1.5.0",
            "_view_count": null,
            "_view_module_version": "1.2.0",
            "_model_module": "@jupyter-widgets/controls"
          }
        },
        "86e068d984624650acbde723bf86bfe8": {
          "model_module": "@jupyter-widgets/base",
          "model_name": "LayoutModel",
          "model_module_version": "1.2.0",
          "state": {
            "_view_name": "LayoutView",
            "grid_template_rows": null,
            "right": null,
            "justify_content": null,
            "_view_module": "@jupyter-widgets/base",
            "overflow": null,
            "_model_module_version": "1.2.0",
            "_view_count": null,
            "flex_flow": null,
            "width": null,
            "min_width": null,
            "border": null,
            "align_items": null,
            "bottom": null,
            "_model_module": "@jupyter-widgets/base",
            "top": null,
            "grid_column": null,
            "overflow_y": null,
            "overflow_x": null,
            "grid_auto_flow": null,
            "grid_area": null,
            "grid_template_columns": null,
            "flex": null,
            "_model_name": "LayoutModel",
            "justify_items": null,
            "grid_row": null,
            "max_height": null,
            "align_content": null,
            "visibility": null,
            "align_self": null,
            "height": null,
            "min_height": null,
            "padding": null,
            "grid_auto_rows": null,
            "grid_gap": null,
            "max_width": null,
            "order": null,
            "_view_module_version": "1.2.0",
            "grid_template_areas": null,
            "object_position": null,
            "object_fit": null,
            "grid_auto_columns": null,
            "margin": null,
            "display": null,
            "left": null
          }
        },
        "97f49a326b074e76b599a21c4c00d6b1": {
          "model_module": "@jupyter-widgets/controls",
          "model_name": "HBoxModel",
          "model_module_version": "1.5.0",
          "state": {
            "_view_name": "HBoxView",
            "_dom_classes": [],
            "_model_name": "HBoxModel",
            "_view_module": "@jupyter-widgets/controls",
            "_model_module_version": "1.5.0",
            "_view_count": null,
            "_view_module_version": "1.5.0",
            "box_style": "",
            "layout": "IPY_MODEL_27565252d19540ab9f7d699c9bd850da",
            "_model_module": "@jupyter-widgets/controls",
            "children": [
              "IPY_MODEL_5989aeabd31945c3bc22d9fa42cb0889",
              "IPY_MODEL_a49ff132fd6b4ff8b8ab37dd83e45e69",
              "IPY_MODEL_dcafa9cce4714cd385f201d8650572fe"
            ]
          }
        },
        "27565252d19540ab9f7d699c9bd850da": {
          "model_module": "@jupyter-widgets/base",
          "model_name": "LayoutModel",
          "model_module_version": "1.2.0",
          "state": {
            "_view_name": "LayoutView",
            "grid_template_rows": null,
            "right": null,
            "justify_content": null,
            "_view_module": "@jupyter-widgets/base",
            "overflow": null,
            "_model_module_version": "1.2.0",
            "_view_count": null,
            "flex_flow": null,
            "width": null,
            "min_width": null,
            "border": null,
            "align_items": null,
            "bottom": null,
            "_model_module": "@jupyter-widgets/base",
            "top": null,
            "grid_column": null,
            "overflow_y": null,
            "overflow_x": null,
            "grid_auto_flow": null,
            "grid_area": null,
            "grid_template_columns": null,
            "flex": null,
            "_model_name": "LayoutModel",
            "justify_items": null,
            "grid_row": null,
            "max_height": null,
            "align_content": null,
            "visibility": null,
            "align_self": null,
            "height": null,
            "min_height": null,
            "padding": null,
            "grid_auto_rows": null,
            "grid_gap": null,
            "max_width": null,
            "order": null,
            "_view_module_version": "1.2.0",
            "grid_template_areas": null,
            "object_position": null,
            "object_fit": null,
            "grid_auto_columns": null,
            "margin": null,
            "display": null,
            "left": null
          }
        },
        "5989aeabd31945c3bc22d9fa42cb0889": {
          "model_module": "@jupyter-widgets/controls",
          "model_name": "HTMLModel",
          "model_module_version": "1.5.0",
          "state": {
            "_view_name": "HTMLView",
            "style": "IPY_MODEL_0456820fa9a84f6eb6229cdf590a90c2",
            "_dom_classes": [],
            "description": "",
            "_model_name": "HTMLModel",
            "placeholder": "​",
            "_view_module": "@jupyter-widgets/controls",
            "_model_module_version": "1.5.0",
            "value": "Downloading: 100%",
            "_view_count": null,
            "_view_module_version": "1.5.0",
            "description_tooltip": null,
            "_model_module": "@jupyter-widgets/controls",
            "layout": "IPY_MODEL_46d722ac14f348f5b6af23bf0d85922d"
          }
        },
        "a49ff132fd6b4ff8b8ab37dd83e45e69": {
          "model_module": "@jupyter-widgets/controls",
          "model_name": "FloatProgressModel",
          "model_module_version": "1.5.0",
          "state": {
            "_view_name": "ProgressView",
            "style": "IPY_MODEL_c1f388c2b7aa48cdbae91daa56de9dfb",
            "_dom_classes": [],
            "description": "",
            "_model_name": "FloatProgressModel",
            "bar_style": "success",
            "max": 570,
            "_view_module": "@jupyter-widgets/controls",
            "_model_module_version": "1.5.0",
            "value": 570,
            "_view_count": null,
            "_view_module_version": "1.5.0",
            "orientation": "horizontal",
            "min": 0,
            "description_tooltip": null,
            "_model_module": "@jupyter-widgets/controls",
            "layout": "IPY_MODEL_9c1581ca0f2a4e7c975d7f5d7bf2b932"
          }
        },
        "dcafa9cce4714cd385f201d8650572fe": {
          "model_module": "@jupyter-widgets/controls",
          "model_name": "HTMLModel",
          "model_module_version": "1.5.0",
          "state": {
            "_view_name": "HTMLView",
            "style": "IPY_MODEL_aa4565b4bb2b4951bdfcc634c38ed09f",
            "_dom_classes": [],
            "description": "",
            "_model_name": "HTMLModel",
            "placeholder": "​",
            "_view_module": "@jupyter-widgets/controls",
            "_model_module_version": "1.5.0",
            "value": " 570/570 [00:00&lt;00:00, 5.21kB/s]",
            "_view_count": null,
            "_view_module_version": "1.5.0",
            "description_tooltip": null,
            "_model_module": "@jupyter-widgets/controls",
            "layout": "IPY_MODEL_9f7942c0b5764acbb1d70b7d02d693b0"
          }
        },
        "0456820fa9a84f6eb6229cdf590a90c2": {
          "model_module": "@jupyter-widgets/controls",
          "model_name": "DescriptionStyleModel",
          "model_module_version": "1.5.0",
          "state": {
            "_view_name": "StyleView",
            "_model_name": "DescriptionStyleModel",
            "description_width": "",
            "_view_module": "@jupyter-widgets/base",
            "_model_module_version": "1.5.0",
            "_view_count": null,
            "_view_module_version": "1.2.0",
            "_model_module": "@jupyter-widgets/controls"
          }
        },
        "46d722ac14f348f5b6af23bf0d85922d": {
          "model_module": "@jupyter-widgets/base",
          "model_name": "LayoutModel",
          "model_module_version": "1.2.0",
          "state": {
            "_view_name": "LayoutView",
            "grid_template_rows": null,
            "right": null,
            "justify_content": null,
            "_view_module": "@jupyter-widgets/base",
            "overflow": null,
            "_model_module_version": "1.2.0",
            "_view_count": null,
            "flex_flow": null,
            "width": null,
            "min_width": null,
            "border": null,
            "align_items": null,
            "bottom": null,
            "_model_module": "@jupyter-widgets/base",
            "top": null,
            "grid_column": null,
            "overflow_y": null,
            "overflow_x": null,
            "grid_auto_flow": null,
            "grid_area": null,
            "grid_template_columns": null,
            "flex": null,
            "_model_name": "LayoutModel",
            "justify_items": null,
            "grid_row": null,
            "max_height": null,
            "align_content": null,
            "visibility": null,
            "align_self": null,
            "height": null,
            "min_height": null,
            "padding": null,
            "grid_auto_rows": null,
            "grid_gap": null,
            "max_width": null,
            "order": null,
            "_view_module_version": "1.2.0",
            "grid_template_areas": null,
            "object_position": null,
            "object_fit": null,
            "grid_auto_columns": null,
            "margin": null,
            "display": null,
            "left": null
          }
        },
        "c1f388c2b7aa48cdbae91daa56de9dfb": {
          "model_module": "@jupyter-widgets/controls",
          "model_name": "ProgressStyleModel",
          "model_module_version": "1.5.0",
          "state": {
            "_view_name": "StyleView",
            "_model_name": "ProgressStyleModel",
            "description_width": "",
            "_view_module": "@jupyter-widgets/base",
            "_model_module_version": "1.5.0",
            "_view_count": null,
            "_view_module_version": "1.2.0",
            "bar_color": null,
            "_model_module": "@jupyter-widgets/controls"
          }
        },
        "9c1581ca0f2a4e7c975d7f5d7bf2b932": {
          "model_module": "@jupyter-widgets/base",
          "model_name": "LayoutModel",
          "model_module_version": "1.2.0",
          "state": {
            "_view_name": "LayoutView",
            "grid_template_rows": null,
            "right": null,
            "justify_content": null,
            "_view_module": "@jupyter-widgets/base",
            "overflow": null,
            "_model_module_version": "1.2.0",
            "_view_count": null,
            "flex_flow": null,
            "width": null,
            "min_width": null,
            "border": null,
            "align_items": null,
            "bottom": null,
            "_model_module": "@jupyter-widgets/base",
            "top": null,
            "grid_column": null,
            "overflow_y": null,
            "overflow_x": null,
            "grid_auto_flow": null,
            "grid_area": null,
            "grid_template_columns": null,
            "flex": null,
            "_model_name": "LayoutModel",
            "justify_items": null,
            "grid_row": null,
            "max_height": null,
            "align_content": null,
            "visibility": null,
            "align_self": null,
            "height": null,
            "min_height": null,
            "padding": null,
            "grid_auto_rows": null,
            "grid_gap": null,
            "max_width": null,
            "order": null,
            "_view_module_version": "1.2.0",
            "grid_template_areas": null,
            "object_position": null,
            "object_fit": null,
            "grid_auto_columns": null,
            "margin": null,
            "display": null,
            "left": null
          }
        },
        "aa4565b4bb2b4951bdfcc634c38ed09f": {
          "model_module": "@jupyter-widgets/controls",
          "model_name": "DescriptionStyleModel",
          "model_module_version": "1.5.0",
          "state": {
            "_view_name": "StyleView",
            "_model_name": "DescriptionStyleModel",
            "description_width": "",
            "_view_module": "@jupyter-widgets/base",
            "_model_module_version": "1.5.0",
            "_view_count": null,
            "_view_module_version": "1.2.0",
            "_model_module": "@jupyter-widgets/controls"
          }
        },
        "9f7942c0b5764acbb1d70b7d02d693b0": {
          "model_module": "@jupyter-widgets/base",
          "model_name": "LayoutModel",
          "model_module_version": "1.2.0",
          "state": {
            "_view_name": "LayoutView",
            "grid_template_rows": null,
            "right": null,
            "justify_content": null,
            "_view_module": "@jupyter-widgets/base",
            "overflow": null,
            "_model_module_version": "1.2.0",
            "_view_count": null,
            "flex_flow": null,
            "width": null,
            "min_width": null,
            "border": null,
            "align_items": null,
            "bottom": null,
            "_model_module": "@jupyter-widgets/base",
            "top": null,
            "grid_column": null,
            "overflow_y": null,
            "overflow_x": null,
            "grid_auto_flow": null,
            "grid_area": null,
            "grid_template_columns": null,
            "flex": null,
            "_model_name": "LayoutModel",
            "justify_items": null,
            "grid_row": null,
            "max_height": null,
            "align_content": null,
            "visibility": null,
            "align_self": null,
            "height": null,
            "min_height": null,
            "padding": null,
            "grid_auto_rows": null,
            "grid_gap": null,
            "max_width": null,
            "order": null,
            "_view_module_version": "1.2.0",
            "grid_template_areas": null,
            "object_position": null,
            "object_fit": null,
            "grid_auto_columns": null,
            "margin": null,
            "display": null,
            "left": null
          }
        },
        "f61b9ee81dd949bab57f92b865811d88": {
          "model_module": "@jupyter-widgets/controls",
          "model_name": "HBoxModel",
          "model_module_version": "1.5.0",
          "state": {
            "_view_name": "HBoxView",
            "_dom_classes": [],
            "_model_name": "HBoxModel",
            "_view_module": "@jupyter-widgets/controls",
            "_model_module_version": "1.5.0",
            "_view_count": null,
            "_view_module_version": "1.5.0",
            "box_style": "",
            "layout": "IPY_MODEL_8e54edb21bd44a2f930f4df5965dceb7",
            "_model_module": "@jupyter-widgets/controls",
            "children": [
              "IPY_MODEL_e6526d6b93f14616ac35200d9c9859df",
              "IPY_MODEL_343af9ec867941ff8191fcdc9d279965",
              "IPY_MODEL_8b7b33b278874af1bf8fb90d881cce10"
            ]
          }
        },
        "8e54edb21bd44a2f930f4df5965dceb7": {
          "model_module": "@jupyter-widgets/base",
          "model_name": "LayoutModel",
          "model_module_version": "1.2.0",
          "state": {
            "_view_name": "LayoutView",
            "grid_template_rows": null,
            "right": null,
            "justify_content": null,
            "_view_module": "@jupyter-widgets/base",
            "overflow": null,
            "_model_module_version": "1.2.0",
            "_view_count": null,
            "flex_flow": null,
            "width": null,
            "min_width": null,
            "border": null,
            "align_items": null,
            "bottom": null,
            "_model_module": "@jupyter-widgets/base",
            "top": null,
            "grid_column": null,
            "overflow_y": null,
            "overflow_x": null,
            "grid_auto_flow": null,
            "grid_area": null,
            "grid_template_columns": null,
            "flex": null,
            "_model_name": "LayoutModel",
            "justify_items": null,
            "grid_row": null,
            "max_height": null,
            "align_content": null,
            "visibility": null,
            "align_self": null,
            "height": null,
            "min_height": null,
            "padding": null,
            "grid_auto_rows": null,
            "grid_gap": null,
            "max_width": null,
            "order": null,
            "_view_module_version": "1.2.0",
            "grid_template_areas": null,
            "object_position": null,
            "object_fit": null,
            "grid_auto_columns": null,
            "margin": null,
            "display": null,
            "left": null
          }
        },
        "e6526d6b93f14616ac35200d9c9859df": {
          "model_module": "@jupyter-widgets/controls",
          "model_name": "HTMLModel",
          "model_module_version": "1.5.0",
          "state": {
            "_view_name": "HTMLView",
            "style": "IPY_MODEL_6edaab9552f7497284be5e46275f16ab",
            "_dom_classes": [],
            "description": "",
            "_model_name": "HTMLModel",
            "placeholder": "​",
            "_view_module": "@jupyter-widgets/controls",
            "_model_module_version": "1.5.0",
            "value": "Downloading: 100%",
            "_view_count": null,
            "_view_module_version": "1.5.0",
            "description_tooltip": null,
            "_model_module": "@jupyter-widgets/controls",
            "layout": "IPY_MODEL_dba9e73d6ac24b4c81058cb950eef9ad"
          }
        },
        "343af9ec867941ff8191fcdc9d279965": {
          "model_module": "@jupyter-widgets/controls",
          "model_name": "FloatProgressModel",
          "model_module_version": "1.5.0",
          "state": {
            "_view_name": "ProgressView",
            "style": "IPY_MODEL_ea14c6cd7a854b4b8e3e592dfb604402",
            "_dom_classes": [],
            "description": "",
            "_model_name": "FloatProgressModel",
            "bar_style": "success",
            "max": 536063208,
            "_view_module": "@jupyter-widgets/controls",
            "_model_module_version": "1.5.0",
            "value": 536063208,
            "_view_count": null,
            "_view_module_version": "1.5.0",
            "orientation": "horizontal",
            "min": 0,
            "description_tooltip": null,
            "_model_module": "@jupyter-widgets/controls",
            "layout": "IPY_MODEL_bcd42e83bedd4de488feebb3b0ba98d5"
          }
        },
        "8b7b33b278874af1bf8fb90d881cce10": {
          "model_module": "@jupyter-widgets/controls",
          "model_name": "HTMLModel",
          "model_module_version": "1.5.0",
          "state": {
            "_view_name": "HTMLView",
            "style": "IPY_MODEL_3953b4f29dcd44b09eec634529e6a672",
            "_dom_classes": [],
            "description": "",
            "_model_name": "HTMLModel",
            "placeholder": "​",
            "_view_module": "@jupyter-widgets/controls",
            "_model_module_version": "1.5.0",
            "value": " 511M/511M [00:38&lt;00:00, 9.23MB/s]",
            "_view_count": null,
            "_view_module_version": "1.5.0",
            "description_tooltip": null,
            "_model_module": "@jupyter-widgets/controls",
            "layout": "IPY_MODEL_d1e1485fbba846c181aab3c993c5f21b"
          }
        },
        "6edaab9552f7497284be5e46275f16ab": {
          "model_module": "@jupyter-widgets/controls",
          "model_name": "DescriptionStyleModel",
          "model_module_version": "1.5.0",
          "state": {
            "_view_name": "StyleView",
            "_model_name": "DescriptionStyleModel",
            "description_width": "",
            "_view_module": "@jupyter-widgets/base",
            "_model_module_version": "1.5.0",
            "_view_count": null,
            "_view_module_version": "1.2.0",
            "_model_module": "@jupyter-widgets/controls"
          }
        },
        "dba9e73d6ac24b4c81058cb950eef9ad": {
          "model_module": "@jupyter-widgets/base",
          "model_name": "LayoutModel",
          "model_module_version": "1.2.0",
          "state": {
            "_view_name": "LayoutView",
            "grid_template_rows": null,
            "right": null,
            "justify_content": null,
            "_view_module": "@jupyter-widgets/base",
            "overflow": null,
            "_model_module_version": "1.2.0",
            "_view_count": null,
            "flex_flow": null,
            "width": null,
            "min_width": null,
            "border": null,
            "align_items": null,
            "bottom": null,
            "_model_module": "@jupyter-widgets/base",
            "top": null,
            "grid_column": null,
            "overflow_y": null,
            "overflow_x": null,
            "grid_auto_flow": null,
            "grid_area": null,
            "grid_template_columns": null,
            "flex": null,
            "_model_name": "LayoutModel",
            "justify_items": null,
            "grid_row": null,
            "max_height": null,
            "align_content": null,
            "visibility": null,
            "align_self": null,
            "height": null,
            "min_height": null,
            "padding": null,
            "grid_auto_rows": null,
            "grid_gap": null,
            "max_width": null,
            "order": null,
            "_view_module_version": "1.2.0",
            "grid_template_areas": null,
            "object_position": null,
            "object_fit": null,
            "grid_auto_columns": null,
            "margin": null,
            "display": null,
            "left": null
          }
        },
        "ea14c6cd7a854b4b8e3e592dfb604402": {
          "model_module": "@jupyter-widgets/controls",
          "model_name": "ProgressStyleModel",
          "model_module_version": "1.5.0",
          "state": {
            "_view_name": "StyleView",
            "_model_name": "ProgressStyleModel",
            "description_width": "",
            "_view_module": "@jupyter-widgets/base",
            "_model_module_version": "1.5.0",
            "_view_count": null,
            "_view_module_version": "1.2.0",
            "bar_color": null,
            "_model_module": "@jupyter-widgets/controls"
          }
        },
        "bcd42e83bedd4de488feebb3b0ba98d5": {
          "model_module": "@jupyter-widgets/base",
          "model_name": "LayoutModel",
          "model_module_version": "1.2.0",
          "state": {
            "_view_name": "LayoutView",
            "grid_template_rows": null,
            "right": null,
            "justify_content": null,
            "_view_module": "@jupyter-widgets/base",
            "overflow": null,
            "_model_module_version": "1.2.0",
            "_view_count": null,
            "flex_flow": null,
            "width": null,
            "min_width": null,
            "border": null,
            "align_items": null,
            "bottom": null,
            "_model_module": "@jupyter-widgets/base",
            "top": null,
            "grid_column": null,
            "overflow_y": null,
            "overflow_x": null,
            "grid_auto_flow": null,
            "grid_area": null,
            "grid_template_columns": null,
            "flex": null,
            "_model_name": "LayoutModel",
            "justify_items": null,
            "grid_row": null,
            "max_height": null,
            "align_content": null,
            "visibility": null,
            "align_self": null,
            "height": null,
            "min_height": null,
            "padding": null,
            "grid_auto_rows": null,
            "grid_gap": null,
            "max_width": null,
            "order": null,
            "_view_module_version": "1.2.0",
            "grid_template_areas": null,
            "object_position": null,
            "object_fit": null,
            "grid_auto_columns": null,
            "margin": null,
            "display": null,
            "left": null
          }
        },
        "3953b4f29dcd44b09eec634529e6a672": {
          "model_module": "@jupyter-widgets/controls",
          "model_name": "DescriptionStyleModel",
          "model_module_version": "1.5.0",
          "state": {
            "_view_name": "StyleView",
            "_model_name": "DescriptionStyleModel",
            "description_width": "",
            "_view_module": "@jupyter-widgets/base",
            "_model_module_version": "1.5.0",
            "_view_count": null,
            "_view_module_version": "1.2.0",
            "_model_module": "@jupyter-widgets/controls"
          }
        },
        "d1e1485fbba846c181aab3c993c5f21b": {
          "model_module": "@jupyter-widgets/base",
          "model_name": "LayoutModel",
          "model_module_version": "1.2.0",
          "state": {
            "_view_name": "LayoutView",
            "grid_template_rows": null,
            "right": null,
            "justify_content": null,
            "_view_module": "@jupyter-widgets/base",
            "overflow": null,
            "_model_module_version": "1.2.0",
            "_view_count": null,
            "flex_flow": null,
            "width": null,
            "min_width": null,
            "border": null,
            "align_items": null,
            "bottom": null,
            "_model_module": "@jupyter-widgets/base",
            "top": null,
            "grid_column": null,
            "overflow_y": null,
            "overflow_x": null,
            "grid_auto_flow": null,
            "grid_area": null,
            "grid_template_columns": null,
            "flex": null,
            "_model_name": "LayoutModel",
            "justify_items": null,
            "grid_row": null,
            "max_height": null,
            "align_content": null,
            "visibility": null,
            "align_self": null,
            "height": null,
            "min_height": null,
            "padding": null,
            "grid_auto_rows": null,
            "grid_gap": null,
            "max_width": null,
            "order": null,
            "_view_module_version": "1.2.0",
            "grid_template_areas": null,
            "object_position": null,
            "object_fit": null,
            "grid_auto_columns": null,
            "margin": null,
            "display": null,
            "left": null
          }
        }
      }
    }
  },
  "cells": [
    {
      "cell_type": "code",
      "execution_count": 1,
      "metadata": {
        "colab": {
          "base_uri": "https://localhost:8080/"
        },
        "id": "3maRMR5l9e7z",
        "outputId": "41cb7356-6bcc-4177-b0fa-4e664fc220fd"
      },
      "outputs": [
        {
          "output_type": "stream",
          "name": "stdout",
          "text": [
            "Collecting transformers\n",
            "  Downloading transformers-4.16.2-py3-none-any.whl (3.5 MB)\n",
            "\u001b[K     |████████████████████████████████| 3.5 MB 4.3 MB/s \n",
            "\u001b[?25hRequirement already satisfied: requests in /usr/local/lib/python3.7/dist-packages (from transformers) (2.23.0)\n",
            "Requirement already satisfied: filelock in /usr/local/lib/python3.7/dist-packages (from transformers) (3.4.2)\n",
            "Collecting pyyaml>=5.1\n",
            "  Downloading PyYAML-6.0-cp37-cp37m-manylinux_2_5_x86_64.manylinux1_x86_64.manylinux_2_12_x86_64.manylinux2010_x86_64.whl (596 kB)\n",
            "\u001b[K     |████████████████████████████████| 596 kB 49.1 MB/s \n",
            "\u001b[?25hRequirement already satisfied: tqdm>=4.27 in /usr/local/lib/python3.7/dist-packages (from transformers) (4.62.3)\n",
            "Collecting huggingface-hub<1.0,>=0.1.0\n",
            "  Downloading huggingface_hub-0.4.0-py3-none-any.whl (67 kB)\n",
            "\u001b[K     |████████████████████████████████| 67 kB 5.1 MB/s \n",
            "\u001b[?25hRequirement already satisfied: packaging>=20.0 in /usr/local/lib/python3.7/dist-packages (from transformers) (21.3)\n",
            "Requirement already satisfied: importlib-metadata in /usr/local/lib/python3.7/dist-packages (from transformers) (4.11.0)\n",
            "Requirement already satisfied: numpy>=1.17 in /usr/local/lib/python3.7/dist-packages (from transformers) (1.21.5)\n",
            "Collecting sacremoses\n",
            "  Downloading sacremoses-0.0.47-py2.py3-none-any.whl (895 kB)\n",
            "\u001b[K     |████████████████████████████████| 895 kB 41.1 MB/s \n",
            "\u001b[?25hCollecting tokenizers!=0.11.3,>=0.10.1\n",
            "  Downloading tokenizers-0.11.5-cp37-cp37m-manylinux_2_12_x86_64.manylinux2010_x86_64.whl (6.8 MB)\n",
            "\u001b[K     |████████████████████████████████| 6.8 MB 24.3 MB/s \n",
            "\u001b[?25hRequirement already satisfied: regex!=2019.12.17 in /usr/local/lib/python3.7/dist-packages (from transformers) (2019.12.20)\n",
            "Requirement already satisfied: typing-extensions>=3.7.4.3 in /usr/local/lib/python3.7/dist-packages (from huggingface-hub<1.0,>=0.1.0->transformers) (3.10.0.2)\n",
            "Requirement already satisfied: pyparsing!=3.0.5,>=2.0.2 in /usr/local/lib/python3.7/dist-packages (from packaging>=20.0->transformers) (3.0.7)\n",
            "Requirement already satisfied: zipp>=0.5 in /usr/local/lib/python3.7/dist-packages (from importlib-metadata->transformers) (3.7.0)\n",
            "Requirement already satisfied: chardet<4,>=3.0.2 in /usr/local/lib/python3.7/dist-packages (from requests->transformers) (3.0.4)\n",
            "Requirement already satisfied: urllib3!=1.25.0,!=1.25.1,<1.26,>=1.21.1 in /usr/local/lib/python3.7/dist-packages (from requests->transformers) (1.24.3)\n",
            "Requirement already satisfied: certifi>=2017.4.17 in /usr/local/lib/python3.7/dist-packages (from requests->transformers) (2021.10.8)\n",
            "Requirement already satisfied: idna<3,>=2.5 in /usr/local/lib/python3.7/dist-packages (from requests->transformers) (2.10)\n",
            "Requirement already satisfied: click in /usr/local/lib/python3.7/dist-packages (from sacremoses->transformers) (7.1.2)\n",
            "Requirement already satisfied: joblib in /usr/local/lib/python3.7/dist-packages (from sacremoses->transformers) (1.1.0)\n",
            "Requirement already satisfied: six in /usr/local/lib/python3.7/dist-packages (from sacremoses->transformers) (1.15.0)\n",
            "Installing collected packages: pyyaml, tokenizers, sacremoses, huggingface-hub, transformers\n",
            "  Attempting uninstall: pyyaml\n",
            "    Found existing installation: PyYAML 3.13\n",
            "    Uninstalling PyYAML-3.13:\n",
            "      Successfully uninstalled PyYAML-3.13\n",
            "Successfully installed huggingface-hub-0.4.0 pyyaml-6.0 sacremoses-0.0.47 tokenizers-0.11.5 transformers-4.16.2\n"
          ]
        }
      ],
      "source": [
        "!pip install transformers\n",
        "import pandas as pd\n",
        "from sklearn.model_selection import train_test_split\n",
        "from transformers import BertTokenizer, TFBertForSequenceClassification\n",
        "import tensorflow as tf\n",
        "import numpy as np\n",
        "from tensorflow.keras.optimizers import Adam\n",
        "from tensorflow.keras.losses import SparseCategoricalCrossentropy\n",
        "from tensorflow.keras.callbacks import EarlyStopping\n"
      ]
    },
    {
      "cell_type": "code",
      "source": [
        "from google.colab import drive\n",
        "drive.mount('/content/drive')"
      ],
      "metadata": {
        "colab": {
          "base_uri": "https://localhost:8080/"
        },
        "id": "KU6yeJ2YzOL0",
        "outputId": "03cf3c0e-1cbe-4318-b81d-8afb57056c8f"
      },
      "execution_count": 2,
      "outputs": [
        {
          "output_type": "stream",
          "name": "stdout",
          "text": [
            "Mounted at /content/drive\n"
          ]
        }
      ]
    },
    {
      "cell_type": "markdown",
      "source": [
        "## Using Titles"
      ],
      "metadata": {
        "id": "Lk1iiZl7LNyY"
      }
    },
    {
      "cell_type": "code",
      "source": [
        "df = pd.read_json('/content/drive/MyDrive/fake_news_project/biased_news/tf_data/balanced_data_extremes.json')\n",
        "df['bias'] += 1\n",
        "df = df[['title', 'bias']]\n",
        "train_set, test_set = train_test_split(df, test_size=0.20, random_state=42)"
      ],
      "metadata": {
        "id": "VqK6rvTX-kBS"
      },
      "execution_count": 3,
      "outputs": []
    },
    {
      "cell_type": "code",
      "source": [
        "df['bias'].value_counts()"
      ],
      "metadata": {
        "colab": {
          "base_uri": "https://localhost:8080/"
        },
        "id": "XqsG8EKOAypZ",
        "outputId": "112ff50b-c5c1-4b2d-c036-2b7b17269c77"
      },
      "execution_count": 4,
      "outputs": [
        {
          "output_type": "execute_result",
          "data": {
            "text/plain": [
              "0    39787\n",
              "1    39787\n",
              "2    39787\n",
              "Name: bias, dtype: int64"
            ]
          },
          "metadata": {},
          "execution_count": 4
        }
      ]
    },
    {
      "cell_type": "code",
      "source": [
        "tokenizer = BertTokenizer.from_pretrained('bert-base-uncased')"
      ],
      "metadata": {
        "id": "XsqlgwNHBSQp"
      },
      "execution_count": 5,
      "outputs": []
    },
    {
      "cell_type": "code",
      "source": [
        "def biased_news_gen_title(df, tokenizer):\n",
        "    def g():\n",
        "        for row in df.itertuples():\n",
        "            text = row.title\n",
        "            label = row.bias\n",
        "            tokenized = tokenizer(row.title, \n",
        "                                  max_length=32, \n",
        "                                  padding='max_length', \n",
        "                                  truncation=True)\n",
        "            yield {k: np.array(tokenized[k]) for k in tokenized}, label\n",
        "    return g\n",
        "\n",
        "input_names = ['input_ids', 'token_type_ids', 'attention_mask']\n",
        "data_types = ({k: tf.int32 for k in input_names}, tf.int64)\n",
        "data_shapes = ({k: tf.TensorShape([None]) for k in input_names}, tf.TensorShape([]))\n",
        "\n",
        "biased_news_train = tf.data.Dataset.from_generator(\n",
        "    biased_news_gen_title(train_set, tokenizer),\n",
        "    data_types, data_shapes\n",
        ").shuffle(100).batch(32).repeat(4)\n",
        "\n",
        "biased_news_test = tf.data.Dataset.from_generator(\n",
        "    biased_news_gen_title(test_set, tokenizer),\n",
        "    data_types, data_shapes\n",
        ").shuffle(100).batch(32).repeat(4)"
      ],
      "metadata": {
        "id": "PfkRK6mQ-ONC"
      },
      "execution_count": 6,
      "outputs": []
    },
    {
      "cell_type": "code",
      "source": [
        "model = TFBertForSequenceClassification.from_pretrained('bert-base-uncased', num_labels=3)"
      ],
      "metadata": {
        "colab": {
          "base_uri": "https://localhost:8080/"
        },
        "id": "xFnUnDwb9kyW",
        "outputId": "471dfcfc-3c2b-475d-b210-9129efa8894a"
      },
      "execution_count": 7,
      "outputs": [
        {
          "output_type": "stream",
          "name": "stderr",
          "text": [
            "All model checkpoint layers were used when initializing TFBertForSequenceClassification.\n",
            "\n",
            "Some layers of TFBertForSequenceClassification were not initialized from the model checkpoint at bert-base-uncased and are newly initialized: ['classifier']\n",
            "You should probably TRAIN this model on a down-stream task to be able to use it for predictions and inference.\n"
          ]
        }
      ]
    },
    {
      "cell_type": "code",
      "source": [
        "model.compile(\n",
        "                    optimizer=Adam(learning_rate=3e-5),\n",
        "                    loss=SparseCategoricalCrossentropy(from_logits=True),\n",
        "                    metrics='accuracy'\n",
        "                  )"
      ],
      "metadata": {
        "id": "8hJLSgih9y8H"
      },
      "execution_count": 8,
      "outputs": []
    },
    {
      "cell_type": "code",
      "source": [
        "early_stopping = EarlyStopping(monitor='val_loss',\n",
        "                               patience=2,\n",
        "                               restore_best_weights=True,\n",
        "                               verbose=1)"
      ],
      "metadata": {
        "id": "Ncz6lzs190mz"
      },
      "execution_count": 9,
      "outputs": []
    },
    {
      "cell_type": "code",
      "source": [
        "history = model.fit(\n",
        "                    biased_news_train,\n",
        "                    validation_data=biased_news_test, \n",
        "                    epochs=15,\n",
        "                    steps_per_epoch=128,\n",
        "                    validation_steps=32,\n",
        "                    callbacks=[early_stopping])"
      ],
      "metadata": {
        "colab": {
          "base_uri": "https://localhost:8080/"
        },
        "id": "tPJcYt7C93VZ",
        "outputId": "bcb65af2-0a34-4b31-9a3b-8911dc95b648"
      },
      "execution_count": 10,
      "outputs": [
        {
          "output_type": "stream",
          "name": "stdout",
          "text": [
            "Epoch 1/15\n",
            "128/128 [==============================] - 99s 568ms/step - loss: 0.9933 - accuracy: 0.4883 - val_loss: 0.8524 - val_accuracy: 0.6094\n",
            "Epoch 2/15\n",
            "128/128 [==============================] - 67s 527ms/step - loss: 0.8305 - accuracy: 0.6255 - val_loss: 0.7666 - val_accuracy: 0.6572\n",
            "Epoch 3/15\n",
            "128/128 [==============================] - 68s 528ms/step - loss: 0.7627 - accuracy: 0.6553 - val_loss: 0.7577 - val_accuracy: 0.6611\n",
            "Epoch 4/15\n",
            "128/128 [==============================] - 67s 527ms/step - loss: 0.7230 - accuracy: 0.6848 - val_loss: 0.6990 - val_accuracy: 0.6846\n",
            "Epoch 5/15\n",
            "128/128 [==============================] - 67s 527ms/step - loss: 0.7136 - accuracy: 0.6841 - val_loss: 0.6951 - val_accuracy: 0.7051\n",
            "Epoch 6/15\n",
            "128/128 [==============================] - 67s 526ms/step - loss: 0.6968 - accuracy: 0.6958 - val_loss: 0.6817 - val_accuracy: 0.7041\n",
            "Epoch 7/15\n",
            "128/128 [==============================] - 67s 526ms/step - loss: 0.6885 - accuracy: 0.7031 - val_loss: 0.6727 - val_accuracy: 0.6953\n",
            "Epoch 8/15\n",
            "128/128 [==============================] - 67s 527ms/step - loss: 0.6813 - accuracy: 0.6992 - val_loss: 0.6518 - val_accuracy: 0.7148\n",
            "Epoch 9/15\n",
            "128/128 [==============================] - 67s 526ms/step - loss: 0.6722 - accuracy: 0.7031 - val_loss: 0.6330 - val_accuracy: 0.7168\n",
            "Epoch 10/15\n",
            "128/128 [==============================] - 67s 525ms/step - loss: 0.6420 - accuracy: 0.7283 - val_loss: 0.6390 - val_accuracy: 0.7090\n",
            "Epoch 11/15\n",
            "128/128 [==============================] - ETA: 0s - loss: 0.6484 - accuracy: 0.7183Restoring model weights from the end of the best epoch: 9.\n",
            "128/128 [==============================] - 67s 525ms/step - loss: 0.6484 - accuracy: 0.7183 - val_loss: 0.6387 - val_accuracy: 0.7246\n",
            "Epoch 11: early stopping\n"
          ]
        }
      ]
    },
    {
      "cell_type": "markdown",
      "source": [
        "## Using Content"
      ],
      "metadata": {
        "id": "IW7JvX-FLJ2r"
      }
    },
    {
      "cell_type": "code",
      "source": [
        "df = pd.read_json('/content/drive/MyDrive/fake_news_project/biased_news/tf_data/balanced_data_extremes.json')\n",
        "df['bias'] += 1\n",
        "df = df[['content', 'bias']]\n",
        "train_set, test_set = train_test_split(df, test_size=0.20, random_state=42)"
      ],
      "metadata": {
        "id": "kYCC8wIHGebe"
      },
      "execution_count": null,
      "outputs": []
    },
    {
      "cell_type": "code",
      "source": [
        "tokenizer = BertTokenizer.from_pretrained('bert-base-uncased')"
      ],
      "metadata": {
        "id": "8MrLMsXVLgv6"
      },
      "execution_count": null,
      "outputs": []
    },
    {
      "cell_type": "code",
      "source": [
        "def biased_news_gen_content(df, tokenizer):\n",
        "    def g():\n",
        "        for row in df.itertuples():\n",
        "            text = row.content\n",
        "            label = row.bias\n",
        "            tokenized = tokenizer(row.content, \n",
        "                                  max_length=512, \n",
        "                                  padding='max_length', \n",
        "                                  truncation=True)\n",
        "            yield {k: np.array(tokenized[k]) for k in tokenized}, label\n",
        "    return g\n",
        "\n",
        "input_names = ['input_ids', 'token_type_ids', 'attention_mask']\n",
        "data_types = ({k: tf.int32 for k in input_names}, tf.int64)\n",
        "data_shapes = ({k: tf.TensorShape([None]) for k in input_names}, tf.TensorShape([]))\n",
        "\n",
        "biased_news_train = tf.data.Dataset.from_generator(\n",
        "    biased_news_gen_content(train_set, tokenizer),\n",
        "    data_types, data_shapes\n",
        ").shuffle(100).batch(8).repeat(4)\n",
        "\n",
        "biased_news_test = tf.data.Dataset.from_generator(\n",
        "    biased_news_gen_content(test_set, tokenizer),\n",
        "    data_types, data_shapes\n",
        ").shuffle(100).batch(8).repeat(4)"
      ],
      "metadata": {
        "id": "eMZEOBv2IvZd"
      },
      "execution_count": null,
      "outputs": []
    },
    {
      "cell_type": "code",
      "source": [
        "model = TFBertForSequenceClassification.from_pretrained('bert-base-uncased', num_labels=3)"
      ],
      "metadata": {
        "id": "bRD6eGJVPb09"
      },
      "execution_count": null,
      "outputs": []
    },
    {
      "cell_type": "code",
      "source": [
        "model.compile(\n",
        "                    optimizer=Adam(learning_rate=3e-5),\n",
        "                    loss=SparseCategoricalCrossentropy(from_logits=True),\n",
        "                    metrics='accuracy'\n",
        "                  )"
      ],
      "metadata": {
        "id": "q-IhChIOH8sV"
      },
      "execution_count": null,
      "outputs": []
    },
    {
      "cell_type": "code",
      "source": [
        "early_stopping = EarlyStopping(monitor='val_loss',\n",
        "                               patience=2,\n",
        "                               restore_best_weights=True,\n",
        "                               verbose=1)"
      ],
      "metadata": {
        "id": "s4dmIklEL0uq"
      },
      "execution_count": null,
      "outputs": []
    },
    {
      "cell_type": "code",
      "source": [
        "history = model.fit(\n",
        "                    biased_news_train,\n",
        "                    validation_data=biased_news_test, \n",
        "                    epochs=15,\n",
        "                    steps_per_epoch=128,\n",
        "                    validation_steps=32,\n",
        "                    callbacks=[early_stopping])"
      ],
      "metadata": {
        "id": "PUYvlVupHqK4"
      },
      "execution_count": null,
      "outputs": []
    },
    {
      "cell_type": "markdown",
      "source": [
        "## Using both title and content"
      ],
      "metadata": {
        "id": "3lFJffM0rGW_"
      }
    },
    {
      "cell_type": "code",
      "source": [
        "df = pd.read_json('/content/drive/MyDrive/fake_news_project/biased_news/tf_data/balanced_data_extremes.json')\n",
        "df['bias'] += 1\n",
        "df = df[['title', 'content', 'bias']]\n",
        "train_set, test_set = train_test_split(df, test_size=0.20, random_state=42)"
      ],
      "metadata": {
        "id": "8-u3r-KrrLuP"
      },
      "execution_count": 3,
      "outputs": []
    },
    {
      "cell_type": "code",
      "source": [
        "tokenizer = BertTokenizer.from_pretrained('bert-base-uncased')"
      ],
      "metadata": {
        "id": "oAZsHdZVviGt",
        "colab": {
          "base_uri": "https://localhost:8080/",
          "height": 145,
          "referenced_widgets": [
            "0abb0444cd5143ee85ac5d08a360a679",
            "52bab9fa29fa469c8335206dc539d2ef",
            "ac58222cf023484c90466cc93f48cc71",
            "c167aec4cd90452290522f15d963c817",
            "8253c881c6dd4a858076bf38ff46bcbd",
            "4fe090b235de4adcb1e38918725eb05a",
            "5a8520821ddb49429af5214f645fe808",
            "16e29495851d48f685d933c63bdb5903",
            "df47901bb327454dabf20fec7ddac3b7",
            "4e9777d1a31444ae849de14169e07c4d",
            "1af52c225874474385e4a91a097771f7",
            "825f65de0d1e49f5b801fb0a1c2607c2",
            "c11056e3f5da423d823c96a13b43adc4",
            "ab5a02cfe05345bf82aa1ab5f7be2ade",
            "3b0e276cf5ef4e74a7a84cc190dd812d",
            "43cf9b85bcdd44ccb4ebd8b7b9199171",
            "43d716a21c724cb38ecfaafe48b2114a",
            "adcc00e10e924295943c918e99627b1d",
            "6e803f1d369c4396b8047312458e36da",
            "3611afe90c4641269cb61d1ec705e0f4",
            "22e129dce0364cddb3e9c826f80b4c1f",
            "e31b364194a44e129afa01a43c2f816a",
            "4d31f5ea8aeb48499c9a016cb3f72aa7",
            "a4303a02349f4da0a666fd952695d218",
            "e0d95279737e4c90acba4ed1e85de04f",
            "d85ab3cc262f4b11900e3469c1478143",
            "1a94250f93c548eaa89b072faea40bc0",
            "e0264368166c4bc0a2725c58c9f6d171",
            "4bafcbdc3aa744d7ae72845bfd393f83",
            "6fbf4fd87ed74f5e83b74ec13494180c",
            "c54bbf08a98b45e7a658ac292663dee9",
            "274176874acf4a15a2a7b89d1c4824ce",
            "86e068d984624650acbde723bf86bfe8",
            "97f49a326b074e76b599a21c4c00d6b1",
            "27565252d19540ab9f7d699c9bd850da",
            "5989aeabd31945c3bc22d9fa42cb0889",
            "a49ff132fd6b4ff8b8ab37dd83e45e69",
            "dcafa9cce4714cd385f201d8650572fe",
            "0456820fa9a84f6eb6229cdf590a90c2",
            "46d722ac14f348f5b6af23bf0d85922d",
            "c1f388c2b7aa48cdbae91daa56de9dfb",
            "9c1581ca0f2a4e7c975d7f5d7bf2b932",
            "aa4565b4bb2b4951bdfcc634c38ed09f",
            "9f7942c0b5764acbb1d70b7d02d693b0"
          ]
        },
        "outputId": "1f432088-415d-408a-ae93-65b861413f76"
      },
      "execution_count": 4,
      "outputs": [
        {
          "output_type": "display_data",
          "data": {
            "application/vnd.jupyter.widget-view+json": {
              "model_id": "0abb0444cd5143ee85ac5d08a360a679",
              "version_minor": 0,
              "version_major": 2
            },
            "text/plain": [
              "Downloading:   0%|          | 0.00/28.0 [00:00<?, ?B/s]"
            ]
          },
          "metadata": {}
        },
        {
          "output_type": "display_data",
          "data": {
            "application/vnd.jupyter.widget-view+json": {
              "model_id": "825f65de0d1e49f5b801fb0a1c2607c2",
              "version_minor": 0,
              "version_major": 2
            },
            "text/plain": [
              "Downloading:   0%|          | 0.00/226k [00:00<?, ?B/s]"
            ]
          },
          "metadata": {}
        },
        {
          "output_type": "display_data",
          "data": {
            "application/vnd.jupyter.widget-view+json": {
              "model_id": "4d31f5ea8aeb48499c9a016cb3f72aa7",
              "version_minor": 0,
              "version_major": 2
            },
            "text/plain": [
              "Downloading:   0%|          | 0.00/455k [00:00<?, ?B/s]"
            ]
          },
          "metadata": {}
        },
        {
          "output_type": "display_data",
          "data": {
            "application/vnd.jupyter.widget-view+json": {
              "model_id": "97f49a326b074e76b599a21c4c00d6b1",
              "version_minor": 0,
              "version_major": 2
            },
            "text/plain": [
              "Downloading:   0%|          | 0.00/570 [00:00<?, ?B/s]"
            ]
          },
          "metadata": {}
        }
      ]
    },
    {
      "cell_type": "code",
      "source": [
        "def biased_news_gen_title_content(df, tokenizer):\n",
        "    def g():\n",
        "        for row in df.itertuples():\n",
        "            text = row.title + ' ' + row.content\n",
        "            label = row.bias\n",
        "            tokenized = tokenizer(text, \n",
        "                                  max_length=256, \n",
        "                                  padding='max_length', \n",
        "                                  truncation=True)\n",
        "            yield {k: np.array(tokenized[k]) for k in tokenized}, label\n",
        "    return g\n",
        "\n",
        "input_names = ['input_ids', 'token_type_ids', 'attention_mask']\n",
        "data_types = ({k: tf.int32 for k in input_names}, tf.int64)\n",
        "data_shapes = ({k: tf.TensorShape([None]) for k in input_names}, tf.TensorShape([]))\n",
        "\n",
        "biased_news_train = tf.data.Dataset.from_generator(\n",
        "    biased_news_gen_title_content(train_set, tokenizer),\n",
        "    data_types, data_shapes\n",
        ").shuffle(100).batch(16).repeat(4)\n",
        "\n",
        "biased_news_test = tf.data.Dataset.from_generator(\n",
        "    biased_news_gen_title_content(test_set, tokenizer),\n",
        "    data_types, data_shapes\n",
        ").shuffle(100).batch(16).repeat(4)"
      ],
      "metadata": {
        "id": "1aMXJUuXrlXL"
      },
      "execution_count": 5,
      "outputs": []
    },
    {
      "cell_type": "code",
      "source": [
        "model = TFBertForSequenceClassification.from_pretrained('bert-base-uncased', num_labels=3)"
      ],
      "metadata": {
        "colab": {
          "base_uri": "https://localhost:8080/",
          "height": 140,
          "referenced_widgets": [
            "f61b9ee81dd949bab57f92b865811d88",
            "8e54edb21bd44a2f930f4df5965dceb7",
            "e6526d6b93f14616ac35200d9c9859df",
            "343af9ec867941ff8191fcdc9d279965",
            "8b7b33b278874af1bf8fb90d881cce10",
            "6edaab9552f7497284be5e46275f16ab",
            "dba9e73d6ac24b4c81058cb950eef9ad",
            "ea14c6cd7a854b4b8e3e592dfb604402",
            "bcd42e83bedd4de488feebb3b0ba98d5",
            "3953b4f29dcd44b09eec634529e6a672",
            "d1e1485fbba846c181aab3c993c5f21b"
          ]
        },
        "id": "aW5GTOCAr0re",
        "outputId": "e4e06ea4-fff1-4d0a-c250-efc229cd0209"
      },
      "execution_count": 6,
      "outputs": [
        {
          "output_type": "display_data",
          "data": {
            "application/vnd.jupyter.widget-view+json": {
              "model_id": "f61b9ee81dd949bab57f92b865811d88",
              "version_minor": 0,
              "version_major": 2
            },
            "text/plain": [
              "Downloading:   0%|          | 0.00/511M [00:00<?, ?B/s]"
            ]
          },
          "metadata": {}
        },
        {
          "output_type": "stream",
          "name": "stderr",
          "text": [
            "All model checkpoint layers were used when initializing TFBertForSequenceClassification.\n",
            "\n",
            "Some layers of TFBertForSequenceClassification were not initialized from the model checkpoint at bert-base-uncased and are newly initialized: ['classifier']\n",
            "You should probably TRAIN this model on a down-stream task to be able to use it for predictions and inference.\n"
          ]
        }
      ]
    },
    {
      "cell_type": "code",
      "source": [
        "model.compile(\n",
        "                    optimizer=Adam(learning_rate=4e-5),\n",
        "                    loss=SparseCategoricalCrossentropy(from_logits=True),\n",
        "                    metrics='accuracy'\n",
        "                  )"
      ],
      "metadata": {
        "id": "046wGqvtr79n"
      },
      "execution_count": 7,
      "outputs": []
    },
    {
      "cell_type": "code",
      "source": [
        "early_stopping = EarlyStopping(monitor='val_loss',\n",
        "                               patience=4,\n",
        "                               restore_best_weights=True,\n",
        "                               verbose=1)"
      ],
      "metadata": {
        "id": "X4f42zq4r_c1"
      },
      "execution_count": 8,
      "outputs": []
    },
    {
      "cell_type": "code",
      "source": [
        "history = model.fit(\n",
        "                    biased_news_train,\n",
        "                    validation_data=biased_news_test, \n",
        "                    epochs=30,\n",
        "                    steps_per_epoch=128,\n",
        "                    validation_steps=32,\n",
        "                    callbacks=[early_stopping])"
      ],
      "metadata": {
        "colab": {
          "base_uri": "https://localhost:8080/"
        },
        "id": "asovPEY5sBeH",
        "outputId": "a6bff208-fef9-4911-8104-b7bcbd0bdd15"
      },
      "execution_count": 9,
      "outputs": [
        {
          "output_type": "stream",
          "name": "stdout",
          "text": [
            "Epoch 1/30\n",
            "128/128 [==============================] - 321s 2s/step - loss: 0.9463 - accuracy: 0.5034 - val_loss: 0.7176 - val_accuracy: 0.6797\n",
            "Epoch 2/30\n",
            "128/128 [==============================] - 292s 2s/step - loss: 0.7026 - accuracy: 0.6846 - val_loss: 0.6430 - val_accuracy: 0.7031\n",
            "Epoch 3/30\n",
            "128/128 [==============================] - 289s 2s/step - loss: 0.5992 - accuracy: 0.7339 - val_loss: 0.5180 - val_accuracy: 0.7832\n",
            "Epoch 4/30\n",
            "128/128 [==============================] - 289s 2s/step - loss: 0.5966 - accuracy: 0.7432 - val_loss: 0.5029 - val_accuracy: 0.7871\n",
            "Epoch 5/30\n",
            "128/128 [==============================] - 288s 2s/step - loss: 0.5218 - accuracy: 0.7754 - val_loss: 0.5245 - val_accuracy: 0.7617\n",
            "Epoch 6/30\n",
            "128/128 [==============================] - 288s 2s/step - loss: 0.4926 - accuracy: 0.7949 - val_loss: 0.4859 - val_accuracy: 0.7988\n",
            "Epoch 7/30\n",
            "128/128 [==============================] - 287s 2s/step - loss: 0.4579 - accuracy: 0.8057 - val_loss: 0.4513 - val_accuracy: 0.8203\n",
            "Epoch 8/30\n",
            "128/128 [==============================] - 291s 2s/step - loss: 0.4339 - accuracy: 0.8291 - val_loss: 0.4188 - val_accuracy: 0.8281\n",
            "Epoch 9/30\n",
            "128/128 [==============================] - 287s 2s/step - loss: 0.4373 - accuracy: 0.8164 - val_loss: 0.4438 - val_accuracy: 0.8301\n",
            "Epoch 10/30\n",
            "128/128 [==============================] - 287s 2s/step - loss: 0.4221 - accuracy: 0.8311 - val_loss: 0.4028 - val_accuracy: 0.8301\n",
            "Epoch 11/30\n",
            "128/128 [==============================] - 286s 2s/step - loss: 0.4094 - accuracy: 0.8306 - val_loss: 0.3769 - val_accuracy: 0.8574\n",
            "Epoch 12/30\n",
            "128/128 [==============================] - 285s 2s/step - loss: 0.4433 - accuracy: 0.8179 - val_loss: 0.3407 - val_accuracy: 0.8711\n",
            "Epoch 13/30\n",
            "128/128 [==============================] - 285s 2s/step - loss: 0.3953 - accuracy: 0.8447 - val_loss: 0.3419 - val_accuracy: 0.8477\n",
            "Epoch 14/30\n",
            "128/128 [==============================] - 285s 2s/step - loss: 0.3775 - accuracy: 0.8511 - val_loss: 0.3094 - val_accuracy: 0.8672\n",
            "Epoch 15/30\n",
            "128/128 [==============================] - 285s 2s/step - loss: 0.3960 - accuracy: 0.8301 - val_loss: 0.3097 - val_accuracy: 0.8594\n",
            "Epoch 16/30\n",
            "128/128 [==============================] - 284s 2s/step - loss: 0.3892 - accuracy: 0.8452 - val_loss: 0.3362 - val_accuracy: 0.8574\n",
            "Epoch 17/30\n",
            "128/128 [==============================] - 283s 2s/step - loss: 0.3832 - accuracy: 0.8486 - val_loss: 0.3248 - val_accuracy: 0.8438\n",
            "Epoch 18/30\n",
            "128/128 [==============================] - ETA: 0s - loss: 0.3759 - accuracy: 0.8452Restoring model weights from the end of the best epoch: 14.\n",
            "128/128 [==============================] - 283s 2s/step - loss: 0.3759 - accuracy: 0.8452 - val_loss: 0.3159 - val_accuracy: 0.8594\n",
            "Epoch 18: early stopping\n"
          ]
        }
      ]
    },
    {
      "cell_type": "code",
      "source": [
        "model.evaluate(biased_news_test)"
      ],
      "metadata": {
        "colab": {
          "base_uri": "https://localhost:8080/"
        },
        "id": "cFb3IH4_4p61",
        "outputId": "b9c13c3a-e0c6-4225-e81d-4dcb1fe68306"
      },
      "execution_count": 12,
      "outputs": [
        {
          "output_type": "stream",
          "name": "stdout",
          "text": [
            "5972/5972 [==============================] - 5252s 879ms/step - loss: 0.3647 - accuracy: 0.8561\n"
          ]
        },
        {
          "output_type": "execute_result",
          "data": {
            "text/plain": [
              "[0.36471977829933167, 0.8560717105865479]"
            ]
          },
          "metadata": {},
          "execution_count": 12
        }
      ]
    },
    {
      "cell_type": "code",
      "source": [
        "model.save_pretrained('/content/drive/MyDrive/final_bias_news_model')"
      ],
      "metadata": {
        "id": "YVLOLeCLpCmW"
      },
      "execution_count": 14,
      "outputs": []
    },
    {
      "cell_type": "markdown",
      "source": [
        "## Using left and right only"
      ],
      "metadata": {
        "id": "ACmJisSdDLXm"
      }
    },
    {
      "cell_type": "code",
      "source": [
        "df = pd.read_json('/content/drive/MyDrive/fake_news_project/biased_news/tf_data/balanced_data_extremes.json')\n",
        "df['bias'] += 1\n",
        "df = df[['title', 'content', 'bias']]\n",
        "df = df[df['bias'].isin([0, 2])]\n",
        "df.loc[df['bias'] == 2, 'bias'] = 1\n",
        "train_set, test_set = train_test_split(df, test_size=0.20, random_state=42)"
      ],
      "metadata": {
        "id": "C-RjRLJlDQ-4"
      },
      "execution_count": 3,
      "outputs": []
    },
    {
      "cell_type": "code",
      "source": [
        "df['bias'].value_counts()"
      ],
      "metadata": {
        "colab": {
          "base_uri": "https://localhost:8080/"
        },
        "id": "u8ANpGx7FSay",
        "outputId": "def20d73-843c-4b7e-965a-6b9349039320"
      },
      "execution_count": 4,
      "outputs": [
        {
          "output_type": "execute_result",
          "data": {
            "text/plain": [
              "0    39787\n",
              "1    39787\n",
              "Name: bias, dtype: int64"
            ]
          },
          "metadata": {},
          "execution_count": 4
        }
      ]
    },
    {
      "cell_type": "code",
      "source": [
        "tokenizer = BertTokenizer.from_pretrained('bert-base-uncased')"
      ],
      "metadata": {
        "id": "JrBXmPQfDrlR"
      },
      "execution_count": 5,
      "outputs": []
    },
    {
      "cell_type": "code",
      "source": [
        "def biased_news_gen_title_content(df, tokenizer):\n",
        "    def g():\n",
        "        for row in df.itertuples():\n",
        "            text = row.title + ' ' + row.content\n",
        "            label = row.bias\n",
        "            tokenized = tokenizer(text, \n",
        "                                  max_length=256, \n",
        "                                  padding='max_length', \n",
        "                                  truncation=True)\n",
        "            yield {k: np.array(tokenized[k]) for k in tokenized}, label\n",
        "    return g\n",
        "\n",
        "input_names = ['input_ids', 'token_type_ids', 'attention_mask']\n",
        "data_types = ({k: tf.int32 for k in input_names}, tf.int64)\n",
        "data_shapes = ({k: tf.TensorShape([None]) for k in input_names}, tf.TensorShape([]))\n",
        "\n",
        "biased_news_train = tf.data.Dataset.from_generator(\n",
        "    biased_news_gen_title_content(train_set, tokenizer),\n",
        "    data_types, data_shapes\n",
        ").shuffle(100).batch(16).repeat(4)\n",
        "\n",
        "biased_news_test = tf.data.Dataset.from_generator(\n",
        "    biased_news_gen_title_content(test_set, tokenizer),\n",
        "    data_types, data_shapes\n",
        ").shuffle(100).batch(16).repeat(4)"
      ],
      "metadata": {
        "id": "i83TN7nsDt9A"
      },
      "execution_count": 6,
      "outputs": []
    },
    {
      "cell_type": "code",
      "source": [
        "model = TFBertForSequenceClassification.from_pretrained('bert-base-uncased')"
      ],
      "metadata": {
        "colab": {
          "base_uri": "https://localhost:8080/"
        },
        "id": "ZbGkaQ-3DwUE",
        "outputId": "9a5b190d-4f3c-4dda-826e-9200decf5285"
      },
      "execution_count": 7,
      "outputs": [
        {
          "output_type": "stream",
          "name": "stderr",
          "text": [
            "All model checkpoint layers were used when initializing TFBertForSequenceClassification.\n",
            "\n",
            "Some layers of TFBertForSequenceClassification were not initialized from the model checkpoint at bert-base-uncased and are newly initialized: ['classifier']\n",
            "You should probably TRAIN this model on a down-stream task to be able to use it for predictions and inference.\n"
          ]
        }
      ]
    },
    {
      "cell_type": "code",
      "source": [
        "model.compile(\n",
        "                    optimizer=Adam(learning_rate=3e-5),\n",
        "                    loss=SparseCategoricalCrossentropy(from_logits=True),\n",
        "                    metrics='accuracy'\n",
        "                  )"
      ],
      "metadata": {
        "id": "dVbNwO5XDzFu"
      },
      "execution_count": 8,
      "outputs": []
    },
    {
      "cell_type": "code",
      "source": [
        "early_stopping = EarlyStopping(monitor='val_loss',\n",
        "                               patience=4,\n",
        "                               restore_best_weights=True,\n",
        "                               verbose=1)"
      ],
      "metadata": {
        "id": "GoumOPx6D7zS"
      },
      "execution_count": 9,
      "outputs": []
    },
    {
      "cell_type": "code",
      "source": [
        " history = model.fit(\n",
        "                    biased_news_train,\n",
        "                    validation_data=biased_news_test, \n",
        "                    epochs=30,\n",
        "                    steps_per_epoch=128,\n",
        "                    validation_steps=32,\n",
        "                    callbacks=[early_stopping])"
      ],
      "metadata": {
        "colab": {
          "base_uri": "https://localhost:8080/"
        },
        "id": "ghUTOPCJD9sr",
        "outputId": "0d11133e-e604-440f-e309-e363363ca8bc"
      },
      "execution_count": 10,
      "outputs": [
        {
          "output_type": "stream",
          "name": "stdout",
          "text": [
            "Epoch 1/30\n",
            "128/128 [==============================] - 315s 2s/step - loss: 0.6442 - accuracy: 0.6250 - val_loss: 0.6256 - val_accuracy: 0.6367\n",
            "Epoch 2/30\n",
            "128/128 [==============================] - 279s 2s/step - loss: 0.5472 - accuracy: 0.7124 - val_loss: 0.5372 - val_accuracy: 0.7500\n",
            "Epoch 3/30\n",
            "128/128 [==============================] - 279s 2s/step - loss: 0.4630 - accuracy: 0.7812 - val_loss: 0.4529 - val_accuracy: 0.8027\n",
            "Epoch 4/30\n",
            "128/128 [==============================] - 278s 2s/step - loss: 0.4256 - accuracy: 0.8003 - val_loss: 0.4124 - val_accuracy: 0.8320\n",
            "Epoch 5/30\n",
            "128/128 [==============================] - 280s 2s/step - loss: 0.3919 - accuracy: 0.8247 - val_loss: 0.4457 - val_accuracy: 0.8125\n",
            "Epoch 6/30\n",
            "128/128 [==============================] - 279s 2s/step - loss: 0.3692 - accuracy: 0.8335 - val_loss: 0.3979 - val_accuracy: 0.8164\n",
            "Epoch 7/30\n",
            "128/128 [==============================] - 278s 2s/step - loss: 0.3627 - accuracy: 0.8291 - val_loss: 0.4638 - val_accuracy: 0.7754\n",
            "Epoch 8/30\n",
            "128/128 [==============================] - 278s 2s/step - loss: 0.3226 - accuracy: 0.8569 - val_loss: 0.3679 - val_accuracy: 0.8203\n",
            "Epoch 9/30\n",
            "128/128 [==============================] - 279s 2s/step - loss: 0.3659 - accuracy: 0.8335 - val_loss: 0.3800 - val_accuracy: 0.8203\n",
            "Epoch 10/30\n",
            "128/128 [==============================] - 277s 2s/step - loss: 0.3290 - accuracy: 0.8540 - val_loss: 0.3184 - val_accuracy: 0.8398\n",
            "Epoch 11/30\n",
            "128/128 [==============================] - 278s 2s/step - loss: 0.3247 - accuracy: 0.8569 - val_loss: 0.3167 - val_accuracy: 0.8516\n",
            "Epoch 12/30\n",
            "128/128 [==============================] - 279s 2s/step - loss: 0.3322 - accuracy: 0.8516 - val_loss: 0.3092 - val_accuracy: 0.8477\n",
            "Epoch 13/30\n",
            "128/128 [==============================] - 277s 2s/step - loss: 0.3112 - accuracy: 0.8613 - val_loss: 0.3112 - val_accuracy: 0.8301\n",
            "Epoch 14/30\n",
            "128/128 [==============================] - 277s 2s/step - loss: 0.2996 - accuracy: 0.8687 - val_loss: 0.3187 - val_accuracy: 0.8633\n",
            "Epoch 15/30\n",
            "128/128 [==============================] - 279s 2s/step - loss: 0.2971 - accuracy: 0.8760 - val_loss: 0.3297 - val_accuracy: 0.8457\n",
            "Epoch 16/30\n",
            "128/128 [==============================] - ETA: 0s - loss: 0.3000 - accuracy: 0.8740Restoring model weights from the end of the best epoch: 12.\n",
            "128/128 [==============================] - 278s 2s/step - loss: 0.3000 - accuracy: 0.8740 - val_loss: 0.3133 - val_accuracy: 0.8594\n",
            "Epoch 16: early stopping\n"
          ]
        }
      ]
    }
  ]
}