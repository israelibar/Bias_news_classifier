{
 "cells": [
  {
   "cell_type": "markdown",
   "id": "88398890",
   "metadata": {},
   "source": [
    "# Loading directory of JSON files to one pd.DataFrame"
   ]
  },
  {
   "cell_type": "code",
   "execution_count": 1,
   "id": "fc5a0438",
   "metadata": {},
   "outputs": [],
   "source": [
    "import pandas as pd\n",
    "import os\n",
    "from tqdm import tqdm\n",
    "from math import ceil\n",
    "import numpy as np\n",
    "from matplotlib import pyplot as plt\n",
    "import seaborn as sns"
   ]
  },
  {
   "cell_type": "code",
   "execution_count": 2,
   "id": "39006f68",
   "metadata": {},
   "outputs": [],
   "source": [
    "# Path for original JSON files\n",
    "LOAD_PATH = \"C:/ITC/final project/fake news/news_scraper/nela-gt-2020.json.tar/nela-gt-2020_new_ext.json/nela-gt-2020/newsdata/\"\n",
    "\n",
    "# Path to save the new JSON files, after minimizing columns\n",
    "DROP_PATH = \"C:/ITC/final project/fake news/news_new_data/\"\n",
    "\n",
    "# Columns to keep\n",
    "COLUMNS = ['source', 'title', 'content']"
   ]
  },
  {
   "cell_type": "code",
   "execution_count": 3,
   "id": "cb82e1e0",
   "metadata": {},
   "outputs": [],
   "source": [
    "def get_files_names(path):\n",
    "    \"\"\"\n",
    "    Getting list of files names in the directory\n",
    "    @path: path to the directory\n",
    "    @return: list of files name\n",
    "    \"\"\"\n",
    "    directory = os.fsencode(path)\n",
    "    files = []\n",
    "    for file in os.listdir(directory):\n",
    "        filename = os.fsdecode(file)\n",
    "        files.append(filename)\n",
    "    return files"
   ]
  },
  {
   "cell_type": "code",
   "execution_count": 4,
   "id": "369874ca",
   "metadata": {},
   "outputs": [],
   "source": [
    "def make_new_json(file_path, file_name, new_dir):\n",
    "    \"\"\"\n",
    "    Creating new JSON file (single) with choosen columns\n",
    "    @file_path: path to the original file\n",
    "    @file_name: name of the specific file (.json)\n",
    "    @new_dir: the new directory to drop the new file\n",
    "    \"\"\"\n",
    "    df = pd.read_json(file_path + file_name)\n",
    "    new_df = df.loc[:,COLUMNS]\n",
    "    new_df.to_json(new_dir + file_name)\n",
    "    print(f'file: {file_name} saved successfully')"
   ]
  },
  {
   "cell_type": "code",
   "execution_count": 5,
   "id": "c8b8e9e6",
   "metadata": {},
   "outputs": [],
   "source": [
    "def minimize_jsons(files_path, files_name, new_dir):\n",
    "    \"\"\"\n",
    "    Creating new JSON from all files in the directory\n",
    "    @file_path: path to the original file\n",
    "    @file_names: list of all json files in the directory\n",
    "    @new_dir: the new directory to drop the new file\n",
    "    \"\"\"\n",
    "    for file_name in tqdm(files_name):\n",
    "        make_new_json(files_path, file_name, DROP_PATH)   \n",
    "    print('ALL FILES SAVED!')"
   ]
  },
  {
   "cell_type": "code",
   "execution_count": 6,
   "id": "f82c36cc",
   "metadata": {},
   "outputs": [],
   "source": [
    "def all_json_to_one_df(path, file_names):\n",
    "    \"\"\"\n",
    "    Making all the files in the directory to one pd.DataFrame\n",
    "    @path: path to the directory (with the minimized files)\n",
    "    @file_names: list of all json files in the directory\n",
    "    @return: pa.DataFrame of all JSON files together\n",
    "    \"\"\"\n",
    "    df = pd.DataFrame(columns=COLUMNS)\n",
    "    for file in tqdm(file_names):\n",
    "        new_df = pd.read_json(path + file)\n",
    "        df = pd.concat([df, new_df], ignore_index=True)\n",
    "        print (f'file: {file} added to DataFrame')\n",
    "    print('ALL FILES IN DATAFRAME')\n",
    "    return df    "
   ]
  },
  {
   "cell_type": "code",
   "execution_count": 7,
   "id": "d48b1237",
   "metadata": {},
   "outputs": [],
   "source": [
    "def get_one_df(load_path, drop_path):\n",
    "    \"\"\"\n",
    "    Getting one data frame, with the chosen columns (from original JSON files to the desired df)\n",
    "    @load_path: path to the original JSON files\n",
    "    @drop_path: path to drop the new JSON files with the chosen columns\n",
    "    \"\"\"\n",
    "    files_names = get_files_names(load_path)\n",
    "    minimize_jsons(load_path, files_names, drop_path)\n",
    "    full_df = all_json_to_one_df(drop_path, files_names)\n",
    "    return full_df"
   ]
  },
  {
   "cell_type": "markdown",
   "id": "4507f571",
   "metadata": {},
   "source": [
    "## Main:"
   ]
  },
  {
   "cell_type": "code",
   "execution_count": 9,
   "id": "e05b23d5",
   "metadata": {},
   "outputs": [
    {
     "name": "stderr",
     "output_type": "stream",
     "text": [
      "  0%|                                                                                          | 0/519 [00:00<?, ?it/s]"
     ]
    },
    {
     "name": "stdout",
     "output_type": "stream",
     "text": [
      "file: 21stcenturywire.json added to DataFrame\n",
      "file: 369news.json added to DataFrame\n",
      "file: 911truthorg.json added to DataFrame\n",
      "file: abcnews.json added to DataFrame\n"
     ]
    },
    {
     "name": "stderr",
     "output_type": "stream",
     "text": [
      "  1%|▉                                                                                 | 6/519 [00:00<00:29, 17.40it/s]"
     ]
    },
    {
     "name": "stdout",
     "output_type": "stream",
     "text": [
      "file: acnlatitudes.json added to DataFrame\n",
      "file: activistpost.json added to DataFrame\n",
      "file: adobochronicles.json added to DataFrame\n",
      "file: adweek.json added to DataFrame\n",
      "file: adwnews.json added to DataFrame\n",
      "file: ageofautism.json added to DataFrame\n",
      "file: airwars.json added to DataFrame\n"
     ]
    },
    {
     "name": "stderr",
     "output_type": "stream",
     "text": [
      "  4%|██▉                                                                              | 19/519 [00:00<00:20, 24.51it/s]"
     ]
    },
    {
     "name": "stdout",
     "output_type": "stream",
     "text": [
      "file: aljazeera.json added to DataFrame\n",
      "file: allianceadvancedhealth.json added to DataFrame\n",
      "file: allianceforadvancedhealth.json added to DataFrame\n",
      "file: alliancefornaturalhealth.json added to DataFrame\n",
      "file: alliancefornaturalhealthbiasjunkscience.json added to DataFrame\n",
      "file: alternativemediatelevisionamtv.json added to DataFrame\n",
      "file: alternativemediatv.json added to DataFrame\n",
      "file: alternet.json added to DataFrame\n",
      "file: althealthworks.json added to DataFrame\n",
      "file: americablognews.json added to DataFrame\n",
      "file: americandigitalnews.json added to DataFrame\n",
      "file: americanintelligencemedia.json added to DataFrame\n"
     ]
    },
    {
     "name": "stderr",
     "output_type": "stream",
     "text": [
      "  7%|█████▎                                                                           | 34/519 [00:01<00:11, 41.39it/s]"
     ]
    },
    {
     "name": "stdout",
     "output_type": "stream",
     "text": [
      "file: ancientcode.json added to DataFrame\n",
      "file: annielowrey.json added to DataFrame\n",
      "file: anonnews.json added to DataFrame\n",
      "file: anonymous.json added to DataFrame\n",
      "file: anonymousconservative.json added to DataFrame\n",
      "file: anti-impreialist.json added to DataFrame\n",
      "file: antiimpreialist.json added to DataFrame\n",
      "file: anxiouschild.json added to DataFrame\n",
      "file: asiapacificresearch.json added to DataFrame\n",
      "file: au.json added to DataFrame\n",
      "file: australiannationalreview.json added to DataFrame\n",
      "file: australiantimes.json added to DataFrame\n",
      "file: autisminvestigated.json added to DataFrame\n",
      "file: avn.json added to DataFrame\n",
      "file: awarenessact.json added to DataFrame\n",
      "file: azmirror.json added to DataFrame\n",
      "file: azpbs.json added to DataFrame\n",
      "file: ballinaadvocate.json added to DataFrame\n",
      "file: bangkokpost.json added to DataFrame\n"
     ]
    },
    {
     "name": "stderr",
     "output_type": "stream",
     "text": [
      "  8%|██████▋                                                                          | 43/519 [00:01<00:14, 32.42it/s]"
     ]
    },
    {
     "name": "stdout",
     "output_type": "stream",
     "text": [
      "file: bbc.json added to DataFrame\n"
     ]
    },
    {
     "name": "stderr",
     "output_type": "stream",
     "text": [
      "  9%|███████▍                                                                         | 48/519 [00:01<00:20, 22.99it/s]"
     ]
    },
    {
     "name": "stdout",
     "output_type": "stream",
     "text": [
      "file: bbcuk.json added to DataFrame\n",
      "file: bearingarms.json added to DataFrame\n",
      "file: beat.json added to DataFrame\n",
      "file: beholdisrael.json added to DataFrame\n",
      "file: bigleaguepolitics.json added to DataFrame\n",
      "file: bigrigs.json added to DataFrame\n",
      "file: bipartisanreport.json added to DataFrame\n"
     ]
    },
    {
     "name": "stderr",
     "output_type": "stream",
     "text": [
      " 11%|████████▌                                                                        | 55/519 [00:02<00:23, 19.80it/s]"
     ]
    },
    {
     "name": "stdout",
     "output_type": "stream",
     "text": [
      "file: birminghammail.json added to DataFrame\n",
      "file: bizstandardnews.json added to DataFrame\n",
      "file: bnnbloomberg.json added to DataFrame\n",
      "file: boisestatepublicradio.json added to DataFrame\n",
      "file: bonginoreport.json added to DataFrame\n",
      "file: breaking911.json added to DataFrame\n"
     ]
    },
    {
     "name": "stderr",
     "output_type": "stream",
     "text": [
      " 11%|█████████                                                                        | 58/519 [00:02<00:35, 13.14it/s]"
     ]
    },
    {
     "name": "stdout",
     "output_type": "stream",
     "text": [
      "file: breitbart.json added to DataFrame\n",
      "file: brightside.json added to DataFrame\n",
      "file: business.json added to DataFrame\n"
     ]
    },
    {
     "name": "stderr",
     "output_type": "stream",
     "text": [
      " 12%|█████████▋                                                                       | 62/519 [00:03<00:41, 11.06it/s]"
     ]
    },
    {
     "name": "stdout",
     "output_type": "stream",
     "text": [
      "file: businessinsider.json added to DataFrame\n",
      "file: buzzfeed.json added to DataFrame\n",
      "file: buzzfeednews.json added to DataFrame\n",
      "file: byronnews.json added to DataFrame\n"
     ]
    },
    {
     "name": "stderr",
     "output_type": "stream",
     "text": [
      " 13%|██████████▌                                                                      | 68/519 [00:03<00:26, 16.70it/s]"
     ]
    },
    {
     "name": "stdout",
     "output_type": "stream",
     "text": [
      "file: cairnspost.json added to DataFrame\n",
      "file: caitlinflanagan.json added to DataFrame\n",
      "file: camelotdaily.json added to DataFrame\n",
      "file: campaignasia.json added to DataFrame\n",
      "file: campusreform.json added to DataFrame\n"
     ]
    },
    {
     "name": "stderr",
     "output_type": "stream",
     "text": [
      " 14%|███████████                                                                      | 71/519 [00:04<00:41, 10.71it/s]"
     ]
    },
    {
     "name": "stdout",
     "output_type": "stream",
     "text": [
      "file: cbsnews.json added to DataFrame\n",
      "file: cbssports.json added to DataFrame\n",
      "file: centraltelegraph.json added to DataFrame\n",
      "file: channel4uk.json added to DataFrame\n"
     ]
    },
    {
     "name": "stderr",
     "output_type": "stream",
     "text": [
      " 14%|███████████▋                                                                     | 75/519 [00:04<00:46,  9.56it/s]"
     ]
    },
    {
     "name": "stdout",
     "output_type": "stream",
     "text": [
      "file: charlotteobserver.json added to DataFrame\n",
      "file: chicagosun-times.json added to DataFrame\n",
      "file: chicagosuntimes.json added to DataFrame\n"
     ]
    },
    {
     "name": "stderr",
     "output_type": "stream",
     "text": [
      " 15%|████████████                                                                     | 77/519 [00:04<00:45,  9.81it/s]"
     ]
    },
    {
     "name": "stdout",
     "output_type": "stream",
     "text": [
      "file: chicagotribune.json added to DataFrame\n",
      "file: citizenfreepress.json added to DataFrame\n",
      "file: cityam.json added to DataFrame\n"
     ]
    },
    {
     "name": "stderr",
     "output_type": "stream",
     "text": [
      " 16%|████████████▋                                                                    | 81/519 [00:05<00:36, 11.99it/s]"
     ]
    },
    {
     "name": "stdout",
     "output_type": "stream",
     "text": [
      "file: civictribune.json added to DataFrame\n",
      "file: cjr.json added to DataFrame\n",
      "file: clashdaily.json added to DataFrame\n",
      "file: climatechangedispatch.json added to DataFrame\n"
     ]
    },
    {
     "name": "stderr",
     "output_type": "stream",
     "text": [
      " 17%|█████████████▍                                                                   | 86/519 [00:05<00:29, 14.87it/s]"
     ]
    },
    {
     "name": "stdout",
     "output_type": "stream",
     "text": [
      "file: climatedepot.json added to DataFrame\n",
      "file: climateetc.json added to DataFrame\n",
      "file: climatism.json added to DataFrame\n",
      "file: cnbc.json added to DataFrame\n",
      "file: cnet.json added to DataFrame\n"
     ]
    },
    {
     "name": "stderr",
     "output_type": "stream",
     "text": [
      " 18%|██████████████▏                                                                  | 91/519 [00:06<00:44,  9.56it/s]"
     ]
    },
    {
     "name": "stdout",
     "output_type": "stream",
     "text": [
      "file: cnn.json added to DataFrame\n",
      "file: coffscoastadvocate.json added to DataFrame\n",
      "file: collective-evolution.json added to DataFrame\n",
      "file: collectiveevolution.json added to DataFrame\n",
      "file: coloradopeakpolitics.json added to DataFrame\n"
     ]
    },
    {
     "name": "stderr",
     "output_type": "stream",
     "text": [
      " 18%|██████████████▋                                                                  | 94/519 [00:06<00:34, 12.31it/s]"
     ]
    },
    {
     "name": "stdout",
     "output_type": "stream",
     "text": [
      "file: committeeconstructivetomorrowcfactorg.json added to DataFrame\n",
      "file: confrontingraceinamerica.json added to DataFrame\n",
      "file: consciouslifenews.json added to DataFrame\n"
     ]
    },
    {
     "name": "stderr",
     "output_type": "stream",
     "text": [
      " 19%|███████████████▍                                                                 | 99/519 [00:06<00:31, 13.22it/s]"
     ]
    },
    {
     "name": "stdout",
     "output_type": "stream",
     "text": [
      "file: conservativehome.json added to DataFrame\n",
      "file: conspiracydailyupdate.json added to DataFrame\n",
      "file: cosmicintelligenceagency.json added to DataFrame\n",
      "file: courthousenews.json added to DataFrame\n",
      "file: covertgeopolitics.json added to DataFrame\n"
     ]
    },
    {
     "name": "stderr",
     "output_type": "stream",
     "text": [
      " 20%|████████████████▏                                                               | 105/519 [00:06<00:22, 18.46it/s]"
     ]
    },
    {
     "name": "stdout",
     "output_type": "stream",
     "text": [
      "file: covid19business.json added to DataFrame\n",
      "file: covid19campaign.json added to DataFrame\n",
      "file: covid19news.json added to DataFrame\n",
      "file: cqnews.json added to DataFrame\n",
      "file: crikey.json added to DataFrame\n",
      "file: cronkitenews.json added to DataFrame\n"
     ]
    },
    {
     "name": "stderr",
     "output_type": "stream",
     "text": [
      " 21%|████████████████▋                                                               | 108/519 [00:07<00:22, 18.03it/s]"
     ]
    },
    {
     "name": "stdout",
     "output_type": "stream",
     "text": [
      "file: crooksandliars.json added to DataFrame\n",
      "file: csglobe.json added to DataFrame\n",
      "file: csmonitor.json added to DataFrame\n",
      "file: curiousmindmagazine.json added to DataFrame\n"
     ]
    },
    {
     "name": "stderr",
     "output_type": "stream",
     "text": [
      " 22%|█████████████████▌                                                              | 114/519 [00:07<00:29, 13.61it/s]"
     ]
    },
    {
     "name": "stdout",
     "output_type": "stream",
     "text": [
      "file: dailybeast.json added to DataFrame\n",
      "file: dailybuzzlive.json added to DataFrame\n",
      "file: dailyexaminer.json added to DataFrame\n",
      "file: dailygrail.json added to DataFrame\n",
      "file: dailyhealthpost.json added to DataFrame\n"
     ]
    },
    {
     "name": "stderr",
     "output_type": "stream",
     "text": [
      " 23%|██████████████████                                                              | 117/519 [00:07<00:33, 12.12it/s]"
     ]
    },
    {
     "name": "stdout",
     "output_type": "stream",
     "text": [
      "file: dailyheraldchicago.json added to DataFrame\n",
      "file: dailykos.json added to DataFrame\n"
     ]
    },
    {
     "name": "stderr",
     "output_type": "stream",
     "text": [
      " 23%|██████████████████▎                                                             | 119/519 [00:08<00:41,  9.74it/s]"
     ]
    },
    {
     "name": "stdout",
     "output_type": "stream",
     "text": [
      "file: dailymail.json added to DataFrame\n",
      "file: dailymercury.json added to DataFrame\n",
      "file: dailysignal.json added to DataFrame\n"
     ]
    },
    {
     "name": "stderr",
     "output_type": "stream",
     "text": [
      " 24%|██████████████████▉                                                             | 123/519 [00:08<00:34, 11.58it/s]"
     ]
    },
    {
     "name": "stdout",
     "output_type": "stream",
     "text": [
      "file: dailystormer.json added to DataFrame\n",
      "file: davidicke.json added to DataFrame\n",
      "file: dcgazette.json added to DataFrame\n",
      "file: defpen.json added to DataFrame\n",
      "file: delawareliberal.json added to DataFrame\n"
     ]
    },
    {
     "name": "stderr",
     "output_type": "stream",
     "text": [
      " 25%|███████████████████▋                                                            | 128/519 [00:08<00:26, 14.78it/s]"
     ]
    },
    {
     "name": "stdout",
     "output_type": "stream",
     "text": [
      "file: democracy21.json added to DataFrame\n",
      "file: democracynow.json added to DataFrame\n",
      "file: deneenborelli.json added to DataFrame\n",
      "file: dickmorrisblog.json added to DataFrame\n",
      "file: digg.json added to DataFrame\n"
     ]
    },
    {
     "name": "stderr",
     "output_type": "stream",
     "text": [
      " 26%|████████████████████▋                                                           | 134/519 [00:09<00:19, 19.68it/s]"
     ]
    },
    {
     "name": "stdout",
     "output_type": "stream",
     "text": [
      "file: digiday.json added to DataFrame\n",
      "file: digitaljournal.json added to DataFrame\n",
      "file: discoveryinstitute.json added to DataFrame\n",
      "file: disobedientmedia.json added to DataFrame\n",
      "file: disrn.json added to DataFrame\n"
     ]
    },
    {
     "name": "stderr",
     "output_type": "stream",
     "text": [
      " 26%|█████████████████████                                                           | 137/519 [00:09<00:20, 18.76it/s]"
     ]
    },
    {
     "name": "stdout",
     "output_type": "stream",
     "text": [
      "file: djhj.json added to DataFrame\n",
      "file: doctorozcom.json added to DataFrame\n"
     ]
    },
    {
     "name": "stderr",
     "output_type": "stream",
     "text": [
      " 28%|██████████████████████                                                          | 143/519 [00:10<00:38,  9.87it/s]"
     ]
    },
    {
     "name": "stdout",
     "output_type": "stream",
     "text": [
      "file: drudgereport.json added to DataFrame\n",
      "file: echonews.json added to DataFrame\n",
      "file: edyong.json added to DataFrame\n",
      "file: eluxemagazine.json added to DataFrame\n",
      "file: emarketer.json added to DataFrame\n",
      "file: endthefed.json added to DataFrame\n"
     ]
    },
    {
     "name": "stderr",
     "output_type": "stream",
     "text": [
      " 29%|██████████████████████▊                                                         | 148/519 [00:10<00:27, 13.48it/s]"
     ]
    },
    {
     "name": "stdout",
     "output_type": "stream",
     "text": [
      "file: endtimeheadlines.json added to DataFrame\n",
      "file: environmentalworkinggroupewg.json added to DataFrame\n",
      "file: environmentdepth.json added to DataFrame\n",
      "file: escapeallthesethings.json added to DataFrame\n",
      "file: etonline.json added to DataFrame\n"
     ]
    },
    {
     "name": "stderr",
     "output_type": "stream",
     "text": [
      " 29%|███████████████████████▎                                                        | 151/519 [00:11<00:54,  6.73it/s]"
     ]
    },
    {
     "name": "stdout",
     "output_type": "stream",
     "text": [
      "file: eveningstandard.json added to DataFrame\n",
      "file: evolutionnewsandviews.json added to DataFrame\n",
      "file: ezorigin.json added to DataFrame\n",
      "file: faithpanda.json added to DataFrame\n",
      "file: fakingnews.json added to DataFrame\n"
     ]
    },
    {
     "name": "stderr",
     "output_type": "stream",
     "text": [
      " 30%|████████████████████████                                                        | 156/519 [00:11<00:38,  9.43it/s]"
     ]
    },
    {
     "name": "stdout",
     "output_type": "stream",
     "text": [
      "file: familysurvivalheadlines.json added to DataFrame\n",
      "file: fellowshipoftheminds.json added to DataFrame\n",
      "file: fivethirthyeight.json added to DataFrame\n",
      "file: fivethirtyeight.json added to DataFrame\n"
     ]
    },
    {
     "name": "stderr",
     "output_type": "stream",
     "text": [
      " 30%|████████████████████████▎                                                       | 158/519 [00:11<00:34, 10.52it/s]"
     ]
    },
    {
     "name": "stdout",
     "output_type": "stream",
     "text": [
      "file: foodbabe.json added to DataFrame\n",
      "file: forbes.json added to DataFrame\n"
     ]
    },
    {
     "name": "stderr",
     "output_type": "stream",
     "text": [
      " 31%|████████████████████████▉                                                       | 162/519 [00:12<00:34, 10.37it/s]"
     ]
    },
    {
     "name": "stdout",
     "output_type": "stream",
     "text": [
      "file: foreignpolicy.json added to DataFrame\n",
      "file: foreverconscious.json added to DataFrame\n",
      "file: fortruss.json added to DataFrame\n",
      "file: fortune.json added to DataFrame\n"
     ]
    },
    {
     "name": "stderr",
     "output_type": "stream",
     "text": [
      " 32%|█████████████████████████▎                                                      | 164/519 [00:12<00:51,  6.83it/s]"
     ]
    },
    {
     "name": "stdout",
     "output_type": "stream",
     "text": [
      "file: foxnews.json added to DataFrame\n",
      "file: france24.json added to DataFrame\n"
     ]
    },
    {
     "name": "stderr",
     "output_type": "stream",
     "text": [
      " 32%|█████████████████████████▋                                                      | 167/519 [00:13<00:54,  6.46it/s]"
     ]
    },
    {
     "name": "stdout",
     "output_type": "stream",
     "text": [
      "file: freebeacon.json added to DataFrame\n",
      "file: freedom-bunker.json added to DataFrame\n"
     ]
    },
    {
     "name": "stderr",
     "output_type": "stream",
     "text": [
      " 33%|██████████████████████████▎                                                     | 171/519 [00:13<00:36,  9.65it/s]"
     ]
    },
    {
     "name": "stdout",
     "output_type": "stream",
     "text": [
      "file: freedomainradio.json added to DataFrame\n",
      "file: freedombunker.json added to DataFrame\n",
      "file: freedomdaily.json added to DataFrame\n",
      "file: freedomoutpost.json added to DataFrame\n"
     ]
    },
    {
     "name": "stderr",
     "output_type": "stream",
     "text": [
      " 33%|██████████████████████████▋                                                     | 173/519 [00:13<00:32, 10.74it/s]"
     ]
    },
    {
     "name": "stdout",
     "output_type": "stream",
     "text": [
      "file: freemalaysiatoday.json added to DataFrame\n",
      "file: freethoughtproject.json added to DataFrame\n",
      "file: ftwestminsterblog.json added to DataFrame\n",
      "file: fusion.json added to DataFrame\n"
     ]
    },
    {
     "name": "stderr",
     "output_type": "stream",
     "text": [
      " 34%|███████████████████████████▍                                                    | 178/519 [00:13<00:23, 14.70it/s]"
     ]
    },
    {
     "name": "stdout",
     "output_type": "stream",
     "text": [
      "file: gattonstar.json added to DataFrame\n",
      "file: geelongadvertiser.json added to DataFrame\n",
      "file: geoengineeringwatch.json added to DataFrame\n",
      "file: getholistichealth.json added to DataFrame\n",
      "file: gladstoneobserver.json added to DataFrame\n"
     ]
    },
    {
     "name": "stderr",
     "output_type": "stream",
     "text": [
      " 35%|████████████████████████████▏                                                   | 183/519 [00:14<00:28, 11.69it/s]"
     ]
    },
    {
     "name": "stdout",
     "output_type": "stream",
     "text": [
      "file: globalresearch.json added to DataFrame\n",
      "file: glossynews.json added to DataFrame\n",
      "file: greatgameindia.json added to DataFrame\n"
     ]
    },
    {
     "name": "stderr",
     "output_type": "stream",
     "text": [
      " 36%|████████████████████████████▊                                                   | 187/519 [00:14<00:26, 12.74it/s]"
     ]
    },
    {
     "name": "stdout",
     "output_type": "stream",
     "text": [
      "file: greenmedinfo.json added to DataFrame\n",
      "file: greenpeace.json added to DataFrame\n",
      "file: greenwichtime.json added to DataFrame\n",
      "file: gulagbound.json added to DataFrame\n",
      "file: gympietimes.json added to DataFrame\n"
     ]
    },
    {
     "name": "stderr",
     "output_type": "stream",
     "text": [
      " 37%|█████████████████████████████▌                                                  | 192/519 [00:14<00:20, 15.97it/s]"
     ]
    },
    {
     "name": "stdout",
     "output_type": "stream",
     "text": [
      "file: haarpnet.json added to DataFrame\n",
      "file: hangthebankers.json added to DataFrame\n",
      "file: hcn.json added to DataFrame\n",
      "file: healingoracle.json added to DataFrame\n"
     ]
    },
    {
     "name": "stderr",
     "output_type": "stream",
     "text": [
      " 38%|██████████████████████████████▏                                                 | 196/519 [00:15<00:20, 15.54it/s]"
     ]
    },
    {
     "name": "stdout",
     "output_type": "stream",
     "text": [
      "file: healthimpactnews.json added to DataFrame\n",
      "file: healthnutnews.json added to DataFrame\n",
      "file: healthsciencesinstitute.json added to DataFrame\n",
      "file: healthyfoodhouse.json added to DataFrame\n"
     ]
    },
    {
     "name": "stderr",
     "output_type": "stream",
     "text": [
      " 38%|██████████████████████████████▌                                                 | 198/519 [00:15<00:19, 16.07it/s]"
     ]
    },
    {
     "name": "stdout",
     "output_type": "stream",
     "text": [
      "file: healthyholisticliving.json added to DataFrame\n",
      "file: heraldsun.json added to DataFrame\n",
      "file: hitandrun.json added to DataFrame\n"
     ]
    },
    {
     "name": "stderr",
     "output_type": "stream",
     "text": [
      " 39%|███████████████████████████████▏                                                | 202/519 [00:15<00:30, 10.53it/s]"
     ]
    },
    {
     "name": "stdout",
     "output_type": "stream",
     "text": [
      "file: hotair.json added to DataFrame\n",
      "file: huffingtonpost.json added to DataFrame\n",
      "file: huffpost.json added to DataFrame\n",
      "file: hullabalooblog.json added to DataFrame\n"
     ]
    },
    {
     "name": "stderr",
     "output_type": "stream",
     "text": [
      " 40%|███████████████████████████████▊                                                | 206/519 [00:16<00:24, 12.64it/s]"
     ]
    },
    {
     "name": "stdout",
     "output_type": "stream",
     "text": [
      "file: humansarefree.json added to DataFrame\n",
      "file: humortimes.json added to DataFrame\n",
      "file: ibtimes.json added to DataFrame\n",
      "file: iceagenow.json added to DataFrame\n"
     ]
    },
    {
     "name": "stderr",
     "output_type": "stream",
     "text": [
      " 40%|████████████████████████████████▎                                               | 210/519 [00:16<00:22, 13.60it/s]"
     ]
    },
    {
     "name": "stdout",
     "output_type": "stream",
     "text": [
      "file: ihealthtube.json added to DataFrame\n",
      "file: iheartintelligence.json added to DataFrame\n",
      "file: illuminatiwatcher.json added to DataFrame\n",
      "file: independentsciencenews.json added to DataFrame\n"
     ]
    },
    {
     "name": "stderr",
     "output_type": "stream",
     "text": [
      " 41%|████████████████████████████████▉                                               | 214/519 [00:16<00:20, 14.67it/s]"
     ]
    },
    {
     "name": "stdout",
     "output_type": "stream",
     "text": [
      "file: inews.json added to DataFrame\n",
      "file: infiniteunknown.json added to DataFrame\n",
      "file: informnapalm.json added to DataFrame\n"
     ]
    },
    {
     "name": "stderr",
     "output_type": "stream",
     "text": [
      " 42%|█████████████████████████████████▎                                              | 216/519 [00:16<00:25, 11.90it/s]"
     ]
    },
    {
     "name": "stdout",
     "output_type": "stream",
     "text": [
      "file: infowars.json added to DataFrame\n",
      "file: inquisitr.json added to DataFrame\n",
      "file: insidescience.json added to DataFrame\n"
     ]
    },
    {
     "name": "stderr",
     "output_type": "stream",
     "text": [
      " 42%|█████████████████████████████████▉                                              | 220/519 [00:17<00:24, 12.03it/s]"
     ]
    },
    {
     "name": "stdout",
     "output_type": "stream",
     "text": [
      "file: instapundit.json added to DataFrame\n",
      "file: intellectualconservative.json added to DataFrame\n",
      "file: intellihub.json added to DataFrame\n",
      "file: interpretermag.json added to DataFrame\n"
     ]
    },
    {
     "name": "stderr",
     "output_type": "stream",
     "text": [
      " 43%|██████████████████████████████████▌                                             | 224/519 [00:17<00:28, 10.31it/s]"
     ]
    },
    {
     "name": "stdout",
     "output_type": "stream",
     "text": [
      "file: investmentwatchblog.json added to DataFrame\n",
      "file: investorsbusinessdaily.json added to DataFrame\n",
      "file: iowaclimatescienceeducation.json added to DataFrame\n"
     ]
    },
    {
     "name": "stderr",
     "output_type": "stream",
     "text": [
      " 44%|███████████████████████████████████▏                                            | 228/519 [00:18<00:26, 11.02it/s]"
     ]
    },
    {
     "name": "stdout",
     "output_type": "stream",
     "text": [
      "file: ipolitics.json added to DataFrame\n",
      "file: ipswichadvertiser.json added to DataFrame\n",
      "file: israelislamendtimes.json added to DataFrame\n",
      "file: jerusalempost.json added to DataFrame\n",
      "file: jesusdaily.json added to DataFrame\n"
     ]
    },
    {
     "name": "stderr",
     "output_type": "stream",
     "text": [
      " 45%|███████████████████████████████████▌                                            | 231/519 [00:18<00:33,  8.63it/s]"
     ]
    },
    {
     "name": "stdout",
     "output_type": "stream",
     "text": [
      "file: jesusissavior.json added to DataFrame\n",
      "file: jewworldorder.json added to DataFrame\n",
      "file: junksciencecom.json added to DataFrame\n"
     ]
    },
    {
     "name": "stderr",
     "output_type": "stream",
     "text": [
      " 45%|████████████████████████████████████▏                                           | 235/519 [00:18<00:27, 10.30it/s]"
     ]
    },
    {
     "name": "stdout",
     "output_type": "stream",
     "text": [
      "file: kidderminstershuttle.json added to DataFrame\n",
      "file: kyivpost.json added to DataFrame\n",
      "file: labourlist.json added to DataFrame\n",
      "file: larouchepac.json added to DataFrame\n"
     ]
    },
    {
     "name": "stderr",
     "output_type": "stream",
     "text": [
      " 46%|████████████████████████████████████▌                                           | 237/519 [00:19<00:37,  7.50it/s]"
     ]
    },
    {
     "name": "stdout",
     "output_type": "stream",
     "text": [
      "file: latimes.json added to DataFrame\n"
     ]
    },
    {
     "name": "stderr",
     "output_type": "stream",
     "text": [
      " 46%|████████████████████████████████████▋                                           | 238/519 [00:19<00:44,  6.30it/s]"
     ]
    },
    {
     "name": "stdout",
     "output_type": "stream",
     "text": [
      "file: lawenforcementtoday.json added to DataFrame\n",
      "file: learntheriskorg.json added to DataFrame\n"
     ]
    },
    {
     "name": "stderr",
     "output_type": "stream",
     "text": [
      " 46%|████████████████████████████████████▉                                           | 240/519 [00:19<00:42,  6.56it/s]"
     ]
    },
    {
     "name": "stdout",
     "output_type": "stream",
     "text": [
      "file: lewrockwell.json added to DataFrame\n",
      "file: liberaladvocate.json added to DataFrame\n"
     ]
    },
    {
     "name": "stderr",
     "output_type": "stream",
     "text": [
      " 47%|█████████████████████████████████████▌                                          | 244/519 [00:20<00:34,  7.91it/s]"
     ]
    },
    {
     "name": "stdout",
     "output_type": "stream",
     "text": [
      "file: lifesitenews.json added to DataFrame\n",
      "file: lifespa.json added to DataFrame\n",
      "file: lisahaven.json added to DataFrame\n",
      "file: live.json added to DataFrame\n"
     ]
    },
    {
     "name": "stderr",
     "output_type": "stream",
     "text": [
      " 48%|██████████████████████████████████████▏                                         | 248/519 [00:20<00:26, 10.23it/s]"
     ]
    },
    {
     "name": "stdout",
     "output_type": "stream",
     "text": [
      "file: liveaction.json added to DataFrame\n",
      "file: livescience.json added to DataFrame\n",
      "file: livingwhole.json added to DataFrame\n"
     ]
    },
    {
     "name": "stderr",
     "output_type": "stream",
     "text": [
      " 48%|██████████████████████████████████████▌                                         | 250/519 [00:20<00:30,  8.92it/s]"
     ]
    },
    {
     "name": "stdout",
     "output_type": "stream",
     "text": [
      "file: mail.json added to DataFrame\n",
      "file: malaymail.json added to DataFrame\n"
     ]
    },
    {
     "name": "stderr",
     "output_type": "stream",
     "text": [
      " 49%|██████████████████████████████████████▊                                         | 252/519 [00:21<00:30,  8.72it/s]"
     ]
    },
    {
     "name": "stdout",
     "output_type": "stream",
     "text": [
      "file: mcclatchydc.json added to DataFrame\n",
      "file: mediaroots.json added to DataFrame\n",
      "file: mercola.json added to DataFrame\n"
     ]
    },
    {
     "name": "stderr",
     "output_type": "stream",
     "text": [
      " 49%|███████████████████████████████████████▏                                        | 254/519 [00:21<00:32,  8.23it/s]"
     ]
    },
    {
     "name": "stdout",
     "output_type": "stream",
     "text": [
      "file: mercurynews.json added to DataFrame\n"
     ]
    },
    {
     "name": "stderr",
     "output_type": "stream",
     "text": [
      " 49%|███████████████████████████████████████▍                                        | 256/519 [00:21<00:39,  6.69it/s]"
     ]
    },
    {
     "name": "stdout",
     "output_type": "stream",
     "text": [
      "file: metrouk.json added to DataFrame\n",
      "file: mintpressnews.json added to DataFrame\n",
      "file: miragenews.json added to DataFrame\n"
     ]
    },
    {
     "name": "stderr",
     "output_type": "stream",
     "text": [
      " 50%|████████████████████████████████████████                                        | 260/519 [00:22<00:29,  8.83it/s]"
     ]
    },
    {
     "name": "stdout",
     "output_type": "stream",
     "text": [
      "file: modernalternativemama.json added to DataFrame\n",
      "file: motherjones.json added to DataFrame\n",
      "file: msnbc.json added to DataFrame\n",
      "file: mumbrella.json added to DataFrame\n"
     ]
    },
    {
     "name": "stderr",
     "output_type": "stream",
     "text": [
      " 50%|████████████████████████████████████████▍                                       | 262/519 [00:22<00:26,  9.78it/s]"
     ]
    },
    {
     "name": "stdout",
     "output_type": "stream",
     "text": [
      "file: nationalfile.json added to DataFrame\n"
     ]
    },
    {
     "name": "stderr",
     "output_type": "stream",
     "text": [
      " 51%|████████████████████████████████████████▋                                       | 264/519 [00:23<00:56,  4.53it/s]"
     ]
    },
    {
     "name": "stdout",
     "output_type": "stream",
     "text": [
      "file: nationalinterest.json added to DataFrame\n",
      "file: nationalobserver.json added to DataFrame\n",
      "file: nationalreport.json added to DataFrame\n"
     ]
    },
    {
     "name": "stderr",
     "output_type": "stream",
     "text": [
      " 52%|█████████████████████████████████████████▎                                      | 268/519 [00:23<00:40,  6.19it/s]"
     ]
    },
    {
     "name": "stdout",
     "output_type": "stream",
     "text": [
      "file: nationalreview.json added to DataFrame\n",
      "file: naturalawakeningsmagazine.json added to DataFrame\n",
      "file: naturalcures.json added to DataFrame\n"
     ]
    },
    {
     "name": "stderr",
     "output_type": "stream",
     "text": [
      " 52%|█████████████████████████████████████████▌                                      | 270/519 [00:23<00:33,  7.45it/s]"
     ]
    },
    {
     "name": "stdout",
     "output_type": "stream",
     "text": [
      "file: naturalhealth365.json added to DataFrame\n",
      "file: naturallysavvy.json added to DataFrame\n",
      "file: naturalnews.json added to DataFrame\n"
     ]
    },
    {
     "name": "stderr",
     "output_type": "stream",
     "text": [
      " 53%|██████████████████████████████████████████▏                                     | 274/519 [00:24<00:26,  9.33it/s]"
     ]
    },
    {
     "name": "stdout",
     "output_type": "stream",
     "text": [
      "file: naturalsociety.json added to DataFrame\n",
      "file: needtoknow.json added to DataFrame\n",
      "file: newamericannews.json added to DataFrame\n"
     ]
    },
    {
     "name": "stderr",
     "output_type": "stream",
     "text": [
      " 53%|██████████████████████████████████████████▌                                     | 276/519 [00:24<00:27,  8.72it/s]"
     ]
    },
    {
     "name": "stdout",
     "output_type": "stream",
     "text": [
      "file: newrepublic.json added to DataFrame\n",
      "file: news.json added to DataFrame\n"
     ]
    },
    {
     "name": "stderr",
     "output_type": "stream",
     "text": [
      " 54%|██████████████████████████████████████████▊                                     | 278/519 [00:24<00:24,  9.69it/s]"
     ]
    },
    {
     "name": "stdout",
     "output_type": "stream",
     "text": [
      "file: newsbiscuit.json added to DataFrame\n",
      "file: newsbud.json added to DataFrame\n"
     ]
    },
    {
     "name": "stderr",
     "output_type": "stream",
     "text": [
      " 54%|███████████████████████████████████████████▏                                    | 280/519 [00:25<00:46,  5.19it/s]"
     ]
    },
    {
     "name": "stdout",
     "output_type": "stream",
     "text": [
      "file: newsbusters.json added to DataFrame\n",
      "file: newsinsideoutcom.json added to DataFrame\n",
      "file: newslo.json added to DataFrame\n"
     ]
    },
    {
     "name": "stderr",
     "output_type": "stream",
     "text": [
      " 55%|███████████████████████████████████████████▊                                    | 284/519 [00:25<00:35,  6.66it/s]"
     ]
    },
    {
     "name": "stdout",
     "output_type": "stream",
     "text": [
      "file: newsmax.json added to DataFrame\n",
      "file: newsnetscotland.json added to DataFrame\n",
      "file: newspunch.json added to DataFrame\n"
     ]
    },
    {
     "name": "stderr",
     "output_type": "stream",
     "text": [
      " 55%|████████████████████████████████████████████                                    | 286/519 [00:26<00:34,  6.76it/s]"
     ]
    },
    {
     "name": "stdout",
     "output_type": "stream",
     "text": [
      "file: newswars.json added to DataFrame\n",
      "file: newsweek.json added to DataFrame\n",
      "file: newsyoucantuse.json added to DataFrame\n"
     ]
    },
    {
     "name": "stderr",
     "output_type": "stream",
     "text": [
      " 55%|████████████████████████████████████████████▍                                   | 288/519 [00:26<00:28,  8.12it/s]"
     ]
    },
    {
     "name": "stdout",
     "output_type": "stream",
     "text": [
      "file: newyorkdailynews.json added to DataFrame\n"
     ]
    },
    {
     "name": "stderr",
     "output_type": "stream",
     "text": [
      " 56%|████████████████████████████████████████████▋                                   | 290/519 [00:26<00:35,  6.40it/s]"
     ]
    },
    {
     "name": "stdout",
     "output_type": "stream",
     "text": [
      "file: newyorker.json added to DataFrame\n",
      "file: newyorkpost.json added to DataFrame\n"
     ]
    },
    {
     "name": "stderr",
     "output_type": "stream",
     "text": [
      " 56%|█████████████████████████████████████████████                                   | 292/519 [00:26<00:28,  8.10it/s]"
     ]
    },
    {
     "name": "stdout",
     "output_type": "stream",
     "text": [
      "file: nhpbs.json added to DataFrame\n",
      "file: niemanlab.json added to DataFrame\n",
      "file: noosanews.json added to DataFrame\n"
     ]
    },
    {
     "name": "stderr",
     "output_type": "stream",
     "text": [
      " 57%|█████████████████████████████████████████████▋                                  | 296/519 [00:27<00:22,  9.87it/s]"
     ]
    },
    {
     "name": "stdout",
     "output_type": "stream",
     "text": [
      "file: noqreport.json added to DataFrame\n",
      "file: northernstar.json added to DataFrame\n",
      "file: notrickszone.json added to DataFrame\n"
     ]
    },
    {
     "name": "stderr",
     "output_type": "stream",
     "text": [
      " 57%|█████████████████████████████████████████████▉                                  | 298/519 [00:27<00:22,  9.98it/s]"
     ]
    },
    {
     "name": "stdout",
     "output_type": "stream",
     "text": [
      "file: now8news.json added to DataFrame\n",
      "file: nowtheendbegins.json added to DataFrame\n"
     ]
    },
    {
     "name": "stderr",
     "output_type": "stream",
     "text": [
      " 58%|██████████████████████████████████████████████▏                                 | 300/519 [00:27<00:27,  8.02it/s]"
     ]
    },
    {
     "name": "stdout",
     "output_type": "stream",
     "text": [
      "file: npr.json added to DataFrame\n",
      "file: ntnews.json added to DataFrame\n",
      "file: nutritionfactsorg.json added to DataFrame\n"
     ]
    },
    {
     "name": "stderr",
     "output_type": "stream",
     "text": [
      " 58%|██████████████████████████████████████████████▌                                 | 302/519 [00:27<00:23,  9.17it/s]"
     ]
    },
    {
     "name": "stdout",
     "output_type": "stream",
     "text": [
      "file: nypost.json added to DataFrame\n",
      "file: nytimes.json added to DataFrame\n"
     ]
    },
    {
     "name": "stderr",
     "output_type": "stream",
     "text": [
      " 59%|███████████████████████████████████████████████▏                                | 306/519 [00:28<00:23,  9.00it/s]"
     ]
    },
    {
     "name": "stdout",
     "output_type": "stream",
     "text": [
      "file: oann.json added to DataFrame\n",
      "file: obamawatcher.json added to DataFrame\n",
      "file: occupydemocrats.json added to DataFrame\n"
     ]
    },
    {
     "name": "stderr",
     "output_type": "stream",
     "text": [
      " 59%|███████████████████████████████████████████████▍                                | 308/519 [00:28<00:21,  9.61it/s]"
     ]
    },
    {
     "name": "stdout",
     "output_type": "stream",
     "text": [
      "file: occupyyourself.json added to DataFrame\n",
      "file: offguardian.json added to DataFrame\n",
      "file: organicfacts.json added to DataFrame\n"
     ]
    },
    {
     "name": "stderr",
     "output_type": "stream",
     "text": [
      " 60%|███████████████████████████████████████████████▊                                | 310/519 [00:28<00:20, 10.10it/s]"
     ]
    },
    {
     "name": "stdout",
     "output_type": "stream",
     "text": [
      "file: osce.json added to DataFrame\n",
      "file: oyenews.json added to DataFrame\n"
     ]
    },
    {
     "name": "stderr",
     "output_type": "stream",
     "text": [
      " 60%|████████████████████████████████████████████████                                | 312/519 [00:28<00:21,  9.74it/s]"
     ]
    },
    {
     "name": "stdout",
     "output_type": "stream",
     "text": [
      "file: palmerreport.json added to DataFrame\n",
      "file: pamelagellerreport.json added to DataFrame\n"
     ]
    },
    {
     "name": "stderr",
     "output_type": "stream",
     "text": [
      " 61%|████████████████████████████████████████████████▋                               | 316/519 [00:29<00:25,  7.87it/s]"
     ]
    },
    {
     "name": "stdout",
     "output_type": "stream",
     "text": [
      "file: pbs.json added to DataFrame\n",
      "file: personalliberty.json added to DataFrame\n",
      "file: petapeoplefortheethicaltreatmentofanimals.json added to DataFrame\n"
     ]
    },
    {
     "name": "stderr",
     "output_type": "stream",
     "text": [
      " 61%|█████████████████████████████████████████████████                               | 318/519 [00:29<00:27,  7.20it/s]"
     ]
    },
    {
     "name": "stdout",
     "output_type": "stream",
     "text": [
      "file: physicsworld.json added to DataFrame\n",
      "file: pinknewsuk.json added to DataFrame\n"
     ]
    },
    {
     "name": "stderr",
     "output_type": "stream",
     "text": [
      " 62%|█████████████████████████████████████████████████▎                              | 320/519 [00:30<00:26,  7.63it/s]"
     ]
    },
    {
     "name": "stdout",
     "output_type": "stream",
     "text": [
      "file: politicalite.json added to DataFrame\n",
      "file: politicalwire.json added to DataFrame\n"
     ]
    },
    {
     "name": "stderr",
     "output_type": "stream",
     "text": [
      " 62%|█████████████████████████████████████████████████▍                              | 321/519 [00:30<00:41,  4.78it/s]"
     ]
    },
    {
     "name": "stdout",
     "output_type": "stream",
     "text": [
      "file: politico.json added to DataFrame\n",
      "file: politicscouk.json added to DataFrame\n"
     ]
    },
    {
     "name": "stderr",
     "output_type": "stream",
     "text": [
      " 62%|█████████████████████████████████████████████████▉                              | 324/519 [00:30<00:31,  6.24it/s]"
     ]
    },
    {
     "name": "stdout",
     "output_type": "stream",
     "text": [
      "file: politicususa.json added to DataFrame\n",
      "file: powerlineblog.json added to DataFrame\n"
     ]
    },
    {
     "name": "stderr",
     "output_type": "stream",
     "text": [
      " 63%|██████████████████████████████████████████████████▎                             | 326/519 [00:31<00:28,  6.83it/s]"
     ]
    },
    {
     "name": "stdout",
     "output_type": "stream",
     "text": [
      "file: pravadareport.json added to DataFrame\n",
      "file: prepareforchange.json added to DataFrame\n"
     ]
    },
    {
     "name": "stderr",
     "output_type": "stream",
     "text": [
      " 63%|██████████████████████████████████████████████████▋                             | 329/519 [00:31<00:29,  6.49it/s]"
     ]
    },
    {
     "name": "stdout",
     "output_type": "stream",
     "text": [
      "file: press.json added to DataFrame\n",
      "file: pressgazette.json added to DataFrame\n",
      "file: presswatchers.json added to DataFrame\n"
     ]
    },
    {
     "name": "stderr",
     "output_type": "stream",
     "text": [
      " 64%|███████████████████████████████████████████████████                             | 331/519 [00:32<00:28,  6.61it/s]"
     ]
    },
    {
     "name": "stdout",
     "output_type": "stream",
     "text": [
      "file: principiascientificinternational.json added to DataFrame\n",
      "file: prisonplanet.json added to DataFrame\n"
     ]
    },
    {
     "name": "stderr",
     "output_type": "stream",
     "text": [
      " 64%|███████████████████████████████████████████████████▎                            | 333/519 [00:32<00:23,  8.06it/s]"
     ]
    },
    {
     "name": "stdout",
     "output_type": "stream",
     "text": [
      "file: prntly.json added to DataFrame\n",
      "file: projects.json added to DataFrame\n",
      "file: pulse.json added to DataFrame\n"
     ]
    },
    {
     "name": "stderr",
     "output_type": "stream",
     "text": [
      " 65%|███████████████████████████████████████████████████▊                            | 336/519 [00:32<00:19,  9.29it/s]"
     ]
    },
    {
     "name": "stdout",
     "output_type": "stream",
     "text": [
      "file: radio.json added to DataFrame\n",
      "file: rapturenewsnetwork.json added to DataFrame\n"
     ]
    },
    {
     "name": "stderr",
     "output_type": "stream",
     "text": [
      " 65%|████████████████████████████████████████████████████                            | 338/519 [00:33<00:33,  5.37it/s]"
     ]
    },
    {
     "name": "stdout",
     "output_type": "stream",
     "text": [
      "file: rawstory.json added to DataFrame\n",
      "file: realclearpolitics.json added to DataFrame\n"
     ]
    },
    {
     "name": "stderr",
     "output_type": "stream",
     "text": [
      " 66%|████████████████████████████████████████████████████▍                           | 340/519 [00:33<00:25,  6.91it/s]"
     ]
    },
    {
     "name": "stdout",
     "output_type": "stream",
     "text": [
      "file: realclimatescience.json added to DataFrame\n",
      "file: realfarmacy.json added to DataFrame\n",
      "file: realjewnews.json added to DataFrame\n"
     ]
    },
    {
     "name": "stderr",
     "output_type": "stream",
     "text": [
      " 66%|████████████████████████████████████████████████████▋                           | 342/519 [00:33<00:22,  7.97it/s]"
     ]
    },
    {
     "name": "stdout",
     "output_type": "stream",
     "text": [
      "file: realnewsrightnow.json added to DataFrame\n",
      "file: redoubtnews.json added to DataFrame\n"
     ]
    },
    {
     "name": "stderr",
     "output_type": "stream",
     "text": [
      " 66%|█████████████████████████████████████████████████████                           | 344/519 [00:33<00:26,  6.70it/s]"
     ]
    },
    {
     "name": "stdout",
     "output_type": "stream",
     "text": [
      "file: redstate.json added to DataFrame\n",
      "file: remnantnewspaper.json added to DataFrame\n"
     ]
    },
    {
     "name": "stderr",
     "output_type": "stream",
     "text": [
      " 67%|█████████████████████████████████████████████████████▎                          | 346/519 [00:34<00:24,  6.97it/s]"
     ]
    },
    {
     "name": "stdout",
     "output_type": "stream",
     "text": [
      "file: renegadetribune.json added to DataFrame\n",
      "file: returntonow.json added to DataFrame\n"
     ]
    },
    {
     "name": "stderr",
     "output_type": "stream",
     "text": [
      " 67%|█████████████████████████████████████████████████████▊                          | 349/519 [00:34<00:22,  7.45it/s]"
     ]
    },
    {
     "name": "stdout",
     "output_type": "stream",
     "text": [
      "file: reuters.json added to DataFrame\n",
      "file: revolutionradio.json added to DataFrame\n"
     ]
    },
    {
     "name": "stderr",
     "output_type": "stream",
     "text": [
      " 68%|██████████████████████████████████████████████████████                          | 351/519 [00:34<00:22,  7.46it/s]"
     ]
    },
    {
     "name": "stdout",
     "output_type": "stream",
     "text": [
      "file: rferl.json added to DataFrame\n",
      "file: rightwingwatch.json added to DataFrame\n"
     ]
    },
    {
     "name": "stderr",
     "output_type": "stream",
     "text": [
      " 68%|██████████████████████████████████████████████████████▍                         | 353/519 [00:35<00:23,  6.93it/s]"
     ]
    },
    {
     "name": "stdout",
     "output_type": "stream",
     "text": [
      "file: rollcall.json added to DataFrame\n",
      "file: rt.json added to DataFrame\n"
     ]
    },
    {
     "name": "stderr",
     "output_type": "stream",
     "text": [
      " 69%|██████████████████████████████████████████████████████▊                         | 356/519 [00:35<00:19,  8.34it/s]"
     ]
    },
    {
     "name": "stdout",
     "output_type": "stream",
     "text": [
      "file: russia-insider.json added to DataFrame\n",
      "file: russiainsider.json added to DataFrame\n",
      "file: sanevax.json added to DataFrame\n"
     ]
    },
    {
     "name": "stderr",
     "output_type": "stream",
     "text": [
      " 69%|███████████████████████████████████████████████████████▎                        | 359/519 [00:35<00:17,  9.02it/s]"
     ]
    },
    {
     "name": "stdout",
     "output_type": "stream",
     "text": [
      "file: saraacater.json added to DataFrame\n",
      "file: scienceblogs.json added to DataFrame\n",
      "file: sciencevibe.json added to DataFrame\n"
     ]
    },
    {
     "name": "stderr",
     "output_type": "stream",
     "text": [
      " 70%|███████████████████████████████████████████████████████▊                        | 362/519 [00:35<00:16,  9.63it/s]"
     ]
    },
    {
     "name": "stdout",
     "output_type": "stream",
     "text": [
      "file: scientificamerican.json added to DataFrame\n",
      "file: scrappleface.json added to DataFrame\n",
      "file: sctimes.json added to DataFrame\n"
     ]
    },
    {
     "name": "stderr",
     "output_type": "stream",
     "text": [
      " 70%|████████████████████████████████████████████████████████                        | 364/519 [00:36<00:17,  8.73it/s]"
     ]
    },
    {
     "name": "stdout",
     "output_type": "stream",
     "text": [
      "file: sgtreport.json added to DataFrame\n",
      "file: shadowproof.json added to DataFrame\n"
     ]
    },
    {
     "name": "stderr",
     "output_type": "stream",
     "text": [
      " 71%|████████████████████████████████████████████████████████▍                       | 366/519 [00:36<00:19,  7.84it/s]"
     ]
    },
    {
     "name": "stdout",
     "output_type": "stream",
     "text": [
      "file: shareblue.json added to DataFrame\n",
      "file: shoebat.json added to DataFrame\n"
     ]
    },
    {
     "name": "stderr",
     "output_type": "stream",
     "text": [
      " 71%|████████████████████████████████████████████████████████▋                       | 368/519 [00:36<00:18,  8.17it/s]"
     ]
    },
    {
     "name": "stdout",
     "output_type": "stream",
     "text": [
      "file: shtfplan.json added to DataFrame\n",
      "file: skeptiko.json added to DataFrame\n"
     ]
    },
    {
     "name": "stderr",
     "output_type": "stream",
     "text": [
      " 71%|█████████████████████████████████████████████████████████                       | 370/519 [00:37<00:19,  7.77it/s]"
     ]
    },
    {
     "name": "stdout",
     "output_type": "stream",
     "text": [
      "file: skynewspolitics.json added to DataFrame\n",
      "file: skynewsus.json added to DataFrame\n"
     ]
    },
    {
     "name": "stderr",
     "output_type": "stream",
     "text": [
      " 72%|█████████████████████████████████████████████████████████▎                      | 372/519 [00:37<00:29,  4.92it/s]"
     ]
    },
    {
     "name": "stdout",
     "output_type": "stream",
     "text": [
      "file: slate.json added to DataFrame\n",
      "file: sluggerotoole.json added to DataFrame\n"
     ]
    },
    {
     "name": "stderr",
     "output_type": "stream",
     "text": [
      " 72%|█████████████████████████████████████████████████████████▋                      | 374/519 [00:37<00:21,  6.60it/s]"
     ]
    },
    {
     "name": "stdout",
     "output_type": "stream",
     "text": [
      "file: smh.json added to DataFrame\n",
      "file: social.json added to DataFrame\n"
     ]
    },
    {
     "name": "stderr",
     "output_type": "stream",
     "text": [
      " 72%|█████████████████████████████████████████████████████████▊                      | 375/519 [00:38<00:32,  4.43it/s]"
     ]
    },
    {
     "name": "stdout",
     "output_type": "stream",
     "text": [
      "file: sottnet.json added to DataFrame\n"
     ]
    },
    {
     "name": "stderr",
     "output_type": "stream",
     "text": [
      " 72%|█████████████████████████████████████████████████████████▉                      | 376/519 [00:38<00:32,  4.36it/s]"
     ]
    },
    {
     "name": "stdout",
     "output_type": "stream",
     "text": [
      "file: southfront.json added to DataFrame\n"
     ]
    },
    {
     "name": "stderr",
     "output_type": "stream",
     "text": [
      " 73%|██████████████████████████████████████████████████████████                      | 377/519 [00:38<00:36,  3.91it/s]"
     ]
    },
    {
     "name": "stdout",
     "output_type": "stream",
     "text": [
      "file: spiegel.json added to DataFrame\n"
     ]
    },
    {
     "name": "stderr",
     "output_type": "stream",
     "text": [
      " 73%|██████████████████████████████████████████████████████████▎                     | 378/519 [00:39<00:51,  2.71it/s]"
     ]
    },
    {
     "name": "stdout",
     "output_type": "stream",
     "text": [
      "file: sputnik.json added to DataFrame\n"
     ]
    },
    {
     "name": "stderr",
     "output_type": "stream",
     "text": [
      " 73%|██████████████████████████████████████████████████████████▋                     | 381/519 [00:40<00:30,  4.49it/s]"
     ]
    },
    {
     "name": "stdout",
     "output_type": "stream",
     "text": [
      "file: stillnessinthestorm.json added to DataFrame\n",
      "file: straitstimes.json added to DataFrame\n",
      "file: summitnews.json added to DataFrame\n"
     ]
    },
    {
     "name": "stderr",
     "output_type": "stream",
     "text": [
      " 74%|███████████████████████████████████████████████████████████                     | 383/519 [00:40<00:22,  5.97it/s]"
     ]
    },
    {
     "name": "stdout",
     "output_type": "stream",
     "text": [
      "file: sunshinecoastdaily.json added to DataFrame\n",
      "file: sustainablepulse.json added to DataFrame\n"
     ]
    },
    {
     "name": "stderr",
     "output_type": "stream",
     "text": [
      " 74%|███████████████████████████████████████████████████████████▏                    | 384/519 [00:40<00:22,  5.95it/s]"
     ]
    },
    {
     "name": "stdout",
     "output_type": "stream",
     "text": [
      "file: talkingpointsmemo.json added to DataFrame\n"
     ]
    },
    {
     "name": "stderr",
     "output_type": "stream",
     "text": [
      " 74%|███████████████████████████████████████████████████████████▍                    | 386/519 [00:40<00:25,  5.31it/s]"
     ]
    },
    {
     "name": "stdout",
     "output_type": "stream",
     "text": [
      "file: tass.json added to DataFrame\n",
      "file: techxplore.json added to DataFrame\n"
     ]
    },
    {
     "name": "stderr",
     "output_type": "stream",
     "text": [
      " 75%|███████████████████████████████████████████████████████████▉                    | 389/519 [00:41<00:18,  7.05it/s]"
     ]
    },
    {
     "name": "stdout",
     "output_type": "stream",
     "text": [
      "file: telegraph.json added to DataFrame\n",
      "file: theamericanconservative.json added to DataFrame\n",
      "file: theantimedia.json added to DataFrame\n"
     ]
    },
    {
     "name": "stderr",
     "output_type": "stream",
     "text": [
      " 75%|████████████████████████████████████████████████████████████▎                   | 391/519 [00:41<00:17,  7.32it/s]"
     ]
    },
    {
     "name": "stdout",
     "output_type": "stream",
     "text": [
      "file: theatlantic.json added to DataFrame\n",
      "file: thebeaverton.json added to DataFrame\n"
     ]
    },
    {
     "name": "stderr",
     "output_type": "stream",
     "text": [
      " 76%|████████████████████████████████████████████████████████████▌                   | 393/519 [00:41<00:18,  6.79it/s]"
     ]
    },
    {
     "name": "stdout",
     "output_type": "stream",
     "text": [
      "file: thebl.json added to DataFrame\n",
      "file: theblaze.json added to DataFrame\n"
     ]
    },
    {
     "name": "stderr",
     "output_type": "stream",
     "text": [
      " 76%|████████████████████████████████████████████████████████████▉                   | 395/519 [00:42<00:16,  7.32it/s]"
     ]
    },
    {
     "name": "stdout",
     "output_type": "stream",
     "text": [
      "file: theborowitzreport.json added to DataFrame\n",
      "file: thebulwark.json added to DataFrame\n"
     ]
    },
    {
     "name": "stderr",
     "output_type": "stream",
     "text": [
      " 76%|█████████████████████████████████████████████████████████████▏                  | 397/519 [00:42<00:14,  8.25it/s]"
     ]
    },
    {
     "name": "stdout",
     "output_type": "stream",
     "text": [
      "file: thechaser.json added to DataFrame\n",
      "file: thechronicle.json added to DataFrame\n"
     ]
    },
    {
     "name": "stderr",
     "output_type": "stream",
     "text": [
      " 77%|█████████████████████████████████████████████████████████████▌                  | 399/519 [00:42<00:16,  7.36it/s]"
     ]
    },
    {
     "name": "stdout",
     "output_type": "stream",
     "text": [
      "file: thecollegefix.json added to DataFrame\n",
      "file: theconservativetreehouse.json added to DataFrame\n"
     ]
    },
    {
     "name": "stderr",
     "output_type": "stream",
     "text": [
      " 77%|█████████████████████████████████████████████████████████████▊                  | 401/519 [00:42<00:14,  8.00it/s]"
     ]
    },
    {
     "name": "stdout",
     "output_type": "stream",
     "text": [
      "file: thecorbettreport.json added to DataFrame\n",
      "file: thedailyblog.json added to DataFrame\n"
     ]
    },
    {
     "name": "stderr",
     "output_type": "stream",
     "text": [
      " 78%|██████████████████████████████████████████████████████████████                  | 403/519 [00:43<00:17,  6.64it/s]"
     ]
    },
    {
     "name": "stdout",
     "output_type": "stream",
     "text": [
      "file: thedailycaller.json added to DataFrame\n",
      "file: thedailyconspiracy.json added to DataFrame\n"
     ]
    },
    {
     "name": "stderr",
     "output_type": "stream",
     "text": [
      " 78%|██████████████████████████████████████████████████████████████▎                 | 404/519 [00:43<00:20,  5.70it/s]"
     ]
    },
    {
     "name": "stdout",
     "output_type": "stream",
     "text": [
      "file: thedailyecho.json added to DataFrame\n"
     ]
    },
    {
     "name": "stderr",
     "output_type": "stream",
     "text": [
      " 78%|██████████████████████████████████████████████████████████████▌                 | 406/519 [00:43<00:27,  4.10it/s]"
     ]
    },
    {
     "name": "stdout",
     "output_type": "stream",
     "text": [
      "file: thedailyexpress.json added to DataFrame\n",
      "file: thedailymirror.json added to DataFrame\n"
     ]
    },
    {
     "name": "stderr",
     "output_type": "stream",
     "text": [
      " 79%|██████████████████████████████████████████████████████████████▉                 | 408/519 [00:44<00:24,  4.47it/s]"
     ]
    },
    {
     "name": "stdout",
     "output_type": "stream",
     "text": [
      "file: thedailyrecord.json added to DataFrame\n",
      "file: thedailysheeple.json added to DataFrame\n"
     ]
    },
    {
     "name": "stderr",
     "output_type": "stream",
     "text": [
      " 79%|███████████████████████████████████████████████████████████████                 | 409/519 [00:44<00:23,  4.70it/s]"
     ]
    },
    {
     "name": "stdout",
     "output_type": "stream",
     "text": [
      "file: thedcclothesline.json added to DataFrame\n"
     ]
    },
    {
     "name": "stderr",
     "output_type": "stream",
     "text": [
      " 79%|███████████████████████████████████████████████████████████████▎                | 411/519 [00:44<00:20,  5.18it/s]"
     ]
    },
    {
     "name": "stdout",
     "output_type": "stream",
     "text": [
      "file: thedenverpost.json added to DataFrame\n",
      "file: thedrum.json added to DataFrame\n"
     ]
    },
    {
     "name": "stderr",
     "output_type": "stream",
     "text": [
      " 79%|███████████████████████████████████████████████████████████████▌                | 412/519 [00:45<00:19,  5.58it/s]"
     ]
    },
    {
     "name": "stdout",
     "output_type": "stream",
     "text": [
      "file: theduran.json added to DataFrame\n"
     ]
    },
    {
     "name": "stderr",
     "output_type": "stream",
     "text": [
      " 80%|███████████████████████████████████████████████████████████████▊                | 414/519 [00:45<00:23,  4.44it/s]"
     ]
    },
    {
     "name": "stdout",
     "output_type": "stream",
     "text": [
      "file: theepochtimes.json added to DataFrame\n",
      "file: theeuropeanuniontimes.json added to DataFrame\n"
     ]
    },
    {
     "name": "stderr",
     "output_type": "stream",
     "text": [
      " 80%|███████████████████████████████████████████████████████████████▉                | 415/519 [00:45<00:20,  5.14it/s]"
     ]
    },
    {
     "name": "stdout",
     "output_type": "stream",
     "text": [
      "file: thefiscaltimes.json added to DataFrame\n"
     ]
    },
    {
     "name": "stderr",
     "output_type": "stream",
     "text": [
      " 80%|████████████████████████████████████████████████████████████████▎               | 417/519 [00:46<00:20,  5.01it/s]"
     ]
    },
    {
     "name": "stdout",
     "output_type": "stream",
     "text": [
      "file: thegatewaypundit.json added to DataFrame\n",
      "file: thegreanvillepostbiasrating.json added to DataFrame\n"
     ]
    },
    {
     "name": "stderr",
     "output_type": "stream",
     "text": [
      " 81%|████████████████████████████████████████████████████████████████▍               | 418/519 [00:46<00:21,  4.61it/s]"
     ]
    },
    {
     "name": "stdout",
     "output_type": "stream",
     "text": [
      "file: theguardian.json added to DataFrame\n"
     ]
    },
    {
     "name": "stderr",
     "output_type": "stream",
     "text": [
      " 81%|████████████████████████████████████████████████████████████████▋               | 420/519 [00:48<00:46,  2.13it/s]"
     ]
    },
    {
     "name": "stdout",
     "output_type": "stream",
     "text": [
      "file: theguardianuk.json added to DataFrame\n",
      "file: theheartysoul.json added to DataFrame\n"
     ]
    },
    {
     "name": "stderr",
     "output_type": "stream",
     "text": [
      " 81%|████████████████████████████████████████████████████████████████▉               | 421/519 [00:48<00:39,  2.49it/s]"
     ]
    },
    {
     "name": "stdout",
     "output_type": "stream",
     "text": [
      "file: thehill.json added to DataFrame\n"
     ]
    },
    {
     "name": "stderr",
     "output_type": "stream",
     "text": [
      " 82%|█████████████████████████████████████████████████████████████████▏              | 423/519 [00:48<00:32,  3.00it/s]"
     ]
    },
    {
     "name": "stdout",
     "output_type": "stream",
     "text": [
      "file: thehuffingtonpost.json added to DataFrame\n",
      "file: thehuffingtonpostuk.json added to DataFrame\n"
     ]
    },
    {
     "name": "stderr",
     "output_type": "stream",
     "text": [
      " 82%|█████████████████████████████████████████████████████████████████▎              | 424/519 [00:50<01:01,  1.55it/s]"
     ]
    },
    {
     "name": "stdout",
     "output_type": "stream",
     "text": [
      "file: theindependent.json added to DataFrame\n"
     ]
    },
    {
     "name": "stderr",
     "output_type": "stream",
     "text": [
      " 82%|█████████████████████████████████████████████████████████████████▌              | 425/519 [00:50<00:49,  1.91it/s]"
     ]
    },
    {
     "name": "stdout",
     "output_type": "stream",
     "text": [
      "file: theintercept.json added to DataFrame\n"
     ]
    },
    {
     "name": "stderr",
     "output_type": "stream",
     "text": [
      " 82%|█████████████████████████████████████████████████████████████████▊              | 427/519 [00:51<00:33,  2.73it/s]"
     ]
    },
    {
     "name": "stdout",
     "output_type": "stream",
     "text": [
      "file: theirishtimes.json added to DataFrame\n",
      "file: thejakartapost.json added to DataFrame\n"
     ]
    },
    {
     "name": "stderr",
     "output_type": "stream",
     "text": [
      " 82%|█████████████████████████████████████████████████████████████████▉              | 428/519 [00:51<00:29,  3.09it/s]"
     ]
    },
    {
     "name": "stdout",
     "output_type": "stream",
     "text": [
      "file: thelibertybeacon.json added to DataFrame\n"
     ]
    },
    {
     "name": "stderr",
     "output_type": "stream",
     "text": [
      " 83%|██████████████████████████████████████████████████████████████████▏             | 429/519 [00:51<00:27,  3.26it/s]"
     ]
    },
    {
     "name": "stdout",
     "output_type": "stream",
     "text": [
      "file: thelibertydaily.json added to DataFrame\n"
     ]
    },
    {
     "name": "stderr",
     "output_type": "stream",
     "text": [
      " 83%|██████████████████████████████████████████████████████████████████▍             | 431/519 [00:52<00:24,  3.59it/s]"
     ]
    },
    {
     "name": "stdout",
     "output_type": "stream",
     "text": [
      "file: themanchestereveningnews.json added to DataFrame\n",
      "file: themichellemalkinblog.json added to DataFrame\n"
     ]
    },
    {
     "name": "stderr",
     "output_type": "stream",
     "text": [
      " 83%|██████████████████████████████████████████████████████████████████▋             | 433/519 [00:52<00:18,  4.72it/s]"
     ]
    },
    {
     "name": "stdout",
     "output_type": "stream",
     "text": [
      "file: themillenniumreport.json added to DataFrame\n",
      "file: themindunleashed.json added to DataFrame\n"
     ]
    },
    {
     "name": "stderr",
     "output_type": "stream",
     "text": [
      " 84%|██████████████████████████████████████████████████████████████████▉             | 434/519 [00:52<00:15,  5.37it/s]"
     ]
    },
    {
     "name": "stdout",
     "output_type": "stream",
     "text": [
      "file: themorningbulletin.json added to DataFrame\n"
     ]
    },
    {
     "name": "stderr",
     "output_type": "stream",
     "text": [
      " 84%|███████████████████████████████████████████████████████████████████             | 435/519 [00:52<00:20,  4.12it/s]"
     ]
    },
    {
     "name": "stdout",
     "output_type": "stream",
     "text": [
      "file: themoscowtimes.json added to DataFrame\n"
     ]
    },
    {
     "name": "stderr",
     "output_type": "stream",
     "text": [
      " 84%|███████████████████████████████████████████████████████████████████▏            | 436/519 [00:53<00:19,  4.17it/s]"
     ]
    },
    {
     "name": "stdout",
     "output_type": "stream",
     "text": [
      "file: thenation.json added to DataFrame\n"
     ]
    },
    {
     "name": "stderr",
     "output_type": "stream",
     "text": [
      " 84%|███████████████████████████████████████████████████████████████████▌            | 438/519 [00:53<00:21,  3.72it/s]"
     ]
    },
    {
     "name": "stdout",
     "output_type": "stream",
     "text": [
      "file: thenewyorktimes.json added to DataFrame\n",
      "file: theonion.json added to DataFrame\n"
     ]
    },
    {
     "name": "stderr",
     "output_type": "stream",
     "text": [
      " 85%|███████████████████████████████████████████████████████████████████▋            | 439/519 [00:53<00:18,  4.28it/s]"
     ]
    },
    {
     "name": "stdout",
     "output_type": "stream",
     "text": [
      "file: thepoke.json added to DataFrame\n"
     ]
    },
    {
     "name": "stderr",
     "output_type": "stream",
     "text": [
      " 85%|████████████████████████████████████████████████████████████████████▏           | 442/519 [00:54<00:15,  5.07it/s]"
     ]
    },
    {
     "name": "stdout",
     "output_type": "stream",
     "text": [
      "file: thepoliticalinsider.json added to DataFrame\n",
      "file: therealnews.json added to DataFrame\n",
      "file: therightscoop.json added to DataFrame\n"
     ]
    },
    {
     "name": "stderr",
     "output_type": "stream",
     "text": [
      " 85%|████████████████████████████████████████████████████████████████████▎           | 443/519 [00:54<00:17,  4.30it/s]"
     ]
    },
    {
     "name": "stdout",
     "output_type": "stream",
     "text": [
      "file: theroot.json added to DataFrame\n"
     ]
    },
    {
     "name": "stderr",
     "output_type": "stream",
     "text": [
      " 86%|████████████████████████████████████████████████████████████████████▌           | 445/519 [00:56<00:31,  2.33it/s]"
     ]
    },
    {
     "name": "stdout",
     "output_type": "stream",
     "text": [
      "file: therussophileorg.json added to DataFrame\n",
      "file: thescientist.json added to DataFrame\n"
     ]
    },
    {
     "name": "stderr",
     "output_type": "stream",
     "text": [
      " 86%|████████████████████████████████████████████████████████████████████▉           | 447/519 [00:56<00:24,  2.89it/s]"
     ]
    },
    {
     "name": "stdout",
     "output_type": "stream",
     "text": [
      "file: theseattletimes.json added to DataFrame\n",
      "file: theshovel.json added to DataFrame\n"
     ]
    },
    {
     "name": "stderr",
     "output_type": "stream",
     "text": [
      " 87%|█████████████████████████████████████████████████████████████████████▏          | 449/519 [00:57<00:17,  4.11it/s]"
     ]
    },
    {
     "name": "stdout",
     "output_type": "stream",
     "text": [
      "file: thesmokinggun.json added to DataFrame\n",
      "file: thespoof.json added to DataFrame\n"
     ]
    },
    {
     "name": "stderr",
     "output_type": "stream",
     "text": [
      " 87%|█████████████████████████████████████████████████████████████████████▎          | 450/519 [00:57<00:16,  4.24it/s]"
     ]
    },
    {
     "name": "stdout",
     "output_type": "stream",
     "text": [
      "file: thestream.json added to DataFrame\n"
     ]
    },
    {
     "name": "stderr",
     "output_type": "stream",
     "text": [
      " 87%|█████████████████████████████████████████████████████████████████████▋          | 452/519 [00:59<00:31,  2.10it/s]"
     ]
    },
    {
     "name": "stdout",
     "output_type": "stream",
     "text": [
      "file: thesun.json added to DataFrame\n",
      "file: thesundaily.json added to DataFrame\n"
     ]
    },
    {
     "name": "stderr",
     "output_type": "stream",
     "text": [
      " 87%|█████████████████████████████████████████████████████████████████████▊          | 453/519 [00:59<00:33,  1.98it/s]"
     ]
    },
    {
     "name": "stdout",
     "output_type": "stream",
     "text": [
      "file: thetelegraph.json added to DataFrame\n"
     ]
    },
    {
     "name": "stderr",
     "output_type": "stream",
     "text": [
      " 88%|██████████████████████████████████████████████████████████████████████▏         | 455/519 [01:00<00:23,  2.72it/s]"
     ]
    },
    {
     "name": "stdout",
     "output_type": "stream",
     "text": [
      "file: thetennesseestar.json added to DataFrame\n",
      "file: thetimes.json added to DataFrame\n"
     ]
    },
    {
     "name": "stderr",
     "output_type": "stream",
     "text": [
      " 88%|██████████████████████████████████████████████████████████████████████▍         | 457/519 [01:00<00:19,  3.21it/s]"
     ]
    },
    {
     "name": "stdout",
     "output_type": "stream",
     "text": [
      "file: thetorontostar.json added to DataFrame\n",
      "file: thetrumpet.json added to DataFrame\n"
     ]
    },
    {
     "name": "stderr",
     "output_type": "stream",
     "text": [
      " 88%|██████████████████████████████████████████████████████████████████████▊         | 459/519 [01:00<00:14,  4.25it/s]"
     ]
    },
    {
     "name": "stdout",
     "output_type": "stream",
     "text": [
      "file: thetruthaboutcancer.json added to DataFrame\n",
      "file: thevaccinereaction.json added to DataFrame\n"
     ]
    },
    {
     "name": "stderr",
     "output_type": "stream",
     "text": [
      " 89%|██████████████████████████████████████████████████████████████████████▉         | 460/519 [01:01<00:12,  4.85it/s]"
     ]
    },
    {
     "name": "stdout",
     "output_type": "stream",
     "text": [
      "file: thevalleyreport.json added to DataFrame\n"
     ]
    },
    {
     "name": "stderr",
     "output_type": "stream",
     "text": [
      " 89%|███████████████████████████████████████████████████████████████████████▏        | 462/519 [01:01<00:11,  4.80it/s]"
     ]
    },
    {
     "name": "stdout",
     "output_type": "stream",
     "text": [
      "file: theverge.json added to DataFrame\n",
      "file: thewakingtimes.json added to DataFrame\n"
     ]
    },
    {
     "name": "stderr",
     "output_type": "stream",
     "text": [
      " 89%|███████████████████████████████████████████████████████████████████████▎        | 463/519 [01:01<00:12,  4.56it/s]"
     ]
    },
    {
     "name": "stdout",
     "output_type": "stream",
     "text": [
      "file: thewashingtonexaminer.json added to DataFrame\n"
     ]
    },
    {
     "name": "stderr",
     "output_type": "stream",
     "text": [
      " 90%|███████████████████████████████████████████████████████████████████████▋        | 465/519 [01:02<00:12,  4.46it/s]"
     ]
    },
    {
     "name": "stdout",
     "output_type": "stream",
     "text": [
      "file: thewashingtonstandard.json added to DataFrame\n",
      "file: theweekuk.json added to DataFrame\n"
     ]
    },
    {
     "name": "stderr",
     "output_type": "stream",
     "text": [
      " 90%|███████████████████████████████████████████████████████████████████████▉        | 467/519 [01:02<00:09,  5.44it/s]"
     ]
    },
    {
     "name": "stdout",
     "output_type": "stream",
     "text": [
      "file: thewrap.json added to DataFrame\n",
      "file: thinkingmomsrevolution.json added to DataFrame\n"
     ]
    },
    {
     "name": "stderr",
     "output_type": "stream",
     "text": [
      " 90%|████████████████████████████████████████████████████████████████████████▎       | 469/519 [01:02<00:09,  5.55it/s]"
     ]
    },
    {
     "name": "stdout",
     "output_type": "stream",
     "text": [
      "file: thinkprogress.json added to DataFrame\n",
      "file: thoughtcatalog.json added to DataFrame\n"
     ]
    },
    {
     "name": "stderr",
     "output_type": "stream",
     "text": [
      " 91%|████████████████████████████████████████████████████████████████████████▌       | 471/519 [01:03<00:08,  5.89it/s]"
     ]
    },
    {
     "name": "stdout",
     "output_type": "stream",
     "text": [
      "file: thoughtcrimeradio.json added to DataFrame\n",
      "file: townsvillebulletin.json added to DataFrame\n"
     ]
    },
    {
     "name": "stderr",
     "output_type": "stream",
     "text": [
      " 91%|████████████████████████████████████████████████████████████████████████▊       | 472/519 [01:03<00:07,  6.11it/s]"
     ]
    },
    {
     "name": "stdout",
     "output_type": "stream",
     "text": [
      "file: trueactivist.json added to DataFrame\n"
     ]
    },
    {
     "name": "stderr",
     "output_type": "stream",
     "text": [
      " 91%|█████████████████████████████████████████████████████████████████████████       | 474/519 [01:03<00:08,  5.40it/s]"
     ]
    },
    {
     "name": "stdout",
     "output_type": "stream",
     "text": [
      "file: truepundit.json added to DataFrame\n",
      "file: trumptimes.json added to DataFrame\n"
     ]
    },
    {
     "name": "stderr",
     "output_type": "stream",
     "text": [
      " 92%|█████████████████████████████████████████████████████████████████████████▏      | 475/519 [01:03<00:07,  5.75it/s]"
     ]
    },
    {
     "name": "stdout",
     "output_type": "stream",
     "text": [
      "file: trunews.json added to DataFrame\n"
     ]
    },
    {
     "name": "stderr",
     "output_type": "stream",
     "text": [
      " 92%|█████████████████████████████████████████████████████████████████████████▌      | 477/519 [01:04<00:08,  5.13it/s]"
     ]
    },
    {
     "name": "stdout",
     "output_type": "stream",
     "text": [
      "file: truthout.json added to DataFrame\n",
      "file: truththeory.json added to DataFrame\n"
     ]
    },
    {
     "name": "stderr",
     "output_type": "stream",
     "text": [
      " 92%|█████████████████████████████████████████████████████████████████████████▊      | 479/519 [01:04<00:06,  5.78it/s]"
     ]
    },
    {
     "name": "stdout",
     "output_type": "stream",
     "text": [
      "file: tubefilter.json added to DataFrame\n",
      "file: tweeddailynews.json added to DataFrame\n"
     ]
    },
    {
     "name": "stderr",
     "output_type": "stream",
     "text": [
      " 92%|█████████████████████████████████████████████████████████████████████████▉      | 480/519 [01:04<00:06,  5.72it/s]"
     ]
    },
    {
     "name": "stdout",
     "output_type": "stream",
     "text": [
      "file: ukcolumn.json added to DataFrame\n"
     ]
    },
    {
     "name": "stderr",
     "output_type": "stream",
     "text": [
      " 93%|██████████████████████████████████████████████████████████████████████████▏     | 481/519 [01:05<00:07,  4.93it/s]"
     ]
    },
    {
     "name": "stdout",
     "output_type": "stream",
     "text": [
      "file: unian.json added to DataFrame\n"
     ]
    },
    {
     "name": "stderr",
     "output_type": "stream",
     "text": [
      " 93%|██████████████████████████████████████████████████████████████████████████▍     | 483/519 [01:05<00:07,  4.54it/s]"
     ]
    },
    {
     "name": "stdout",
     "output_type": "stream",
     "text": [
      "file: upi.json added to DataFrame\n",
      "file: urbanintellectuals.json added to DataFrame\n"
     ]
    },
    {
     "name": "stderr",
     "output_type": "stream",
     "text": [
      " 93%|██████████████████████████████████████████████████████████████████████████▌     | 484/519 [01:05<00:07,  4.90it/s]"
     ]
    },
    {
     "name": "stdout",
     "output_type": "stream",
     "text": [
      "file: usahitman.json added to DataFrame\n"
     ]
    },
    {
     "name": "stderr",
     "output_type": "stream",
     "text": [
      " 94%|██████████████████████████████████████████████████████████████████████████▉     | 486/519 [01:06<00:09,  3.53it/s]"
     ]
    },
    {
     "name": "stdout",
     "output_type": "stream",
     "text": [
      "file: usatoday.json added to DataFrame\n",
      "file: usawatchdogcom.json added to DataFrame\n"
     ]
    },
    {
     "name": "stderr",
     "output_type": "stream",
     "text": [
      " 94%|███████████████████████████████████████████████████████████████████████████▏    | 488/519 [01:08<00:14,  2.20it/s]"
     ]
    },
    {
     "name": "stdout",
     "output_type": "stream",
     "text": [
      "file: usnews.json added to DataFrame\n",
      "file: vanityfair.json added to DataFrame\n"
     ]
    },
    {
     "name": "stderr",
     "output_type": "stream",
     "text": [
      " 94%|███████████████████████████████████████████████████████████████████████████▍    | 489/519 [01:08<00:11,  2.72it/s]"
     ]
    },
    {
     "name": "stdout",
     "output_type": "stream",
     "text": [
      "file: vaxxter.json added to DataFrame\n"
     ]
    },
    {
     "name": "stderr",
     "output_type": "stream",
     "text": [
      " 94%|███████████████████████████████████████████████████████████████████████████▌    | 490/519 [01:08<00:09,  3.07it/s]"
     ]
    },
    {
     "name": "stdout",
     "output_type": "stream",
     "text": [
      "file: vdare.json added to DataFrame\n"
     ]
    },
    {
     "name": "stderr",
     "output_type": "stream",
     "text": [
      " 95%|███████████████████████████████████████████████████████████████████████████▊    | 492/519 [01:08<00:07,  3.58it/s]"
     ]
    },
    {
     "name": "stdout",
     "output_type": "stream",
     "text": [
      "file: veteranstoday.json added to DataFrame\n",
      "file: vigilantcitizen.json added to DataFrame\n"
     ]
    },
    {
     "name": "stderr",
     "output_type": "stream",
     "text": [
      " 95%|███████████████████████████████████████████████████████████████████████████▉    | 493/519 [01:09<00:06,  4.13it/s]"
     ]
    },
    {
     "name": "stdout",
     "output_type": "stream",
     "text": [
      "file: viralnewsnetwork.json added to DataFrame\n"
     ]
    },
    {
     "name": "stderr",
     "output_type": "stream",
     "text": [
      " 95%|████████████████████████████████████████████████████████████████████████████▎   | 495/519 [01:09<00:06,  3.78it/s]"
     ]
    },
    {
     "name": "stdout",
     "output_type": "stream",
     "text": [
      "file: vox.json added to DataFrame\n",
      "file: wakingtimes.json added to DataFrame\n"
     ]
    },
    {
     "name": "stderr",
     "output_type": "stream",
     "text": [
      " 96%|████████████████████████████████████████████████████████████████████████████▌   | 497/519 [01:10<00:04,  4.61it/s]"
     ]
    },
    {
     "name": "stdout",
     "output_type": "stream",
     "text": [
      "file: warroom.json added to DataFrame\n",
      "file: warwickdailynews.json added to DataFrame\n"
     ]
    },
    {
     "name": "stderr",
     "output_type": "stream",
     "text": [
      " 96%|████████████████████████████████████████████████████████████████████████████▊   | 498/519 [01:10<00:04,  4.75it/s]"
     ]
    },
    {
     "name": "stdout",
     "output_type": "stream",
     "text": [
      "file: washingtonmonthly.json added to DataFrame\n"
     ]
    },
    {
     "name": "stderr",
     "output_type": "stream",
     "text": [
      " 96%|████████████████████████████████████████████████████████████████████████████▉   | 499/519 [01:11<00:08,  2.33it/s]"
     ]
    },
    {
     "name": "stdout",
     "output_type": "stream",
     "text": [
      "file: washingtonpost.json added to DataFrame\n"
     ]
    },
    {
     "name": "stderr",
     "output_type": "stream",
     "text": [
      " 97%|█████████████████████████████████████████████████████████████████████████████▏  | 501/519 [01:11<00:06,  2.91it/s]"
     ]
    },
    {
     "name": "stdout",
     "output_type": "stream",
     "text": [
      "file: washingtontimes.json added to DataFrame\n",
      "file: wattsupwiththat.json added to DataFrame\n"
     ]
    },
    {
     "name": "stderr",
     "output_type": "stream",
     "text": [
      " 97%|█████████████████████████████████████████████████████████████████████████████▌  | 503/519 [01:12<00:04,  3.84it/s]"
     ]
    },
    {
     "name": "stdout",
     "output_type": "stream",
     "text": [
      "file: weareanonymous.json added to DataFrame\n",
      "file: wearechange.json added to DataFrame\n"
     ]
    },
    {
     "name": "stderr",
     "output_type": "stream",
     "text": [
      " 97%|█████████████████████████████████████████████████████████████████████████████▊  | 505/519 [01:12<00:03,  4.54it/s]"
     ]
    },
    {
     "name": "stdout",
     "output_type": "stream",
     "text": [
      "file: welovetrump.json added to DataFrame\n",
      "file: wessexscene.json added to DataFrame\n"
     ]
    },
    {
     "name": "stderr",
     "output_type": "stream",
     "text": [
      " 97%|█████████████████████████████████████████████████████████████████████████████▉  | 506/519 [01:12<00:03,  3.49it/s]"
     ]
    },
    {
     "name": "stdout",
     "output_type": "stream",
     "text": [
      "file: westernjournal.json added to DataFrame\n"
     ]
    },
    {
     "name": "stderr",
     "output_type": "stream",
     "text": [
      " 98%|██████████████████████████████████████████████████████████████████████████████▎ | 508/519 [01:14<00:04,  2.26it/s]"
     ]
    },
    {
     "name": "stdout",
     "output_type": "stream",
     "text": [
      "file: whatreallyhappened.json added to DataFrame\n",
      "file: whitsundaytimes.json added to DataFrame\n"
     ]
    },
    {
     "name": "stderr",
     "output_type": "stream",
     "text": [
      " 98%|██████████████████████████████████████████████████████████████████████████████▌ | 510/519 [01:14<00:02,  3.21it/s]"
     ]
    },
    {
     "name": "stdout",
     "output_type": "stream",
     "text": [
      "file: windowoneurasiablog.json added to DataFrame\n",
      "file: wingsoverscotland.json added to DataFrame\n"
     ]
    },
    {
     "name": "stderr",
     "output_type": "stream",
     "text": [
      " 98%|██████████████████████████████████████████████████████████████████████████████▊ | 511/519 [01:14<00:02,  3.71it/s]"
     ]
    },
    {
     "name": "stdout",
     "output_type": "stream",
     "text": [
      "file: wizbang.json added to DataFrame\n"
     ]
    },
    {
     "name": "stderr",
     "output_type": "stream",
     "text": [
      " 99%|███████████████████████████████████████████████████████████████████████████████ | 513/519 [01:15<00:01,  4.09it/s]"
     ]
    },
    {
     "name": "stdout",
     "output_type": "stream",
     "text": [
      "file: wnd.json added to DataFrame\n",
      "file: worldofbuzz.json added to DataFrame\n"
     ]
    },
    {
     "name": "stderr",
     "output_type": "stream",
     "text": [
      " 99%|███████████████████████████████████████████████████████████████████████████████▍| 515/519 [01:15<00:00,  4.64it/s]"
     ]
    },
    {
     "name": "stdout",
     "output_type": "stream",
     "text": [
      "file: worldtruthtv.json added to DataFrame\n",
      "file: www.json added to DataFrame\n"
     ]
    },
    {
     "name": "stderr",
     "output_type": "stream",
     "text": [
      " 99%|███████████████████████████████████████████████████████████████████████████████▌| 516/519 [01:15<00:00,  4.92it/s]"
     ]
    },
    {
     "name": "stdout",
     "output_type": "stream",
     "text": [
      "file: x22report.json added to DataFrame\n"
     ]
    },
    {
     "name": "stderr",
     "output_type": "stream",
     "text": [
      "100%|███████████████████████████████████████████████████████████████████████████████▋| 517/519 [01:16<00:00,  3.95it/s]"
     ]
    },
    {
     "name": "stdout",
     "output_type": "stream",
     "text": [
      "file: yahoonews.json added to DataFrame\n"
     ]
    },
    {
     "name": "stderr",
     "output_type": "stream",
     "text": [
      "100%|████████████████████████████████████████████████████████████████████████████████| 519/519 [01:16<00:00,  6.77it/s]"
     ]
    },
    {
     "name": "stdout",
     "output_type": "stream",
     "text": [
      "file: yna.json added to DataFrame\n",
      "file: zerohedge.json added to DataFrame\n",
      "ALL FILES IN DATAFRAME\n"
     ]
    },
    {
     "name": "stderr",
     "output_type": "stream",
     "text": [
      "\n"
     ]
    }
   ],
   "source": [
    "# def main():\n",
    "# all_df = get_one_df(LOAD_PATH, DROP_PATH)\n",
    "\n",
    "file_names = get_files_names(DROP_PATH)\n",
    "all_df = all_json_to_one_df(DROP_PATH, file_names)"
   ]
  },
  {
   "cell_type": "code",
   "execution_count": 10,
   "id": "4b08121f",
   "metadata": {},
   "outputs": [],
   "source": [
    "labels = pd.read_csv('C:/ITC/final project/fake news/political_labels.csv', usecols=['source', 'bias'])"
   ]
  },
  {
   "cell_type": "code",
   "execution_count": 11,
   "id": "8703b97d",
   "metadata": {},
   "outputs": [
    {
     "data": {
      "text/plain": [
       "(1779127, 3)"
      ]
     },
     "execution_count": 11,
     "metadata": {},
     "output_type": "execute_result"
    }
   ],
   "source": [
    "all_df.shape"
   ]
  },
  {
   "cell_type": "code",
   "execution_count": 12,
   "id": "587ed360",
   "metadata": {},
   "outputs": [],
   "source": [
    "df = pd.merge(all_df, labels, on='source', how='inner')"
   ]
  },
  {
   "cell_type": "code",
   "execution_count": 30,
   "id": "f687b4cf",
   "metadata": {},
   "outputs": [],
   "source": [
    "del all_df\n",
    "del labels"
   ]
  },
  {
   "cell_type": "code",
   "execution_count": 13,
   "id": "716b75db",
   "metadata": {},
   "outputs": [
    {
     "data": {
      "text/html": [
       "<div>\n",
       "<style scoped>\n",
       "    .dataframe tbody tr th:only-of-type {\n",
       "        vertical-align: middle;\n",
       "    }\n",
       "\n",
       "    .dataframe tbody tr th {\n",
       "        vertical-align: top;\n",
       "    }\n",
       "\n",
       "    .dataframe thead th {\n",
       "        text-align: right;\n",
       "    }\n",
       "</style>\n",
       "<table border=\"1\" class=\"dataframe\">\n",
       "  <thead>\n",
       "    <tr style=\"text-align: right;\">\n",
       "      <th></th>\n",
       "      <th>source</th>\n",
       "      <th>title</th>\n",
       "      <th>content</th>\n",
       "      <th>bias</th>\n",
       "    </tr>\n",
       "  </thead>\n",
       "  <tbody>\n",
       "    <tr>\n",
       "      <th>0</th>\n",
       "      <td>21stcenturywire</td>\n",
       "      <td>Lockdown Protest in North Carolina Called ‘non...</td>\n",
       "      <td>More coronavirus lockdown backlash today , thi...</td>\n",
       "      <td>2</td>\n",
       "    </tr>\n",
       "    <tr>\n",
       "      <th>1</th>\n",
       "      <td>21stcenturywire</td>\n",
       "      <td>COVID-19 By Design: Ushering in Automation, A....</td>\n",
       "      <td>“ The largest economic transformation in the h...</td>\n",
       "      <td>2</td>\n",
       "    </tr>\n",
       "    <tr>\n",
       "      <th>2</th>\n",
       "      <td>21stcenturywire</td>\n",
       "      <td>Under COVID cover, ‘green’ Gavin Newsom gives ...</td>\n",
       "      <td>It ’ s often been said that in the United Stat...</td>\n",
       "      <td>2</td>\n",
       "    </tr>\n",
       "    <tr>\n",
       "      <th>3</th>\n",
       "      <td>21stcenturywire</td>\n",
       "      <td>Herd Immunity: Expert Explains Why COVID-19 Lo...</td>\n",
       "      <td></td>\n",
       "      <td>2</td>\n",
       "    </tr>\n",
       "    <tr>\n",
       "      <th>4</th>\n",
       "      <td>21stcenturywire</td>\n",
       "      <td>US Physician: ‘CDC and US Government Are Infla...</td>\n",
       "      <td>Are the official death statistics for the nove...</td>\n",
       "      <td>2</td>\n",
       "    </tr>\n",
       "  </tbody>\n",
       "</table>\n",
       "</div>"
      ],
      "text/plain": [
       "            source                                              title  \\\n",
       "0  21stcenturywire  Lockdown Protest in North Carolina Called ‘non...   \n",
       "1  21stcenturywire  COVID-19 By Design: Ushering in Automation, A....   \n",
       "2  21stcenturywire  Under COVID cover, ‘green’ Gavin Newsom gives ...   \n",
       "3  21stcenturywire  Herd Immunity: Expert Explains Why COVID-19 Lo...   \n",
       "4  21stcenturywire  US Physician: ‘CDC and US Government Are Infla...   \n",
       "\n",
       "                                             content  bias  \n",
       "0  More coronavirus lockdown backlash today , thi...     2  \n",
       "1  “ The largest economic transformation in the h...     2  \n",
       "2  It ’ s often been said that in the United Stat...     2  \n",
       "3                                                        2  \n",
       "4  Are the official death statistics for the nove...     2  "
      ]
     },
     "execution_count": 13,
     "metadata": {},
     "output_type": "execute_result"
    }
   ],
   "source": [
    "df.head()"
   ]
  },
  {
   "cell_type": "code",
   "execution_count": 14,
   "id": "97e58c92",
   "metadata": {
    "scrolled": true
   },
   "outputs": [
    {
     "data": {
      "text/plain": [
       "(1167937, 4)"
      ]
     },
     "execution_count": 14,
     "metadata": {},
     "output_type": "execute_result"
    }
   ],
   "source": [
    "df.shape"
   ]
  },
  {
   "cell_type": "code",
   "execution_count": 20,
   "id": "48539e89",
   "metadata": {
    "scrolled": true
   },
   "outputs": [
    {
     "data": {
      "text/plain": [
       "215"
      ]
     },
     "execution_count": 20,
     "metadata": {},
     "output_type": "execute_result"
    }
   ],
   "source": [
    "df['source'].nunique()"
   ]
  },
  {
   "cell_type": "code",
   "execution_count": 21,
   "id": "f22eaeda",
   "metadata": {
    "scrolled": true
   },
   "outputs": [
    {
     "data": {
      "text/plain": [
       " 2    375406\n",
       "-1    294355\n",
       " 1    104488\n",
       "-2    104193\n",
       " 0     39868\n",
       "Name: bias, dtype: int64"
      ]
     },
     "execution_count": 21,
     "metadata": {},
     "output_type": "execute_result"
    }
   ],
   "source": [
    "df['bias'].value_counts()"
   ]
  },
  {
   "cell_type": "code",
   "execution_count": null,
   "id": "fb4cc14d",
   "metadata": {},
   "outputs": [],
   "source": [
    "sns.countplot(df['bias']);"
   ]
  },
  {
   "cell_type": "markdown",
   "id": "d6572fd5",
   "metadata": {},
   "source": [
    "## Filtering by content length:"
   ]
  },
  {
   "cell_type": "code",
   "execution_count": 15,
   "id": "546b7469",
   "metadata": {
    "scrolled": false
   },
   "outputs": [
    {
     "data": {
      "image/png": "[encoded data removed]",
      "text/plain": [
       "<Figure size 432x288 with 1 Axes>"
      ]
     },
     "metadata": {
      "needs_background": "light"
     },
     "output_type": "display_data"
    }
   ],
   "source": [
    "sns.histplot(df['content'].str.len());"
   ]
  },
  {
   "cell_type": "code",
   "execution_count": 17,
   "id": "f472b707",
   "metadata": {},
   "outputs": [
    {
     "data": {
      "text/plain": [
       " 2    375406\n",
       "-1    294355\n",
       " 1    104488\n",
       "-2    104193\n",
       " 0     39868\n",
       "Name: bias, dtype: int64"
      ]
     },
     "execution_count": 17,
     "metadata": {},
     "output_type": "execute_result"
    }
   ],
   "source": [
    "df[(df['content'].apply(len) > 1000) & (df['content'].apply(len) < 20000)]['bias'].value_counts()"
   ]
  },
  {
   "cell_type": "code",
   "execution_count": 18,
   "id": "cf1a81e7",
   "metadata": {},
   "outputs": [
    {
     "data": {
      "text/plain": [
       "(918310, 4)"
      ]
     },
     "execution_count": 18,
     "metadata": {},
     "output_type": "execute_result"
    }
   ],
   "source": [
    "df[(df['content'].apply(len) > 1000) & (df['content'].apply(len) < 20000)].shape"
   ]
  },
  {
   "cell_type": "code",
   "execution_count": 19,
   "id": "f0518b19",
   "metadata": {},
   "outputs": [],
   "source": [
    "df = df[(df['content'].apply(len) > 1000) & (df['content'].apply(len) < 20000)]"
   ]
  },
  {
   "cell_type": "code",
   "execution_count": 22,
   "id": "31fc07d7",
   "metadata": {
    "scrolled": true
   },
   "outputs": [
    {
     "name": "stderr",
     "output_type": "stream",
     "text": [
      "C:\\Users\\USER\\anaconda3\\lib\\site-packages\\seaborn\\_decorators.py:36: FutureWarning: Pass the following variable as a keyword arg: x. From version 0.12, the only valid positional argument will be `data`, and passing other arguments without an explicit keyword will result in an error or misinterpretation.\n",
      "  warnings.warn(\n"
     ]
    },
    {
     "data": {
      "image/png": "[encoded data removed]",
      "text/plain": [
       "<Figure size 432x288 with 1 Axes>"
      ]
     },
     "metadata": {
      "needs_background": "light"
     },
     "output_type": "display_data"
    }
   ],
   "source": [
    "sns.countplot(df['bias']);"
   ]
  },
  {
   "cell_type": "code",
   "execution_count": 23,
   "id": "7cbe044d",
   "metadata": {
    "scrolled": true
   },
   "outputs": [
    {
     "data": {
      "image/png": "[encoded data removed]",
      "text/plain": [
       "<Figure size 432x288 with 1 Axes>"
      ]
     },
     "metadata": {
      "needs_background": "light"
     },
     "output_type": "display_data"
    }
   ],
   "source": [
    "sns.histplot(df['content'].str.len());"
   ]
  },
  {
   "cell_type": "markdown",
   "id": "02cf79f0",
   "metadata": {},
   "source": [
    "## Assign to 3 labels:"
   ]
  },
  {
   "cell_type": "code",
   "execution_count": 24,
   "id": "4e521c1a",
   "metadata": {},
   "outputs": [],
   "source": [
    "df['bias'] = df['bias'].map({-1: 0, 1:0, -2:-1, 2:1, 0:0})"
   ]
  },
  {
   "cell_type": "code",
   "execution_count": 25,
   "id": "dd3eefb1",
   "metadata": {},
   "outputs": [
    {
     "data": {
      "text/plain": [
       " 0    438711\n",
       " 1    375406\n",
       "-1    104193\n",
       "Name: bias, dtype: int64"
      ]
     },
     "execution_count": 25,
     "metadata": {},
     "output_type": "execute_result"
    }
   ],
   "source": [
    "df['bias'].value_counts()"
   ]
  },
  {
   "cell_type": "markdown",
   "id": "428a3fdc",
   "metadata": {},
   "source": [
    "## Balnacing the data by labels:"
   ]
  },
  {
   "cell_type": "code",
   "execution_count": 26,
   "id": "a4ccd70e",
   "metadata": {},
   "outputs": [],
   "source": [
    "g = df.groupby('bias')\n",
    "df = g.apply(lambda x: x.sample(g.size().min())).droplevel('bias').reset_index(drop=True)"
   ]
  },
  {
   "cell_type": "code",
   "execution_count": 31,
   "id": "6fa96649",
   "metadata": {},
   "outputs": [],
   "source": [
    "del g"
   ]
  },
  {
   "cell_type": "code",
   "execution_count": 27,
   "id": "f13b4758",
   "metadata": {},
   "outputs": [
    {
     "data": {
      "text/plain": [
       "(312579, 4)"
      ]
     },
     "execution_count": 27,
     "metadata": {},
     "output_type": "execute_result"
    }
   ],
   "source": [
    "df.shape"
   ]
  },
  {
   "cell_type": "code",
   "execution_count": 28,
   "id": "140d4a59",
   "metadata": {
    "scrolled": false
   },
   "outputs": [
    {
     "data": {
      "text/plain": [
       " 0    104193\n",
       " 1    104193\n",
       "-1    104193\n",
       "Name: bias, dtype: int64"
      ]
     },
     "execution_count": 28,
     "metadata": {},
     "output_type": "execute_result"
    }
   ],
   "source": [
    "df['bias'].value_counts()"
   ]
  },
  {
   "cell_type": "code",
   "execution_count": 29,
   "id": "e60d3e74",
   "metadata": {},
   "outputs": [],
   "source": [
    "# Extracting the data to JSON file:\n",
    "\n",
    "df.to_json(DROP_PATH + 'balanced_data_bias.json')"
   ]
  },
  {
   "cell_type": "code",
   "execution_count": 32,
   "id": "96246a3a",
   "metadata": {
    "scrolled": true
   },
   "outputs": [
    {
     "data": {
      "text/html": [
       "<div>\n",
       "<style scoped>\n",
       "    .dataframe tbody tr th:only-of-type {\n",
       "        vertical-align: middle;\n",
       "    }\n",
       "\n",
       "    .dataframe tbody tr th {\n",
       "        vertical-align: top;\n",
       "    }\n",
       "\n",
       "    .dataframe thead th {\n",
       "        text-align: right;\n",
       "    }\n",
       "</style>\n",
       "<table border=\"1\" class=\"dataframe\">\n",
       "  <thead>\n",
       "    <tr style=\"text-align: right;\">\n",
       "      <th></th>\n",
       "      <th>source</th>\n",
       "      <th>title</th>\n",
       "      <th>content</th>\n",
       "      <th>bias</th>\n",
       "    </tr>\n",
       "  </thead>\n",
       "  <tbody>\n",
       "    <tr>\n",
       "      <th>0</th>\n",
       "      <td>theroot</td>\n",
       "      <td>On 3rd Anniversary of Viral Hashtag, Me Too An...</td>\n",
       "      <td>Almost as soon as “ Me Too ” became part of th...</td>\n",
       "      <td>-1</td>\n",
       "    </tr>\n",
       "    <tr>\n",
       "      <th>1</th>\n",
       "      <td>cnn</td>\n",
       "      <td>White House pitches economic stimulus proposal...</td>\n",
       "      <td>Washington ( CNN ) President Donald Trump and ...</td>\n",
       "      <td>-1</td>\n",
       "    </tr>\n",
       "    <tr>\n",
       "      <th>2</th>\n",
       "      <td>cnn</td>\n",
       "      <td>Trump wants Americans to believe Biden is a ra...</td>\n",
       "      <td>( CNN ) Joe Biden ran a Democratic primary cam...</td>\n",
       "      <td>-1</td>\n",
       "    </tr>\n",
       "    <tr>\n",
       "      <th>3</th>\n",
       "      <td>cnn</td>\n",
       "      <td>Denver mayor apologizes for Thanksgiving trave...</td>\n",
       "      <td>Hours after encouraging Denver residents to av...</td>\n",
       "      <td>-1</td>\n",
       "    </tr>\n",
       "    <tr>\n",
       "      <th>4</th>\n",
       "      <td>crooksandliars</td>\n",
       "      <td>Trump Crumbles As Female Reporters Stand Up To...</td>\n",
       "      <td>Once again , Trump showed that he is a thin-sk...</td>\n",
       "      <td>-1</td>\n",
       "    </tr>\n",
       "    <tr>\n",
       "      <th>...</th>\n",
       "      <td>...</td>\n",
       "      <td>...</td>\n",
       "      <td>...</td>\n",
       "      <td>...</td>\n",
       "    </tr>\n",
       "    <tr>\n",
       "      <th>312574</th>\n",
       "      <td>thesun</td>\n",
       "      <td>What is today’s pollen count in the UK and wha...</td>\n",
       "      <td>HAY fever sufferers have been experiencing par...</td>\n",
       "      <td>1</td>\n",
       "    </tr>\n",
       "    <tr>\n",
       "      <th>312575</th>\n",
       "      <td>lawenforcementtoday</td>\n",
       "      <td>The governor of Wisconsin just proved to Ameri...</td>\n",
       "      <td>MADISON , WI – Wisconsin Gov .\\nTony Evers ( D...</td>\n",
       "      <td>1</td>\n",
       "    </tr>\n",
       "    <tr>\n",
       "      <th>312576</th>\n",
       "      <td>thoughtcrimeradio</td>\n",
       "      <td>CDC Admits Hospital Incentives Drove Up COVID-...</td>\n",
       "      <td>• None In April 2020 , Minnesota state senator...</td>\n",
       "      <td>1</td>\n",
       "    </tr>\n",
       "    <tr>\n",
       "      <th>312577</th>\n",
       "      <td>redstate</td>\n",
       "      <td>Whoopi Goldberg Lambasts the Looters: 'You’ve ...</td>\n",
       "      <td>Among Republicans and Democrats , there should...</td>\n",
       "      <td>1</td>\n",
       "    </tr>\n",
       "    <tr>\n",
       "      <th>312578</th>\n",
       "      <td>newsbusters</td>\n",
       "      <td>GMA Skips Over Disney Star Trying to Get Natl....</td>\n",
       "      <td>Former Good Morning America host and Disney Ch...</td>\n",
       "      <td>1</td>\n",
       "    </tr>\n",
       "  </tbody>\n",
       "</table>\n",
       "<p>312579 rows × 4 columns</p>\n",
       "</div>"
      ],
      "text/plain": [
       "                     source  \\\n",
       "0                   theroot   \n",
       "1                       cnn   \n",
       "2                       cnn   \n",
       "3                       cnn   \n",
       "4            crooksandliars   \n",
       "...                     ...   \n",
       "312574               thesun   \n",
       "312575  lawenforcementtoday   \n",
       "312576    thoughtcrimeradio   \n",
       "312577             redstate   \n",
       "312578          newsbusters   \n",
       "\n",
       "                                                    title  \\\n",
       "0       On 3rd Anniversary of Viral Hashtag, Me Too An...   \n",
       "1       White House pitches economic stimulus proposal...   \n",
       "2       Trump wants Americans to believe Biden is a ra...   \n",
       "3       Denver mayor apologizes for Thanksgiving trave...   \n",
       "4       Trump Crumbles As Female Reporters Stand Up To...   \n",
       "...                                                   ...   \n",
       "312574  What is today’s pollen count in the UK and wha...   \n",
       "312575  The governor of Wisconsin just proved to Ameri...   \n",
       "312576  CDC Admits Hospital Incentives Drove Up COVID-...   \n",
       "312577  Whoopi Goldberg Lambasts the Looters: 'You’ve ...   \n",
       "312578  GMA Skips Over Disney Star Trying to Get Natl....   \n",
       "\n",
       "                                                  content  bias  \n",
       "0       Almost as soon as “ Me Too ” became part of th...    -1  \n",
       "1       Washington ( CNN ) President Donald Trump and ...    -1  \n",
       "2       ( CNN ) Joe Biden ran a Democratic primary cam...    -1  \n",
       "3       Hours after encouraging Denver residents to av...    -1  \n",
       "4       Once again , Trump showed that he is a thin-sk...    -1  \n",
       "...                                                   ...   ...  \n",
       "312574  HAY fever sufferers have been experiencing par...     1  \n",
       "312575  MADISON , WI – Wisconsin Gov .\\nTony Evers ( D...     1  \n",
       "312576  • None In April 2020 , Minnesota state senator...     1  \n",
       "312577  Among Republicans and Democrats , there should...     1  \n",
       "312578  Former Good Morning America host and Disney Ch...     1  \n",
       "\n",
       "[312579 rows x 4 columns]"
      ]
     },
     "execution_count": 32,
     "metadata": {},
     "output_type": "execute_result"
    }
   ],
   "source": [
    "pd.read_json(DROP_PATH + 'balanced_data_bias.json')"
   ]
  },
  {
   "cell_type": "markdown",
   "id": "815b04ae",
   "metadata": {},
   "source": [
    "## Spliting to small data sets:"
   ]
  },
  {
   "cell_type": "code",
   "execution_count": 12,
   "id": "96aae621",
   "metadata": {},
   "outputs": [],
   "source": [
    "# ROWS_IN_FILE = 50000\n",
    "# num_of_files = ceil(all_df.shape[0] / ROWS_IN_FILE)\n",
    "# files_idx = np.array_split(np.array(all_df.index), num_of_files)"
   ]
  },
  {
   "cell_type": "code",
   "execution_count": 26,
   "id": "8b8e7172",
   "metadata": {
    "scrolled": true
   },
   "outputs": [],
   "source": [
    "# np.shape(files_idx)"
   ]
  },
  {
   "cell_type": "code",
   "execution_count": 27,
   "id": "d3ecb652",
   "metadata": {},
   "outputs": [],
   "source": [
    "# files_idx"
   ]
  },
  {
   "cell_type": "code",
   "execution_count": 15,
   "id": "ce2612b7",
   "metadata": {},
   "outputs": [
    {
     "name": "stderr",
     "output_type": "stream",
     "text": [
      "36it [03:39,  6.11s/it]\n"
     ]
    }
   ],
   "source": [
    "# for i, idx_range in tqdm(enumerate(files_idx)):    \n",
    "#     all_df.iloc[idx_range[0]: (idx_range[-1] + 1), :].to_csv(f'C:/ITC/final project/fake news/news_data_splited_files/news_data_{i}.csv')"
   ]
  },
  {
   "cell_type": "code",
   "execution_count": 14,
   "id": "30ceda69",
   "metadata": {},
   "outputs": [],
   "source": [
    "# Load the df to csv\n",
    "# all_df.to_csv('C:/ITC/final project/fake news/news_data.csv')"
   ]
  }
 ],
 "metadata": {
  "kernelspec": {
   "display_name": "Python 3",
   "language": "python",
   "name": "python3"
  },
  "language_info": {
   "codemirror_mode": {
    "name": "ipython",
    "version": 3
   },
   "file_extension": ".py",
   "mimetype": "text/x-python",
   "name": "python",
   "nbconvert_exporter": "python",
   "pygments_lexer": "ipython3",
   "version": "3.8.8"
  }
 },
 "nbformat": 4,
 "nbformat_minor": 5
}
