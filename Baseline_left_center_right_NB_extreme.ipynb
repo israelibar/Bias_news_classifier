{
 "cells": [
  {
   "cell_type": "code",
   "execution_count": 2,
   "id": "a0f6925a",
   "metadata": {
    "colab": {
     "base_uri": "https://localhost:8080/"
    },
    "id": "a0f6925a",
    "outputId": "1ee3d9b4-dce8-4d15-b7bb-5b686b4d892d"
   },
   "outputs": [
    {
     "name": "stderr",
     "output_type": "stream",
     "text": [
      "[nltk_data] Downloading package punkt to\n",
      "[nltk_data]     C:\\Users\\USER\\AppData\\Roaming\\nltk_data...\n",
      "[nltk_data]   Package punkt is already up-to-date!\n"
     ]
    }
   ],
   "source": [
    "import pandas as pd\n",
    "import numpy as np\n",
    "from sklearn.model_selection import train_test_split\n",
    "from sklearn.feature_extraction.text import CountVectorizer, TfidfVectorizer\n",
    "from sklearn.multiclass import OneVsRestClassifier\n",
    "from sklearn.svm import SVC\n",
    "from sklearn.ensemble import RandomForestClassifier\n",
    "from sklearn.metrics import accuracy_score, roc_curve, auc, roc_auc_score \n",
    "import warnings\n",
    "warnings.filterwarnings('ignore')\n",
    "import nltk\n",
    "nltk.download('punkt')\n",
    "from nltk.stem.porter import PorterStemmer\n",
    "from nltk.tokenize import word_tokenize\n",
    "import re\n",
    "from tqdm import tqdm\n",
    "from sklearn.feature_extraction.text import TfidfVectorizer\n",
    "from sklearn.naive_bayes import MultinomialNB\n",
    "from matplotlib import pyplot as plt"
   ]
  },
  {
   "cell_type": "code",
   "execution_count": 3,
   "id": "802d51d5",
   "metadata": {
    "id": "2738f21f"
   },
   "outputs": [],
   "source": [
    "TEST_SIZE = 0.2\n",
    "RANDOM_STATE =42\n",
    "PATH = 'C:/ITC/final project/fake news/bias/Baseline/balanced_data_extremes.csv/'\n",
    "FILE_NAME = 'balanced_data_extremes.csv'\n",
    "CHUNKSIZE = 50000\n",
    "VEC_SIZE=256\n",
    "CLASSES = {-1: 'Left', 0: 'Center', 1: 'Right'}\n",
    "N_CLASSES = 3"
   ]
  },
  {
   "cell_type": "code",
   "execution_count": 4,
   "id": "fa41533d",
   "metadata": {},
   "outputs": [],
   "source": [
    "models_metrics = []"
   ]
  },
  {
   "cell_type": "markdown",
   "id": "399dd940",
   "metadata": {
    "id": "399dd940"
   },
   "source": [
    "# Seperate content and title:\n",
    "## CountVectorize"
   ]
  },
  {
   "cell_type": "code",
   "execution_count": 5,
   "id": "c116d6a5",
   "metadata": {
    "colab": {
     "base_uri": "https://localhost:8080/"
    },
    "id": "c116d6a5",
    "outputId": "502ba79c-1321-438e-ea0f-32b48f9d01ab"
   },
   "outputs": [
    {
     "name": "stderr",
     "output_type": "stream",
     "text": [
      "0it [00:00, ?it/s]"
     ]
    },
    {
     "name": "stdout",
     "output_type": "stream",
     "text": [
      "(50000, 3)\n"
     ]
    },
    {
     "name": "stderr",
     "output_type": "stream",
     "text": [
      "1it [00:16, 16.80s/it]"
     ]
    },
    {
     "name": "stdout",
     "output_type": "stream",
     "text": [
      "(50000, 3)\n"
     ]
    },
    {
     "name": "stderr",
     "output_type": "stream",
     "text": [
      "2it [00:36, 18.31s/it]"
     ]
    },
    {
     "name": "stdout",
     "output_type": "stream",
     "text": [
      "(15414, 3)\n"
     ]
    },
    {
     "name": "stderr",
     "output_type": "stream",
     "text": [
      "3it [00:42, 14.14s/it]\n"
     ]
    }
   ],
   "source": [
    "# Pre-processing for seperate content and title:\n",
    "content_vectorizer = CountVectorizer(max_features=VEC_SIZE,\n",
    "                             decode_error='ignore',\n",
    "                             lowercase=True,\n",
    "                             stop_words='english',\n",
    "                             analyzer='word'\n",
    "                            )\n",
    "\n",
    "title_vectorizer = CountVectorizer(max_features=VEC_SIZE,\n",
    "                             decode_error='ignore',\n",
    "                             lowercase=True,\n",
    "                             stop_words='english',\n",
    "                             analyzer='word'\n",
    "                            )\n",
    "\n",
    "content_vec = []\n",
    "title_vec = []\n",
    "labels = []\n",
    "\n",
    "with pd.read_csv(PATH + FILE_NAME, chunksize=CHUNKSIZE, \n",
    "                 usecols=['title', 'content', 'bias'], iterator=True) as reader:\n",
    "    \n",
    "    # Fitting the vectors on the first chunk:\n",
    "    first_chunk = reader.get_chunk()\n",
    "    first_chunk['content'].fillna('', inplace=True)\n",
    "    first_chunk['title'].fillna('', inplace=True)\n",
    "\n",
    "    content_vectorizer.fit(first_chunk['content']) \n",
    "    title_vectorizer.fit(first_chunk['title'])\n",
    "    \n",
    "    # Tranforming all data to vectors:\n",
    "    for df_sub in tqdm(reader):\n",
    "        print(df_sub.shape)\n",
    "        df_sub['content'].fillna('', inplace=True)\n",
    "        df_sub['title'].fillna('', inplace=True)\n",
    "        content_vec.append(content_vectorizer.transform(df_sub['content']).toarray())\n",
    "        title_vec.append(title_vectorizer.transform(df_sub['title']).toarray())\n",
    "        labels.append(df_sub['bias'])      "
   ]
  },
  {
   "cell_type": "code",
   "execution_count": 6,
   "id": "fb2681f2",
   "metadata": {
    "id": "fb2681f2"
   },
   "outputs": [],
   "source": [
    "content_vec = np.concatenate(np.array(content_vec))\n",
    "title_vec = np.concatenate(np.array(title_vec))\n",
    "labels = np.concatenate(np.array(labels))"
   ]
  },
  {
   "cell_type": "code",
   "execution_count": 7,
   "id": "48f9ab32",
   "metadata": {
    "colab": {
     "base_uri": "https://localhost:8080/"
    },
    "id": "48f9ab32",
    "outputId": "0937877d-08f4-4ff1-9fd5-a4800c3a6ce4"
   },
   "outputs": [
    {
     "data": {
      "text/plain": [
       "((115414, 256), (115414, 256), (115414,))"
      ]
     },
     "execution_count": 7,
     "metadata": {},
     "output_type": "execute_result"
    }
   ],
   "source": [
    "content_vec.shape, title_vec.shape, labels.shape"
   ]
  },
  {
   "cell_type": "markdown",
   "id": "1e0eb310",
   "metadata": {
    "id": "1e0eb310"
   },
   "source": [
    "## Splitting:"
   ]
  },
  {
   "cell_type": "code",
   "execution_count": 8,
   "id": "b2ede2f8",
   "metadata": {
    "id": "b2ede2f8"
   },
   "outputs": [],
   "source": [
    "X_train_cont, X_test_cont, y_train_cont, y_test_cont = train_test_split(content_vec, labels, test_size=TEST_SIZE,\n",
    "                                                                    random_state=RANDOM_STATE)\n",
    "\n",
    "X_train_title, X_test_title, y_train_title, y_test_title = train_test_split(title_vec, labels, test_size=TEST_SIZE,\n",
    "                                                                    random_state=RANDOM_STATE)"
   ]
  },
  {
   "cell_type": "code",
   "execution_count": 9,
   "id": "bb053237",
   "metadata": {
    "colab": {
     "base_uri": "https://localhost:8080/"
    },
    "id": "bb053237",
    "outputId": "15d51d0c-ae9e-409b-eefa-9535ad083517"
   },
   "outputs": [
    {
     "data": {
      "text/plain": [
       "((92331, 256), (23083, 256), (92331,), (23083,))"
      ]
     },
     "execution_count": 9,
     "metadata": {},
     "output_type": "execute_result"
    }
   ],
   "source": [
    "X_train_cont.shape, X_test_cont.shape, y_train_cont.shape, y_test_cont.shape\n",
    "\n",
    "X_train_title.shape, X_test_title.shape, y_train_title.shape, y_test_title.shape"
   ]
  },
  {
   "cell_type": "markdown",
   "id": "f810f880",
   "metadata": {
    "id": "f810f880"
   },
   "source": [
    "## Modeling:\n",
    "### Content\n",
    "#### Naive Bayes:"
   ]
  },
  {
   "cell_type": "code",
   "execution_count": 10,
   "id": "bd626efa",
   "metadata": {
    "colab": {
     "base_uri": "https://localhost:8080/"
    },
    "id": "bd626efa",
    "outputId": "1d77e2f4-fa18-429a-d717-af5e7791044a"
   },
   "outputs": [
    {
     "data": {
      "text/plain": [
       "0.6162110644197029"
      ]
     },
     "execution_count": 10,
     "metadata": {},
     "output_type": "execute_result"
    }
   ],
   "source": [
    "clf = MultinomialNB()\n",
    "clf.fit(X=X_train_cont, y=y_train_cont)\n",
    "clf.score(X_test_cont, y_test_cont)"
   ]
  },
  {
   "cell_type": "code",
   "execution_count": 12,
   "id": "abd08856",
   "metadata": {},
   "outputs": [],
   "source": [
    "model = 'count_content'\n",
    "model_dict = {'model': model,\n",
    "              'clf': clf,\n",
    "                 'accuracy': clf.score(X_test_cont, y_test_cont),\n",
    "                 'fpr': {},\n",
    "                 'tpr': {},\n",
    "                 'roc_auc': {}}\n",
    "\n",
    "# Compute ROC curve and ROC area for each class\n",
    "y_score = clf.predict_proba(X_test_cont)\n",
    "fpr = dict()\n",
    "tpr = dict()\n",
    "roc_auc = dict()\n",
    "\n",
    "for i, cls in enumerate(clf.classes_):\n",
    "    fpr[cls], tpr[cls], _ = roc_curve(y_test_cont, y_score[:, i], pos_label=cls)\n",
    "    roc_auc[cls] = auc(fpr[cls], tpr[cls])\n",
    "\n",
    "model_dict['fpr'] = fpr\n",
    "model_dict['tpr'] = tpr\n",
    "model_dict['roc_auc'] = roc_auc\n",
    "\n",
    "models_metrics.append(model_dict)"
   ]
  },
  {
   "cell_type": "markdown",
   "id": "ceca19a4",
   "metadata": {
    "id": "ceca19a4"
   },
   "source": [
    "### Title\n",
    "#### Naive Bayes:"
   ]
  },
  {
   "cell_type": "code",
   "execution_count": 14,
   "id": "ff48a825",
   "metadata": {
    "colab": {
     "base_uri": "https://localhost:8080/"
    },
    "id": "ff48a825",
    "outputId": "e3cdb7ff-982d-48ee-b7c7-6c077cf969db"
   },
   "outputs": [
    {
     "data": {
      "text/plain": [
       "0.5630117402417364"
      ]
     },
     "execution_count": 14,
     "metadata": {},
     "output_type": "execute_result"
    }
   ],
   "source": [
    "clf = MultinomialNB()\n",
    "clf.fit(X_train_title, y_train_title)\n",
    "title_nb_score = clf.score(X_test_title, y_test_title) # accuracy score\n",
    "\n",
    "title_nb_score"
   ]
  },
  {
   "cell_type": "code",
   "execution_count": 15,
   "id": "2a6c8ab6",
   "metadata": {},
   "outputs": [],
   "source": [
    "model = 'count_title'\n",
    "model_dict = {'model': model,\n",
    "                 'accuracy': clf.score(X_test_title, y_test_title),\n",
    "              'clf': clf,\n",
    "                 'fpr': {},\n",
    "                 'tpr': {},\n",
    "                 'roc_auc': {}}\n",
    "\n",
    "# Compute ROC curve and ROC area for each class\n",
    "y_score = clf.predict_proba(X_test_title)\n",
    "fpr = dict()\n",
    "tpr = dict()\n",
    "roc_auc = dict()\n",
    "\n",
    "for i, cls in enumerate(clf.classes_):\n",
    "    fpr[cls], tpr[cls], _ = roc_curve(y_test_cont, y_score[:, i], pos_label=cls)\n",
    "    roc_auc[cls] = auc(fpr[cls], tpr[cls])\n",
    "\n",
    "model_dict['fpr'] = fpr\n",
    "model_dict['tpr'] = tpr\n",
    "model_dict['roc_auc'] = roc_auc\n",
    "\n",
    "models_metrics.append(model_dict)"
   ]
  },
  {
   "cell_type": "markdown",
   "id": "e78cef17",
   "metadata": {
    "id": "e78cef17"
   },
   "source": [
    "# United content and title:\n",
    "## CountVectorize"
   ]
  },
  {
   "cell_type": "code",
   "execution_count": 16,
   "id": "d4ab62e4",
   "metadata": {
    "colab": {
     "base_uri": "https://localhost:8080/"
    },
    "id": "d4ab62e4",
    "outputId": "58bd69fc-51d0-47f6-b0ad-7a0dafc2b1e0"
   },
   "outputs": [
    {
     "name": "stderr",
     "output_type": "stream",
     "text": [
      "0it [00:00, ?it/s]"
     ]
    },
    {
     "name": "stdout",
     "output_type": "stream",
     "text": [
      "(50000, 3)\n"
     ]
    },
    {
     "name": "stderr",
     "output_type": "stream",
     "text": [
      "1it [00:18, 18.20s/it]"
     ]
    },
    {
     "name": "stdout",
     "output_type": "stream",
     "text": [
      "(50000, 3)\n"
     ]
    },
    {
     "name": "stderr",
     "output_type": "stream",
     "text": [
      "2it [00:37, 18.84s/it]"
     ]
    },
    {
     "name": "stdout",
     "output_type": "stream",
     "text": [
      "(15414, 3)\n"
     ]
    },
    {
     "name": "stderr",
     "output_type": "stream",
     "text": [
      "3it [00:44, 14.92s/it]\n"
     ]
    }
   ],
   "source": [
    "# Pre-processing for seperate content and title:\n",
    "\n",
    "vectorizer = CountVectorizer(max_features=VEC_SIZE,\n",
    "                             decode_error='ignore',\n",
    "                             lowercase=True,\n",
    "                             stop_words='english',\n",
    "                             analyzer='word'\n",
    "                            )\n",
    "\n",
    "vectors = []\n",
    "labels = []\n",
    "\n",
    "with pd.read_csv(PATH + FILE_NAME, chunksize=CHUNKSIZE, \n",
    "                 usecols=['title', 'content', 'bias'], iterator=True) as reader:\n",
    "    \n",
    "    # Fitting the vectors on the first chunk:\n",
    "    first_chunk = reader.get_chunk()\n",
    "    first_chunk['content'].fillna('', inplace=True)\n",
    "    first_chunk['title'].fillna('', inplace=True)\n",
    "\n",
    "    vectorizer.fit(first_chunk['content'] + first_chunk['title']) \n",
    "    \n",
    "    # Tranforming all data to vectors:\n",
    "    for df_sub in tqdm(reader):\n",
    "        print(df_sub.shape)\n",
    "        df_sub['content'].fillna('', inplace=True)\n",
    "        df_sub['title'].fillna('', inplace=True)\n",
    "        vectors.append(content_vectorizer.transform(df_sub['content'] + df_sub['title']).toarray())\n",
    "        labels.append(df_sub['bias'])      "
   ]
  },
  {
   "cell_type": "code",
   "execution_count": 17,
   "id": "cff6a594",
   "metadata": {
    "id": "cff6a594"
   },
   "outputs": [],
   "source": [
    "vectors = np.concatenate(np.array(vectors))\n",
    "labels = np.concatenate(np.array(labels))"
   ]
  },
  {
   "cell_type": "code",
   "execution_count": 18,
   "id": "789c7906",
   "metadata": {
    "colab": {
     "base_uri": "https://localhost:8080/"
    },
    "id": "789c7906",
    "outputId": "ce54fa16-6dd3-46ee-ce0d-7788b40519fc"
   },
   "outputs": [
    {
     "data": {
      "text/plain": [
       "((115414, 256), (115414,))"
      ]
     },
     "execution_count": 18,
     "metadata": {},
     "output_type": "execute_result"
    }
   ],
   "source": [
    "vectors.shape, labels.shape"
   ]
  },
  {
   "cell_type": "markdown",
   "id": "c793fbc5",
   "metadata": {
    "id": "c793fbc5"
   },
   "source": [
    "### Splitting:"
   ]
  },
  {
   "cell_type": "code",
   "execution_count": 19,
   "id": "08010d97",
   "metadata": {
    "colab": {
     "base_uri": "https://localhost:8080/"
    },
    "id": "08010d97",
    "outputId": "45d42cbf-de9a-488a-c0c2-93894c972569"
   },
   "outputs": [
    {
     "data": {
      "text/plain": [
       "((92331, 256), (23083, 256), (92331,), (23083,))"
      ]
     },
     "execution_count": 19,
     "metadata": {},
     "output_type": "execute_result"
    }
   ],
   "source": [
    "X_train, X_test, y_train, y_test = train_test_split(vectors, labels, test_size=TEST_SIZE,\n",
    "                                                                    random_state=RANDOM_STATE)\n",
    "\n",
    "X_train.shape, X_test.shape, y_train.shape, y_test.shape"
   ]
  },
  {
   "cell_type": "markdown",
   "id": "1e81f563",
   "metadata": {
    "id": "1e81f563"
   },
   "source": [
    "### Modeling:\n",
    "#### Naive Bayes:"
   ]
  },
  {
   "cell_type": "code",
   "execution_count": 20,
   "id": "e27dc75d",
   "metadata": {
    "colab": {
     "base_uri": "https://localhost:8080/"
    },
    "id": "e27dc75d",
    "outputId": "90e46ffb-f050-40ed-cc90-61e793269fbe"
   },
   "outputs": [
    {
     "data": {
      "text/plain": [
       "0.6159944547935711"
      ]
     },
     "execution_count": 20,
     "metadata": {},
     "output_type": "execute_result"
    }
   ],
   "source": [
    "clf = MultinomialNB()\n",
    "clf.fit(X=X_train, y=y_train)\n",
    "nb_score = clf.score(X_test, y_test) # accuracy score\n",
    "\n",
    "nb_score"
   ]
  },
  {
   "cell_type": "code",
   "execution_count": 21,
   "id": "21b3dc75",
   "metadata": {},
   "outputs": [],
   "source": [
    "model = 'count_both'\n",
    "model_dict = {'model': model,\n",
    "              'clf': clf,\n",
    "                 'accuracy': clf.score(X_test, y_test),\n",
    "                 'fpr': {},\n",
    "                 'tpr': {},\n",
    "                 'roc_auc': {}}\n",
    "\n",
    "# Compute ROC curve and ROC area for each class\n",
    "y_score = clf.predict_proba(X_test)\n",
    "fpr = dict()\n",
    "tpr = dict()\n",
    "roc_auc = dict()\n",
    "\n",
    "for i, cls in enumerate(clf.classes_):\n",
    "    fpr[cls], tpr[cls], _ = roc_curve(y_test_cont, y_score[:, i], pos_label=cls)\n",
    "    roc_auc[cls] = auc(fpr[cls], tpr[cls])\n",
    "\n",
    "model_dict['fpr'] = fpr\n",
    "model_dict['tpr'] = tpr\n",
    "model_dict['roc_auc'] = roc_auc\n",
    "\n",
    "models_metrics.append(model_dict)"
   ]
  },
  {
   "cell_type": "markdown",
   "id": "ef473803",
   "metadata": {
    "id": "ef473803"
   },
   "source": [
    "# TF-IDF"
   ]
  },
  {
   "cell_type": "code",
   "execution_count": 81,
   "id": "oGsQygUM_rba",
   "metadata": {
    "colab": {
     "base_uri": "https://localhost:8080/"
    },
    "id": "oGsQygUM_rba",
    "outputId": "22eba9e0-834d-4541-b0bc-ad35d6ac675b"
   },
   "outputs": [
    {
     "name": "stderr",
     "output_type": "stream",
     "text": [
      "0it [00:00, ?it/s]"
     ]
    },
    {
     "name": "stdout",
     "output_type": "stream",
     "text": [
      "(50000, 3)\n"
     ]
    },
    {
     "name": "stderr",
     "output_type": "stream",
     "text": [
      "1it [00:15, 15.76s/it]"
     ]
    },
    {
     "name": "stdout",
     "output_type": "stream",
     "text": [
      "(50000, 3)\n"
     ]
    },
    {
     "name": "stderr",
     "output_type": "stream",
     "text": [
      "2it [00:31, 16.04s/it]"
     ]
    },
    {
     "name": "stdout",
     "output_type": "stream",
     "text": [
      "(15414, 3)\n"
     ]
    },
    {
     "name": "stderr",
     "output_type": "stream",
     "text": [
      "3it [00:37, 12.53s/it]\n"
     ]
    }
   ],
   "source": [
    "# Pre-processing for seperate content and title:\n",
    "content_vectorizer = TfidfVectorizer(max_features=VEC_SIZE,\n",
    "                             decode_error='ignore',\n",
    "                             lowercase=True,\n",
    "                             stop_words='english',\n",
    "                             analyzer='word'\n",
    "                            )\n",
    "\n",
    "title_vectorizer = TfidfVectorizer(max_features=VEC_SIZE,\n",
    "                             decode_error='ignore',\n",
    "                             lowercase=True,\n",
    "                             stop_words='english',\n",
    "                             analyzer='word'\n",
    "                            )\n",
    "\n",
    "content_vec = []\n",
    "title_vec = []\n",
    "labels = []\n",
    "\n",
    "with pd.read_csv(PATH + FILE_NAME, chunksize=CHUNKSIZE, \n",
    "                 usecols=['title', 'content', 'bias'], iterator=True) as reader:\n",
    "    \n",
    "    # Fitting the vectors on the first chunk:\n",
    "    first_chunk = reader.get_chunk()\n",
    "    first_chunk['content'].fillna('', inplace=True)\n",
    "    first_chunk['title'].fillna('', inplace=True)\n",
    "\n",
    "    content_vectorizer.fit(first_chunk['content']) \n",
    "    title_vectorizer.fit(first_chunk['title'])\n",
    "    \n",
    "    # Tranforming all data to vectors:\n",
    "    for df_sub in tqdm(reader):\n",
    "        print(df_sub.shape)\n",
    "        df_sub['content'].fillna('', inplace=True)\n",
    "        df_sub['title'].fillna('', inplace=True)\n",
    "        content_vec.append(content_vectorizer.transform(df_sub['content']).toarray())\n",
    "        title_vec.append(title_vectorizer.transform(df_sub['title']).toarray())\n",
    "        labels.append(df_sub['bias'])      "
   ]
  },
  {
   "cell_type": "code",
   "execution_count": 82,
   "id": "ch5tsdGR_rbg",
   "metadata": {
    "id": "ch5tsdGR_rbg"
   },
   "outputs": [],
   "source": [
    "content_vec = np.concatenate(np.array(content_vec))\n",
    "title_vec = np.concatenate(np.array(title_vec))\n",
    "labels = np.concatenate(np.array(labels))"
   ]
  },
  {
   "cell_type": "code",
   "execution_count": 83,
   "id": "CPSUo095_rbg",
   "metadata": {
    "colab": {
     "base_uri": "https://localhost:8080/"
    },
    "id": "CPSUo095_rbg",
    "outputId": "d52b4e1f-4312-4b6b-d56b-aee1710e01cb"
   },
   "outputs": [
    {
     "data": {
      "text/plain": [
       "((115414, 256), (115414, 256), (115414,))"
      ]
     },
     "execution_count": 83,
     "metadata": {},
     "output_type": "execute_result"
    }
   ],
   "source": [
    "content_vec.shape, title_vec.shape, labels.shape"
   ]
  },
  {
   "cell_type": "markdown",
   "id": "lKroqXfT_rbh",
   "metadata": {
    "id": "lKroqXfT_rbh"
   },
   "source": [
    "## Splitting:"
   ]
  },
  {
   "cell_type": "code",
   "execution_count": 84,
   "id": "t99aDVC5_rbh",
   "metadata": {
    "id": "t99aDVC5_rbh"
   },
   "outputs": [],
   "source": [
    "X_train_cont, X_test_cont, y_train_cont, y_test_cont = train_test_split(content_vec, labels, test_size=TEST_SIZE,\n",
    "                                                                    random_state=RANDOM_STATE)\n",
    "\n",
    "X_train_title, X_test_title, y_train_title, y_test_title = train_test_split(title_vec, labels, test_size=TEST_SIZE,\n",
    "                                                                    random_state=RANDOM_STATE)"
   ]
  },
  {
   "cell_type": "code",
   "execution_count": 85,
   "id": "R8HpFp02_rbh",
   "metadata": {
    "colab": {
     "base_uri": "https://localhost:8080/"
    },
    "id": "R8HpFp02_rbh",
    "outputId": "6d52082e-8fe7-4725-faaa-b48796fd0876"
   },
   "outputs": [
    {
     "data": {
      "text/plain": [
       "((92331, 256), (23083, 256), (92331,), (23083,))"
      ]
     },
     "execution_count": 85,
     "metadata": {},
     "output_type": "execute_result"
    }
   ],
   "source": [
    "X_train_cont.shape, X_test_cont.shape, y_train_cont.shape, y_test_cont.shape\n",
    "\n",
    "X_train_title.shape, X_test_title.shape, y_train_title.shape, y_test_title.shape"
   ]
  },
  {
   "cell_type": "code",
   "execution_count": 86,
   "id": "1245a708",
   "metadata": {},
   "outputs": [],
   "source": [
    "X_train_best, X_test_best, y_train_best, y_test_best = X_train_cont.copy(), X_test_cont.copy(), y_train_cont.copy(), y_test_cont.copy()"
   ]
  },
  {
   "cell_type": "code",
   "execution_count": 105,
   "id": "2573424f",
   "metadata": {},
   "outputs": [],
   "source": [
    "best_vectorizer = content_vectorizer"
   ]
  },
  {
   "cell_type": "markdown",
   "id": "-fxYRkVP_rbi",
   "metadata": {
    "id": "-fxYRkVP_rbi"
   },
   "source": [
    "## Modeling:\n",
    "### Content\n",
    "#### Naive Bayes:"
   ]
  },
  {
   "cell_type": "code",
   "execution_count": 87,
   "id": "HPq9vK8z_rbi",
   "metadata": {
    "colab": {
     "base_uri": "https://localhost:8080/"
    },
    "id": "HPq9vK8z_rbi",
    "outputId": "795688f5-c9e3-41c2-d17f-c4879c2e490d"
   },
   "outputs": [
    {
     "data": {
      "text/plain": [
       "0.6610925789542087"
      ]
     },
     "execution_count": 87,
     "metadata": {},
     "output_type": "execute_result"
    }
   ],
   "source": [
    "clf = MultinomialNB()\n",
    "clf.fit(X=X_train_cont, y=y_train_cont)\n",
    "cont_nb_score = clf.score(X_test_cont, y_test_cont) # accuracy score\n",
    "\n",
    "cont_nb_score"
   ]
  },
  {
   "cell_type": "code",
   "execution_count": 88,
   "id": "9547d179",
   "metadata": {},
   "outputs": [],
   "source": [
    "model = 'tfidf_content'\n",
    "model_dict = {'model': model,\n",
    "              'clf': clf,\n",
    "                 'accuracy': clf.score(X_test_cont, y_test_cont),\n",
    "                 'fpr': {},\n",
    "                 'tpr': {},\n",
    "                 'roc_auc': {}}\n",
    "\n",
    "# Compute ROC curve and ROC area for each class\n",
    "y_score = clf.predict_proba(X_test_cont)\n",
    "fpr = dict()\n",
    "tpr = dict()\n",
    "roc_auc = dict()\n",
    "\n",
    "for i, cls in enumerate(clf.classes_):\n",
    "    fpr[cls], tpr[cls], _ = roc_curve(y_test_cont, y_score[:, i], pos_label=cls)\n",
    "    roc_auc[cls] = auc(fpr[cls], tpr[cls])\n",
    "\n",
    "model_dict['fpr'] = fpr\n",
    "model_dict['tpr'] = tpr\n",
    "model_dict['roc_auc'] = roc_auc\n",
    "\n",
    "models_metrics.append(model_dict)"
   ]
  },
  {
   "cell_type": "markdown",
   "id": "s1ZhjsX4_rbi",
   "metadata": {
    "id": "s1ZhjsX4_rbi"
   },
   "source": [
    "### Title\n",
    "#### Naive Bayes:"
   ]
  },
  {
   "cell_type": "code",
   "execution_count": 29,
   "id": "UQ4f4Y7q_rbj",
   "metadata": {
    "colab": {
     "base_uri": "https://localhost:8080/"
    },
    "id": "UQ4f4Y7q_rbj",
    "outputId": "8e502552-4425-4e63-924d-b4825976a802"
   },
   "outputs": [
    {
     "data": {
      "text/plain": [
       "0.5622752675128883"
      ]
     },
     "execution_count": 29,
     "metadata": {},
     "output_type": "execute_result"
    }
   ],
   "source": [
    "clf = MultinomialNB()\n",
    "clf.fit(X_train_title, y_train_title)\n",
    "title_nb_score = clf.score(X_test_title, y_test_title) # accuracy score\n",
    "\n",
    "title_nb_score"
   ]
  },
  {
   "cell_type": "code",
   "execution_count": 30,
   "id": "65854f3a",
   "metadata": {},
   "outputs": [],
   "source": [
    "model = 'tfidf_title'\n",
    "model_dict = {'model': model,\n",
    "              'clf': clf,\n",
    "                 'accuracy': clf.score(X_test_title, y_test_title),\n",
    "                 'fpr': {},\n",
    "                 'tpr': {},\n",
    "                 'roc_auc': {}}\n",
    "\n",
    "# Compute ROC curve and ROC area for each class\n",
    "y_score = clf.predict_proba(X_test_title)\n",
    "fpr = dict()\n",
    "tpr = dict()\n",
    "roc_auc = dict()\n",
    "\n",
    "for i, cls in enumerate(clf.classes_):\n",
    "    fpr[cls], tpr[cls], _ = roc_curve(y_test_cont, y_score[:, i], pos_label=cls)\n",
    "    roc_auc[cls] = auc(fpr[cls], tpr[cls])\n",
    "\n",
    "model_dict['fpr'] = fpr\n",
    "model_dict['tpr'] = tpr\n",
    "model_dict['roc_auc'] = roc_auc\n",
    "\n",
    "models_metrics.append(model_dict)"
   ]
  },
  {
   "cell_type": "markdown",
   "id": "bxwcp1ff_rbj",
   "metadata": {
    "id": "bxwcp1ff_rbj"
   },
   "source": [
    "# United content and title:\n",
    "## TF-IDF"
   ]
  },
  {
   "cell_type": "code",
   "execution_count": 31,
   "id": "pynnJdcr_rbj",
   "metadata": {
    "colab": {
     "base_uri": "https://localhost:8080/"
    },
    "id": "pynnJdcr_rbj",
    "outputId": "8c011448-1c4e-4198-846c-9ff98cdb94bd"
   },
   "outputs": [
    {
     "name": "stderr",
     "output_type": "stream",
     "text": [
      "0it [00:00, ?it/s]"
     ]
    },
    {
     "name": "stdout",
     "output_type": "stream",
     "text": [
      "(50000, 3)\n"
     ]
    },
    {
     "name": "stderr",
     "output_type": "stream",
     "text": [
      "1it [00:16, 16.36s/it]"
     ]
    },
    {
     "name": "stdout",
     "output_type": "stream",
     "text": [
      "(50000, 3)\n"
     ]
    },
    {
     "name": "stderr",
     "output_type": "stream",
     "text": [
      "2it [00:33, 16.70s/it]"
     ]
    },
    {
     "name": "stdout",
     "output_type": "stream",
     "text": [
      "(15414, 3)\n"
     ]
    },
    {
     "name": "stderr",
     "output_type": "stream",
     "text": [
      "3it [00:38, 12.92s/it]\n"
     ]
    }
   ],
   "source": [
    "# Pre-processing for seperate content and title:\n",
    "\n",
    "vectorizer = TfidfVectorizer(max_features=VEC_SIZE,\n",
    "                             decode_error='ignore',\n",
    "                             lowercase=True,\n",
    "                             stop_words='english',\n",
    "                             analyzer='word'\n",
    "                            )\n",
    "\n",
    "vectors = []\n",
    "labels = []\n",
    "\n",
    "with pd.read_csv(PATH + FILE_NAME, chunksize=CHUNKSIZE, \n",
    "                 usecols=['title', 'content', 'bias'], iterator=True) as reader:\n",
    "    \n",
    "    # Fitting the vectors on the first chunk:\n",
    "    first_chunk = reader.get_chunk()\n",
    "    first_chunk['content'].fillna('', inplace=True)\n",
    "    first_chunk['title'].fillna('', inplace=True)\n",
    "\n",
    "    vectorizer.fit(first_chunk['content'] + first_chunk['title']) \n",
    "    \n",
    "    # Tranforming all data to vectors:\n",
    "    for df_sub in tqdm(reader):\n",
    "        print(df_sub.shape)\n",
    "        df_sub['content'].fillna('', inplace=True)\n",
    "        df_sub['title'].fillna('', inplace=True)\n",
    "        vectors.append(content_vectorizer.transform(df_sub['content'] + df_sub['title']).toarray())\n",
    "        labels.append(df_sub['bias'])      "
   ]
  },
  {
   "cell_type": "code",
   "execution_count": 32,
   "id": "ReWnMfuI_rbk",
   "metadata": {
    "id": "ReWnMfuI_rbk"
   },
   "outputs": [],
   "source": [
    "vectors = np.concatenate(np.array(vectors))\n",
    "labels = np.concatenate(np.array(labels))"
   ]
  },
  {
   "cell_type": "code",
   "execution_count": 33,
   "id": "iYbODUW7_rbk",
   "metadata": {
    "colab": {
     "base_uri": "https://localhost:8080/"
    },
    "id": "iYbODUW7_rbk",
    "outputId": "ce54fa16-6dd3-46ee-ce0d-7788b40519fc"
   },
   "outputs": [
    {
     "data": {
      "text/plain": [
       "((115414, 256), (115414,))"
      ]
     },
     "execution_count": 33,
     "metadata": {},
     "output_type": "execute_result"
    }
   ],
   "source": [
    "vectors.shape, labels.shape"
   ]
  },
  {
   "cell_type": "markdown",
   "id": "tGfcO3Bk_rbk",
   "metadata": {
    "id": "tGfcO3Bk_rbk"
   },
   "source": [
    "### Splitting:"
   ]
  },
  {
   "cell_type": "code",
   "execution_count": 34,
   "id": "kB70bwac_rbk",
   "metadata": {
    "colab": {
     "base_uri": "https://localhost:8080/"
    },
    "id": "kB70bwac_rbk",
    "outputId": "45d42cbf-de9a-488a-c0c2-93894c972569"
   },
   "outputs": [
    {
     "data": {
      "text/plain": [
       "((92331, 256), (23083, 256), (92331,), (23083,))"
      ]
     },
     "execution_count": 34,
     "metadata": {},
     "output_type": "execute_result"
    }
   ],
   "source": [
    "X_train, X_test, y_train, y_test = train_test_split(vectors, labels, test_size=TEST_SIZE,\n",
    "                                                                    random_state=RANDOM_STATE)\n",
    "\n",
    "X_train.shape, X_test.shape, y_train.shape, y_test.shape"
   ]
  },
  {
   "cell_type": "markdown",
   "id": "dzIwQZf__rbl",
   "metadata": {
    "id": "dzIwQZf__rbl"
   },
   "source": [
    "### Modeling:\n",
    "#### Naive Bayes:"
   ]
  },
  {
   "cell_type": "code",
   "execution_count": 35,
   "id": "rfZJvf9v_rbl",
   "metadata": {
    "colab": {
     "base_uri": "https://localhost:8080/"
    },
    "id": "rfZJvf9v_rbl",
    "outputId": "78d0b290-aa3b-467e-b896-ac738da72cca"
   },
   "outputs": [
    {
     "data": {
      "text/plain": [
       "0.6656413811029762"
      ]
     },
     "execution_count": 35,
     "metadata": {},
     "output_type": "execute_result"
    }
   ],
   "source": [
    "clf = MultinomialNB()\n",
    "clf.fit(X=X_train, y=y_train)\n",
    "nb_score = clf.score(X_test, y_test) # accuracy score\n",
    "\n",
    "nb_score"
   ]
  },
  {
   "cell_type": "code",
   "execution_count": 33,
   "id": "80904e2e",
   "metadata": {},
   "outputs": [],
   "source": [
    "model = 'tfidf_both'\n",
    "model_dict = {'model': model,\n",
    "              'clf': clf,\n",
    "                 'accuracy': clf.score(X_test, y_test),\n",
    "                 'fpr': {},\n",
    "                 'tpr': {},\n",
    "                 'roc_auc': {}}\n",
    "\n",
    "# Compute ROC curve and ROC area for each class\n",
    "y_score = clf.predict_proba(X_test)\n",
    "fpr = dict()\n",
    "tpr = dict()\n",
    "roc_auc = dict()\n",
    "\n",
    "for i, cls in enumerate(clf.classes_):\n",
    "    fpr[cls], tpr[cls], _ = roc_curve(y_test_cont, y_score[:, i], pos_label=cls)\n",
    "    roc_auc[cls] = auc(fpr[cls], tpr[cls])\n",
    "\n",
    "model_dict['fpr'] = fpr\n",
    "model_dict['tpr'] = tpr\n",
    "model_dict['roc_auc'] = roc_auc\n",
    "\n",
    "models_metrics.append(model_dict)"
   ]
  },
  {
   "cell_type": "markdown",
   "id": "ab628428",
   "metadata": {
    "id": "ab628428"
   },
   "source": [
    "## 2-gram CountVectorize"
   ]
  },
  {
   "cell_type": "code",
   "execution_count": 36,
   "id": "eY9mhV0L_scG",
   "metadata": {
    "colab": {
     "base_uri": "https://localhost:8080/"
    },
    "id": "eY9mhV0L_scG",
    "outputId": "f84c9476-0a43-4e4d-c45f-db3cdb638bc2"
   },
   "outputs": [
    {
     "name": "stderr",
     "output_type": "stream",
     "text": [
      "0it [00:00, ?it/s]"
     ]
    },
    {
     "name": "stdout",
     "output_type": "stream",
     "text": [
      "(50000, 3)\n"
     ]
    },
    {
     "name": "stderr",
     "output_type": "stream",
     "text": [
      "1it [00:19, 19.63s/it]"
     ]
    },
    {
     "name": "stdout",
     "output_type": "stream",
     "text": [
      "(50000, 3)\n"
     ]
    },
    {
     "name": "stderr",
     "output_type": "stream",
     "text": [
      "2it [00:41, 20.97s/it]"
     ]
    },
    {
     "name": "stdout",
     "output_type": "stream",
     "text": [
      "(15414, 3)\n"
     ]
    },
    {
     "name": "stderr",
     "output_type": "stream",
     "text": [
      "3it [00:48, 16.24s/it]\n"
     ]
    }
   ],
   "source": [
    "# Pre-processing for seperate content and title:\n",
    "content_vectorizer = CountVectorizer(max_features=VEC_SIZE,\n",
    "                             ngram_range=(2,2),\n",
    "                             decode_error='ignore',\n",
    "                             lowercase=True,\n",
    "                             stop_words='english',\n",
    "                             analyzer='word'\n",
    "                            )\n",
    "\n",
    "title_vectorizer = CountVectorizer(max_features=VEC_SIZE,\n",
    "                             ngram_range=(2,2),\n",
    "                             decode_error='ignore',\n",
    "                             lowercase=True,\n",
    "                             stop_words='english',\n",
    "                             analyzer='word'\n",
    "                            )\n",
    "\n",
    "content_vec = []\n",
    "title_vec = []\n",
    "labels = []\n",
    "\n",
    "with pd.read_csv(PATH + FILE_NAME, chunksize=CHUNKSIZE, \n",
    "                 usecols=['title', 'content', 'bias'], iterator=True) as reader:\n",
    "    \n",
    "    # Fitting the vectors on the first chunk:\n",
    "    first_chunk = reader.get_chunk()\n",
    "    first_chunk['content'].fillna('', inplace=True)\n",
    "    first_chunk['title'].fillna('', inplace=True)\n",
    "\n",
    "    content_vectorizer.fit(first_chunk['content']) \n",
    "    title_vectorizer.fit(first_chunk['title'])\n",
    "    \n",
    "    # Tranforming all data to vectors:\n",
    "    for df_sub in tqdm(reader):\n",
    "        print(df_sub.shape)\n",
    "        df_sub['content'].fillna('', inplace=True)\n",
    "        df_sub['title'].fillna('', inplace=True)\n",
    "        content_vec.append(content_vectorizer.transform(df_sub['content']).toarray())\n",
    "        title_vec.append(title_vectorizer.transform(df_sub['title']).toarray())\n",
    "        labels.append(df_sub['bias'])      "
   ]
  },
  {
   "cell_type": "code",
   "execution_count": 37,
   "id": "GK_3Iw00_scI",
   "metadata": {
    "id": "GK_3Iw00_scI"
   },
   "outputs": [],
   "source": [
    "content_vec = np.concatenate(np.array(content_vec))\n",
    "title_vec = np.concatenate(np.array(title_vec))\n",
    "labels = np.concatenate(np.array(labels))"
   ]
  },
  {
   "cell_type": "code",
   "execution_count": 38,
   "id": "TgJpgS4m_scJ",
   "metadata": {
    "colab": {
     "base_uri": "https://localhost:8080/"
    },
    "id": "TgJpgS4m_scJ",
    "outputId": "d52b4e1f-4312-4b6b-d56b-aee1710e01cb"
   },
   "outputs": [
    {
     "data": {
      "text/plain": [
       "((115414, 256), (115414, 256), (115414,))"
      ]
     },
     "execution_count": 38,
     "metadata": {},
     "output_type": "execute_result"
    }
   ],
   "source": [
    "content_vec.shape, title_vec.shape, labels.shape"
   ]
  },
  {
   "cell_type": "markdown",
   "id": "B6xcPWZF_scJ",
   "metadata": {
    "id": "B6xcPWZF_scJ"
   },
   "source": [
    "## Splitting:"
   ]
  },
  {
   "cell_type": "code",
   "execution_count": 39,
   "id": "IB0F-gkg_scK",
   "metadata": {
    "id": "IB0F-gkg_scK"
   },
   "outputs": [],
   "source": [
    "X_train_cont, X_test_cont, y_train_cont, y_test_cont = train_test_split(content_vec, labels, test_size=TEST_SIZE,\n",
    "                                                                    random_state=RANDOM_STATE)\n",
    "\n",
    "X_train_title, X_test_title, y_train_title, y_test_title = train_test_split(title_vec, labels, test_size=TEST_SIZE,\n",
    "                                                                    random_state=RANDOM_STATE)"
   ]
  },
  {
   "cell_type": "code",
   "execution_count": 40,
   "id": "B05PoS1Q_scK",
   "metadata": {
    "colab": {
     "base_uri": "https://localhost:8080/"
    },
    "id": "B05PoS1Q_scK",
    "outputId": "6d52082e-8fe7-4725-faaa-b48796fd0876"
   },
   "outputs": [
    {
     "data": {
      "text/plain": [
       "((92331, 256), (23083, 256), (92331,), (23083,))"
      ]
     },
     "execution_count": 40,
     "metadata": {},
     "output_type": "execute_result"
    }
   ],
   "source": [
    "X_train_cont.shape, X_test_cont.shape, y_train_cont.shape, y_test_cont.shape\n",
    "\n",
    "X_train_title.shape, X_test_title.shape, y_train_title.shape, y_test_title.shape"
   ]
  },
  {
   "cell_type": "markdown",
   "id": "zDrabDSi_scM",
   "metadata": {
    "id": "zDrabDSi_scM"
   },
   "source": [
    "## Modeling:\n",
    "### Content\n",
    "#### Naive Bayes:"
   ]
  },
  {
   "cell_type": "code",
   "execution_count": 41,
   "id": "ofP6c1g8_scN",
   "metadata": {
    "colab": {
     "base_uri": "https://localhost:8080/"
    },
    "id": "ofP6c1g8_scN",
    "outputId": "795688f5-c9e3-41c2-d17f-c4879c2e490d",
    "scrolled": true
   },
   "outputs": [
    {
     "data": {
      "text/plain": [
       "0.5710262964086124"
      ]
     },
     "execution_count": 41,
     "metadata": {},
     "output_type": "execute_result"
    }
   ],
   "source": [
    "clf = MultinomialNB()\n",
    "clf.fit(X=X_train_cont, y=y_train_cont)\n",
    "cont_nb_score = clf.score(X_test_cont, y_test_cont) # accuracy score\n",
    "\n",
    "cont_nb_score"
   ]
  },
  {
   "cell_type": "code",
   "execution_count": 42,
   "id": "10d138bd",
   "metadata": {},
   "outputs": [],
   "source": [
    "model = '2gram_content'\n",
    "model_dict = {'model': model,\n",
    "              'clf': clf,\n",
    "                 'accuracy': clf.score(X_test_cont, y_test_cont),\n",
    "                 'fpr': {},\n",
    "                 'tpr': {},\n",
    "                 'roc_auc': {}}\n",
    "\n",
    "# Compute ROC curve and ROC area for each class\n",
    "y_score = clf.predict_proba(X_test_cont)\n",
    "fpr = dict()\n",
    "tpr = dict()\n",
    "roc_auc = dict()\n",
    "\n",
    "for i, cls in enumerate(clf.classes_):\n",
    "    fpr[cls], tpr[cls], _ = roc_curve(y_test_cont, y_score[:, i], pos_label=cls)\n",
    "    roc_auc[cls] = auc(fpr[cls], tpr[cls])\n",
    "\n",
    "model_dict['fpr'] = fpr\n",
    "model_dict['tpr'] = tpr\n",
    "model_dict['roc_auc'] = roc_auc\n",
    "\n",
    "models_metrics.append(model_dict)"
   ]
  },
  {
   "cell_type": "markdown",
   "id": "H9ypLX9C_scN",
   "metadata": {
    "id": "H9ypLX9C_scN"
   },
   "source": [
    "### Title\n",
    "#### Naive Bayes:"
   ]
  },
  {
   "cell_type": "code",
   "execution_count": 43,
   "id": "jBC1TvYX_scO",
   "metadata": {
    "colab": {
     "base_uri": "https://localhost:8080/"
    },
    "id": "jBC1TvYX_scO",
    "outputId": "8e502552-4425-4e63-924d-b4825976a802"
   },
   "outputs": [
    {
     "data": {
      "text/plain": [
       "0.48152319889095874"
      ]
     },
     "execution_count": 43,
     "metadata": {},
     "output_type": "execute_result"
    }
   ],
   "source": [
    "clf = MultinomialNB()\n",
    "clf.fit(X_train_title, y_train_title)\n",
    "title_nb_score = clf.score(X_test_title, y_test_title) # accuracy score\n",
    "\n",
    "title_nb_score"
   ]
  },
  {
   "cell_type": "code",
   "execution_count": 44,
   "id": "389cc0f5",
   "metadata": {},
   "outputs": [],
   "source": [
    "model = '2gram_title'\n",
    "model_dict = {'model': model,\n",
    "              'clf': clf,\n",
    "                 'accuracy': clf.score(X_test_title, y_test_title),\n",
    "                 'fpr': {},\n",
    "                 'tpr': {},\n",
    "                 'roc_auc': {}}\n",
    "\n",
    "# Compute ROC curve and ROC area for each class\n",
    "y_score = clf.predict_proba(X_test_title)\n",
    "fpr = dict()\n",
    "tpr = dict()\n",
    "roc_auc = dict()\n",
    "\n",
    "for i, cls in enumerate(clf.classes_):\n",
    "    fpr[cls], tpr[cls], _ = roc_curve(y_test_cont, y_score[:, i], pos_label=cls)\n",
    "    roc_auc[cls] = auc(fpr[cls], tpr[cls])\n",
    "\n",
    "model_dict['fpr'] = fpr\n",
    "model_dict['tpr'] = tpr\n",
    "model_dict['roc_auc'] = roc_auc\n",
    "\n",
    "models_metrics.append(model_dict)"
   ]
  },
  {
   "cell_type": "markdown",
   "id": "pHC9fQbE_scP",
   "metadata": {
    "id": "pHC9fQbE_scP"
   },
   "source": [
    "# United content and title:\n",
    "## 2-gram"
   ]
  },
  {
   "cell_type": "code",
   "execution_count": 45,
   "id": "Iy74Lup1_scP",
   "metadata": {
    "colab": {
     "base_uri": "https://localhost:8080/"
    },
    "id": "Iy74Lup1_scP",
    "outputId": "8c011448-1c4e-4198-846c-9ff98cdb94bd"
   },
   "outputs": [
    {
     "name": "stderr",
     "output_type": "stream",
     "text": [
      "0it [00:00, ?it/s]"
     ]
    },
    {
     "name": "stdout",
     "output_type": "stream",
     "text": [
      "(50000, 3)\n"
     ]
    },
    {
     "name": "stderr",
     "output_type": "stream",
     "text": [
      "1it [00:19, 19.49s/it]"
     ]
    },
    {
     "name": "stdout",
     "output_type": "stream",
     "text": [
      "(50000, 3)\n"
     ]
    },
    {
     "name": "stderr",
     "output_type": "stream",
     "text": [
      "2it [00:43, 22.41s/it]"
     ]
    },
    {
     "name": "stdout",
     "output_type": "stream",
     "text": [
      "(15414, 3)\n"
     ]
    },
    {
     "name": "stderr",
     "output_type": "stream",
     "text": [
      "3it [00:51, 17.07s/it]\n"
     ]
    }
   ],
   "source": [
    "# Pre-processing for seperate content and title:\n",
    "\n",
    "vectorizer = CountVectorizer(max_features=VEC_SIZE,\n",
    "                             ngram_range=(2,2),\n",
    "                             decode_error='ignore',\n",
    "                             lowercase=True,\n",
    "                             stop_words='english',\n",
    "                             analyzer='word'\n",
    "                            )\n",
    "\n",
    "vectors = []\n",
    "labels = []\n",
    "\n",
    "with pd.read_csv(PATH + FILE_NAME, chunksize=CHUNKSIZE, \n",
    "                 usecols=['title', 'content', 'bias'], iterator=True) as reader:\n",
    "    \n",
    "    # Fitting the vectors on the first chunk:\n",
    "    first_chunk = reader.get_chunk()\n",
    "    first_chunk['content'].fillna('', inplace=True)\n",
    "    first_chunk['title'].fillna('', inplace=True)\n",
    "\n",
    "    vectorizer.fit(first_chunk['content'] + first_chunk['title']) \n",
    "    \n",
    "    # Tranforming all data to vectors:\n",
    "    for df_sub in tqdm(reader):\n",
    "        print(df_sub.shape)\n",
    "        df_sub['content'].fillna('', inplace=True)\n",
    "        df_sub['title'].fillna('', inplace=True)\n",
    "        vectors.append(content_vectorizer.transform(df_sub['content'] + df_sub['title']).toarray())\n",
    "        labels.append(df_sub['bias'])      "
   ]
  },
  {
   "cell_type": "code",
   "execution_count": 46,
   "id": "M8yQUicI_scQ",
   "metadata": {
    "id": "M8yQUicI_scQ"
   },
   "outputs": [],
   "source": [
    "vectors = np.concatenate(np.array(vectors))\n",
    "labels = np.concatenate(np.array(labels))"
   ]
  },
  {
   "cell_type": "code",
   "execution_count": 47,
   "id": "cW1F4iQ4_scR",
   "metadata": {
    "colab": {
     "base_uri": "https://localhost:8080/"
    },
    "id": "cW1F4iQ4_scR",
    "outputId": "ce54fa16-6dd3-46ee-ce0d-7788b40519fc"
   },
   "outputs": [
    {
     "data": {
      "text/plain": [
       "((115414, 256), (115414,))"
      ]
     },
     "execution_count": 47,
     "metadata": {},
     "output_type": "execute_result"
    }
   ],
   "source": [
    "vectors.shape, labels.shape"
   ]
  },
  {
   "cell_type": "markdown",
   "id": "TfKsJXBr_scR",
   "metadata": {
    "id": "TfKsJXBr_scR"
   },
   "source": [
    "### Splitting:"
   ]
  },
  {
   "cell_type": "code",
   "execution_count": 48,
   "id": "tUbcICS5_scS",
   "metadata": {
    "colab": {
     "base_uri": "https://localhost:8080/"
    },
    "id": "tUbcICS5_scS",
    "outputId": "45d42cbf-de9a-488a-c0c2-93894c972569"
   },
   "outputs": [
    {
     "data": {
      "text/plain": [
       "((92331, 256), (23083, 256), (92331,), (23083,))"
      ]
     },
     "execution_count": 48,
     "metadata": {},
     "output_type": "execute_result"
    }
   ],
   "source": [
    "X_train, X_test, y_train, y_test = train_test_split(vectors, labels, test_size=TEST_SIZE,\n",
    "                                                                    random_state=RANDOM_STATE)\n",
    "\n",
    "X_train.shape, X_test.shape, y_train.shape, y_test.shape"
   ]
  },
  {
   "cell_type": "markdown",
   "id": "nTyGZoET_scS",
   "metadata": {
    "id": "nTyGZoET_scS"
   },
   "source": [
    "### Modeling:\n",
    "#### Naive Bayes:"
   ]
  },
  {
   "cell_type": "code",
   "execution_count": 49,
   "id": "AJyCmrLG_scT",
   "metadata": {
    "colab": {
     "base_uri": "https://localhost:8080/"
    },
    "id": "AJyCmrLG_scT",
    "outputId": "78d0b290-aa3b-467e-b896-ac738da72cca"
   },
   "outputs": [
    {
     "data": {
      "text/plain": [
       "0.5707230429320279"
      ]
     },
     "execution_count": 49,
     "metadata": {},
     "output_type": "execute_result"
    }
   ],
   "source": [
    "clf = MultinomialNB()\n",
    "clf.fit(X=X_train, y=y_train)\n",
    "nb_score = clf.score(X_test, y_test) # accuracy score\n",
    "\n",
    "nb_score"
   ]
  },
  {
   "cell_type": "code",
   "execution_count": 50,
   "id": "f1eeb595",
   "metadata": {},
   "outputs": [],
   "source": [
    "model = '2gram_both'\n",
    "model_dict = {'model': model,\n",
    "              'clf': clf,\n",
    "                 'accuracy': clf.score(X_test, y_test),\n",
    "                 'fpr': {},\n",
    "                 'tpr': {},\n",
    "                 'roc_auc': {}}\n",
    "\n",
    "# Compute ROC curve and ROC area for each class\n",
    "y_score = clf.predict_proba(X_test)\n",
    "fpr = dict()\n",
    "tpr = dict()\n",
    "roc_auc = dict()\n",
    "\n",
    "for i, cls in enumerate(clf.classes_):\n",
    "    fpr[cls], tpr[cls], _ = roc_curve(y_test_cont, y_score[:, i], pos_label=cls)\n",
    "    roc_auc[cls] = auc(fpr[cls], tpr[cls])\n",
    "\n",
    "model_dict['fpr'] = fpr\n",
    "model_dict['tpr'] = tpr\n",
    "model_dict['roc_auc'] = roc_auc\n",
    "\n",
    "models_metrics.append(model_dict)"
   ]
  },
  {
   "cell_type": "code",
   "execution_count": 51,
   "id": "7dd0fbb3",
   "metadata": {},
   "outputs": [
    {
     "data": {
      "text/plain": [
       "0.6722440408008664"
      ]
     },
     "execution_count": 51,
     "metadata": {},
     "output_type": "execute_result"
    }
   ],
   "source": [
    "roc_auc_score(y_test, y_score, multi_class='ovr')"
   ]
  },
  {
   "cell_type": "markdown",
   "id": "b8e40b4b",
   "metadata": {},
   "source": [
    "# Summary:"
   ]
  },
  {
   "cell_type": "markdown",
   "id": "4ab531bb",
   "metadata": {},
   "source": [
    "## ROC Curves:"
   ]
  },
  {
   "cell_type": "code",
   "execution_count": 52,
   "id": "9dbdb382",
   "metadata": {},
   "outputs": [],
   "source": [
    "# First aggregate all false positive rates\n",
    "for model in models_metrics:\n",
    "    model['all_fpr'] = np.unique(np.concatenate([model['fpr'][label] for label in CLASSES.keys()]))  \n",
    "# Then interpolate all ROC curves at this points\n",
    "    model['mean_tpr'] = np.zeros_like(model['all_fpr'])\n",
    "    for label in CLASSES.keys():\n",
    "        model['mean_tpr'] += np.interp(model['all_fpr'], model['fpr'][label], model['tpr'][label])\n",
    "\n",
    "# Finally average it and compute AUC\n",
    "    model['mean_tpr'] /= N_CLASSES\n",
    "    model['avg_auc'] = auc(model['all_fpr'], model['mean_tpr'])"
   ]
  },
  {
   "cell_type": "code",
   "execution_count": 79,
   "id": "a7496c15",
   "metadata": {},
   "outputs": [
    {
     "data": {
      "image/png": "[encoded data removed]",
      "text/plain": [
       "<Figure size 432x288 with 1 Axes>"
      ]
     },
     "metadata": {
      "needs_background": "light"
     },
     "output_type": "display_data"
    }
   ],
   "source": [
    "# fig, ax = plt.subplots(1, 3, figsize=(20, 10))\n",
    "\n",
    "for model in models_metrics:\n",
    "    plt_label = f\"{model['model']}, Accuracy={round(model['accuracy'],2)}, AUC={round(model['avg_auc'], 2)}\"\n",
    "    plt.plot(model['all_fpr'], model['mean_tpr'], label=plt_label)\n",
    "\n",
    "    plt.title(f'ROC Curve')\n",
    "    plt.xlabel('False Positive Rate')\n",
    "    plt.ylabel('True Positive Rate')\n",
    "    lgd = plt.legend(bbox_to_anchor=(1, 1))\n",
    "    plt.plot([0, 1], [0, 1], color=\"gray\", linestyle=\"--\")\n",
    "plt.savefig('C:/ITC/final project/fake news/bias/Baseline/ROC_avg.jpg', bbox_inches='tight')\n"
   ]
  },
  {
   "cell_type": "code",
   "execution_count": 80,
   "id": "71df43ec",
   "metadata": {
    "scrolled": true
   },
   "outputs": [
    {
     "data": {
      "image/png": "[encoded data removed]",
      "text/plain": [
       "<Figure size 1440x432 with 3 Axes>"
      ]
     },
     "metadata": {
      "needs_background": "light"
     },
     "output_type": "display_data"
    }
   ],
   "source": [
    "fig, ax = plt.subplots(1, 3, figsize=(20, 6))\n",
    "\n",
    "for i, label in enumerate(CLASSES.keys()):\n",
    "    for model in models_metrics:\n",
    "        plt_label = f\"{model['model']}, AUC={round(model['roc_auc'][label], 2)}\"\n",
    "        ax[i].plot(model['fpr'][label], model['tpr'][label], label=plt_label)\n",
    "        \n",
    "    ax[i].set_title(f'ROC Curve For {CLASSES[label]} Bias Classification')\n",
    "    ax[i].set_xlabel('False Positive Rate')\n",
    "    ax[i].set_ylabel('True Positive Rate')\n",
    "    ax[i].legend()\n",
    "    ax[i].plot([0, 1], [0, 1], color=\"gray\", linestyle=\"--\")\n",
    "\n",
    "fig.savefig('C:/ITC/final project/fake news/bias/Baseline/ROC_per_class.jpg', bbox_inches='tight')\n"
   ]
  },
  {
   "cell_type": "markdown",
   "id": "9573d796",
   "metadata": {},
   "source": [
    "## Feature importance:"
   ]
  },
  {
   "cell_type": "code",
   "execution_count": 161,
   "id": "4b76360d",
   "metadata": {},
   "outputs": [],
   "source": [
    "from sklearn.linear_model import LogisticRegression\n",
    "from matplotlib.ticker import FormatStrFormatter"
   ]
  },
  {
   "cell_type": "code",
   "execution_count": 68,
   "id": "cce1e5fc",
   "metadata": {},
   "outputs": [],
   "source": [
    "best_model = [model for model in models_metrics if model['model'] == 'tfidf_content'][0]"
   ]
  },
  {
   "cell_type": "code",
   "execution_count": 70,
   "id": "fdf40b27",
   "metadata": {},
   "outputs": [],
   "source": [
    "best_clf = best_model['clf']"
   ]
  },
  {
   "cell_type": "code",
   "execution_count": 71,
   "id": "e6bbb131",
   "metadata": {},
   "outputs": [],
   "source": [
    "best_coef = best_clf.coef_"
   ]
  },
  {
   "cell_type": "code",
   "execution_count": 114,
   "id": "f7c63e28",
   "metadata": {},
   "outputs": [],
   "source": [
    "lr = LogisticRegression(multi_class='multinomial')\n",
    "lr.fit(X_train_best, y_train_best)\n",
    "lr_pred = lr.predict(X_test_best)\n",
    "coeff = lr.coef_"
   ]
  },
  {
   "cell_type": "code",
   "execution_count": 130,
   "id": "61d4f0d2",
   "metadata": {
    "scrolled": true
   },
   "outputs": [
    {
     "data": {
      "text/plain": [
       "0.7038946410778495"
      ]
     },
     "execution_count": 130,
     "metadata": {},
     "output_type": "execute_result"
    }
   ],
   "source": [
    "lr.score(X_test_best, y_test_best)"
   ]
  },
  {
   "cell_type": "code",
   "execution_count": 156,
   "id": "26d16a19",
   "metadata": {},
   "outputs": [],
   "source": [
    "features = np.array(list(best_vectorizer.vocabulary_.keys()))\n",
    "imp_coeff_cls = []\n",
    "feat_imp_cls = []\n",
    "classes = best_clf.classes_\n",
    "\n",
    "for i in range(N_CLASSES):    \n",
    "    features_imp = features[np.abs(coeff[i]).argsort()]\n",
    "    abs_coeff = sorted(np.abs(coeff[i]))[0]\n",
    "    features_imp_coeff = sorted(abs_coeff*np.std(X_train_best, 0))\n",
    "    feat_imp_cls.append(features_imp)\n",
    "    imp_coeff_cls.append(features_imp_coeff)"
   ]
  },
  {
   "cell_type": "code",
   "execution_count": 170,
   "id": "969c3102",
   "metadata": {},
   "outputs": [
    {
     "data": {
      "image/png": "[encoded data removed]",
      "text/plain": [
       "<Figure size 1440x1440 with 1 Axes>"
      ]
     },
     "metadata": {
      "needs_background": "light"
     },
     "output_type": "display_data"
    },
    {
     "data": {
      "image/png": "[encoded data removed]",
      "text/plain": [
       "<Figure size 1440x1440 with 1 Axes>"
      ]
     },
     "metadata": {
      "needs_background": "light"
     },
     "output_type": "display_data"
    },
    {
     "data": {
      "image/png": "[encoded data removed]",
      "text/plain": [
       "<Figure size 1440x1440 with 1 Axes>"
      ]
     },
     "metadata": {
      "needs_background": "light"
     },
     "output_type": "display_data"
    }
   ],
   "source": [
    "for i, label in enumerate(CLASSES.keys()):\n",
    "    fig = plt.figure(figsize=(20, 20))\n",
    "    plt.barh(feat_imp_cls[i][:10], imp_coeff_cls[i][:10])\n",
    "    plt.title(f'Feature Importance - {CLASSES[classes[i]]}', fontsize=50)\n",
    "    plt.tick_params(axis='x', labelsize=25)\n",
    "    plt.tick_params(axis='y', labelsize=25)\n",
    "    plt.gca().xaxis.set_major_formatter(FormatStrFormatter('%.5f'))\n",
    "    plt.savefig(f'C:/ITC/final project/fake news/bias/Baseline/feature_importance_top10_{CLASSES[classes[i]]}.jpg')\n",
    "    plt.show();"
   ]
  },
  {
   "cell_type": "code",
   "execution_count": null,
   "id": "b306a08f",
   "metadata": {},
   "outputs": [],
   "source": []
  }
 ],
 "metadata": {
  "colab": {
   "name": "Baseline_left_center_right_NB.ipynb",
   "provenance": []
  },
  "kernelspec": {
   "display_name": "Python 3",
   "language": "python",
   "name": "python3"
  },
  "language_info": {
   "codemirror_mode": {
    "name": "ipython",
    "version": 3
   },
   "file_extension": ".py",
   "mimetype": "text/x-python",
   "name": "python",
   "nbconvert_exporter": "python",
   "pygments_lexer": "ipython3",
   "version": "3.8.8"
  }
 },
 "nbformat": 4,
 "nbformat_minor": 5
}
